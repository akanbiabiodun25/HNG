{
  "metadata": {
    "kernelspec": {
      "name": "python3",
      "display_name": "Python 3",
      "language": "python"
    },
    "language_info": {
      "name": "python",
      "version": "3.10.14",
      "mimetype": "text/x-python",
      "codemirror_mode": {
        "name": "ipython",
        "version": 3
      },
      "pygments_lexer": "ipython3",
      "nbconvert_exporter": "python",
      "file_extension": ".py"
    },
    "colab": {
      "name": "Day 1 - Prompting a31767",
      "provenance": [],
      "include_colab_link": true
    },
    "kaggle": {
      "accelerator": "none",
      "dataSources": [],
      "dockerImageVersionId": 30786,
      "isInternetEnabled": true,
      "language": "python",
      "sourceType": "notebook",
      "isGpuEnabled": false
    }
  },
  "nbformat_minor": 0,
  "nbformat": 4,
  "cells": [
    {
      "cell_type": "markdown",
      "metadata": {
        "id": "view-in-github",
        "colab_type": "text"
      },
      "source": [
        "<a href=\"https://colab.research.google.com/github/akanbiabiodun25/HNG/blob/main/Day_1_Prompting_a31767.ipynb\" target=\"_parent\"><img src=\"https://colab.research.google.com/assets/colab-badge.svg\" alt=\"Open In Colab\"/></a>"
      ]
    },
    {
      "cell_type": "markdown",
      "source": [
        "##### Copyright 2025 Google LLC."
      ],
      "metadata": {
        "id": "jkxRSYjzA1oX"
      }
    },
    {
      "cell_type": "code",
      "source": [
        "# @title Licensed under the Apache License, Version 2.0 (the \"License\");\n",
        "# you may not use this file except in compliance with the License.\n",
        "# You may obtain a copy of the License at\n",
        "#\n",
        "# https://www.apache.org/licenses/LICENSE-2.0\n",
        "#\n",
        "# Unless required by applicable law or agreed to in writing, software\n",
        "# distributed under the License is distributed on an \"AS IS\" BASIS,\n",
        "# WITHOUT WARRANTIES OR CONDITIONS OF ANY KIND, either express or implied.\n",
        "# See the License for the specific language governing permissions and\n",
        "# limitations under the License."
      ],
      "metadata": {
        "cellView": "form",
        "id": "5u5OZ2ShA3BA",
        "trusted": true,
        "execution": {
          "iopub.status.busy": "2025-03-30T22:29:32.195248Z",
          "iopub.execute_input": "2025-03-30T22:29:32.195665Z",
          "iopub.status.idle": "2025-03-30T22:29:32.200799Z",
          "shell.execute_reply.started": "2025-03-30T22:29:32.195629Z",
          "shell.execute_reply": "2025-03-30T22:29:32.199638Z"
        }
      },
      "outputs": [],
      "execution_count": null
    },
    {
      "cell_type": "markdown",
      "source": [
        "# Day 1 - Prompting\n",
        "\n",
        "Welcome to the Kaggle 5-day Generative AI course!\n",
        "\n",
        "This notebook will show you how to get started with the Gemini API and walk you through some of the example prompts and techniques that you can also read about in the Prompting whitepaper. You don't need to read the whitepaper to use this notebook, but the papers will give you some theoretical context and background to complement this interactive notebook.\n",
        "\n",
        "\n",
        "## Before you begin\n",
        "\n",
        "In this notebook, you'll start exploring prompting using the Python SDK and AI Studio. For some inspiration, you might enjoy exploring some apps that have been built using the Gemini family of models. Here are a few that we like, and we think you will too.\n",
        "\n",
        "* [TextFX](https://textfx.withgoogle.com/) is a suite of AI-powered tools for rappers, made in collaboration with Lupe Fiasco,\n",
        "* [SQL Talk](https://sql-talk-r5gdynozbq-uc.a.run.app/) shows how you can talk directly to a database using the Gemini API,\n",
        "* [NotebookLM](https://notebooklm.google/) uses Gemini models to build your own personal AI research assistant.\n",
        "\n",
        "\n",
        "## For help\n",
        "\n",
        "**Common issues are covered in the [FAQ and troubleshooting guide](https://www.kaggle.com/code/markishere/day-0-troubleshooting-and-faqs).**\n",
        "\n",
        "## New for Gemini 2.0!\n",
        "\n",
        "This course material was first launched in November 2024. The AI and LLM space is moving incredibly fast, so we have made some updates to use the latest models and capabilities.\n",
        "\n",
        "* These codelabs have been updated to use the Gemini 2.0 family of models.\n",
        "* The Python SDK has been updated from `google-generativeai` to the new, unified [`google-genai`](https://pypi.org/project/google-genai) SDK.\n",
        "  * This new SDK works with both the developer Gemini API as well as Google Cloud Vertex AI, and switching is [as simple as changing some fields](https://pypi.org/project/google-genai/#:~:text=.Client%28%29-,API%20Selection,-By%20default%2C%20the).\n",
        "* New model capabilities have been added to the relevant codelabs, such as \"thinking mode\" in this lab.\n",
        "* Day 1 includes a new [Evaluation codelab](https://www.kaggle.com/code/markishere/day-1-evaluation-and-structured-output)."
      ],
      "metadata": {
        "id": "csNPnkuCobmG"
      }
    },
    {
      "cell_type": "markdown",
      "source": [
        "## Get started with Kaggle notebooks\n",
        "\n",
        "If this is your first time using a Kaggle notebook, welcome! You can read about how to use Kaggle notebooks [in the docs](https://www.kaggle.com/docs/notebooks).\n",
        "\n",
        "First, you will need to phone verify your account at kaggle.com/settings.\n",
        "\n",
        "![](https://storage.googleapis.com/kaggle-media/Images/5dgai_0.png)"
      ],
      "metadata": {
        "id": "f00ea7c99e44"
      }
    },
    {
      "cell_type": "markdown",
      "source": [
        "To run this notebook, as well as the others in this course, you will need to make a copy, or fork, the notebook. Look for the `Copy and Edit` button in the top-right, and **click it** to make an editable, private copy of the notebook. It should look like this one:\n",
        "\n",
        "![Copy and Edit button](https://storage.googleapis.com/kaggle-media/Images/5gdai_sc_1.png)\n",
        "\n",
        "Your copy will now have a ▶️ **Run** button next to each code cell that you can press to execute that cell. These notebooks are expected to be run in order from top-to-bottom, but you are encouraged to add new cells, run your own code and explore. If you get stuck, you can try the `Factory reset` option in the `Run` menu, or head back to the original notebook and make a fresh copy.\n",
        "\n",
        "![Run cell button](https://storage.googleapis.com/kaggle-media/Images/5gdai_sc_2.png)\n",
        "\n",
        "### Problems?\n",
        "\n",
        "If you have any problems, head over to the [Kaggle Discord](https://discord.com/invite/kaggle), find the [`#5dgai-q-and-a` channel](https://discord.com/channels/1101210829807956100/1303438695143178251) and ask for help."
      ],
      "metadata": {
        "id": "pk0xcrsFTeZm"
      }
    },
    {
      "cell_type": "markdown",
      "source": [
        "## Get started with the Gemini API\n",
        "\n",
        "All of the exercises in this notebook will use the [Gemini API](https://ai.google.dev/gemini-api/) by way of the [Python SDK](https://pypi.org/project/google-genai/). Each of these prompts can be accessed directly in [Google AI Studio](https://aistudio.google.com/) too, so if you would rather use a web interface and skip the code for this activity, look for the <img src=\"https://ai.google.dev/site-assets/images/marketing/home/icon-ais.png\" style=\"height: 24px\" height=24/> AI Studio link on each prompt."
      ],
      "metadata": {
        "id": "ExkOXcPxtTb5"
      }
    },
    {
      "cell_type": "markdown",
      "source": [
        "Next, you will need to add your API key to your Kaggle Notebook as a Kaggle User Secret.\n",
        "\n",
        "![](https://storage.googleapis.com/kaggle-media/Images/5dgai_1.png)\n",
        "![](https://storage.googleapis.com/kaggle-media/Images/5dgai_2.png)\n",
        "![](https://storage.googleapis.com/kaggle-media/Images/5dgai_3.png)\n",
        "![](https://storage.googleapis.com/kaggle-media/Images/5dgai_4.png)"
      ],
      "metadata": {
        "id": "EhNmqWJiTeZo"
      }
    },
    {
      "cell_type": "markdown",
      "source": [
        "### Install the SDK"
      ],
      "metadata": {
        "id": "UAjUV3BsvFXQ"
      }
    },
    {
      "cell_type": "code",
      "source": [
        "!pip uninstall -qy jupyterlab  # Remove unused packages from Kaggle's base image that conflict\n",
        "!pip install -U -q \"google-genai==1.7.0\""
      ],
      "metadata": {
        "id": "NzwzJFU9LqkJ",
        "trusted": true,
        "execution": {
          "iopub.status.busy": "2025-03-30T22:29:32.203234Z",
          "iopub.execute_input": "2025-03-30T22:29:32.203723Z",
          "iopub.status.idle": "2025-03-30T22:29:44.571091Z",
          "shell.execute_reply.started": "2025-03-30T22:29:32.203678Z",
          "shell.execute_reply": "2025-03-30T22:29:44.56953Z"
        },
        "outputId": "bd378b63-f9d0-485f-bc5b-c5717f4ae29d"
      },
      "outputs": [
        {
          "name": "stdout",
          "text": "\u001b[33mWARNING: Skipping jupyterlab as it is not installed.\u001b[0m\u001b[33m\n\u001b[0m",
          "output_type": "stream"
        }
      ],
      "execution_count": null
    },
    {
      "cell_type": "markdown",
      "source": [
        "Import the SDK and some helpers for rendering the output."
      ],
      "metadata": {
        "id": "BD32L_kyTeZq"
      }
    },
    {
      "cell_type": "code",
      "source": [
        "from google import genai\n",
        "from google.genai import types\n",
        "\n",
        "from IPython.display import HTML, Markdown, display"
      ],
      "metadata": {
        "id": "5DwxYIRavMST",
        "trusted": true,
        "execution": {
          "iopub.status.busy": "2025-03-30T22:29:44.572913Z",
          "iopub.execute_input": "2025-03-30T22:29:44.573274Z",
          "iopub.status.idle": "2025-03-30T22:29:44.579701Z",
          "shell.execute_reply.started": "2025-03-30T22:29:44.573239Z",
          "shell.execute_reply": "2025-03-30T22:29:44.578226Z"
        }
      },
      "outputs": [],
      "execution_count": null
    },
    {
      "cell_type": "markdown",
      "source": [
        "Set up a retry helper. This allows you to \"Run all\" without worrying about per-minute quota."
      ],
      "metadata": {
        "id": "2KPQ76M6TeZr"
      }
    },
    {
      "cell_type": "code",
      "source": [
        "from google.api_core import retry\n",
        "\n",
        "\n",
        "is_retriable = lambda e: (isinstance(e, genai.errors.APIError) and e.code in {429, 503})\n",
        "\n",
        "genai.models.Models.generate_content = retry.Retry(\n",
        "    predicate=is_retriable)(genai.models.Models.generate_content)"
      ],
      "metadata": {
        "trusted": true,
        "execution": {
          "iopub.status.busy": "2025-03-30T22:29:44.58114Z",
          "iopub.execute_input": "2025-03-30T22:29:44.581474Z",
          "iopub.status.idle": "2025-03-30T22:29:44.598942Z",
          "shell.execute_reply.started": "2025-03-30T22:29:44.581441Z",
          "shell.execute_reply": "2025-03-30T22:29:44.597961Z"
        },
        "id": "fgmn6DSpTeZr"
      },
      "outputs": [],
      "execution_count": null
    },
    {
      "cell_type": "markdown",
      "source": [
        "### Set up your API key\n",
        "\n",
        "To run the following cell, your API key must be stored it in a [Kaggle secret](https://www.kaggle.com/discussions/product-feedback/114053) named `GOOGLE_API_KEY`.\n",
        "\n",
        "If you don't already have an API key, you can grab one from [AI Studio](https://aistudio.google.com/app/apikey). You can find [detailed instructions in the docs](https://ai.google.dev/gemini-api/docs/api-key).\n",
        "\n",
        "To make the key available through Kaggle secrets, choose `Secrets` from the `Add-ons` menu and follow the instructions to add your key or enable it for this notebook."
      ],
      "metadata": {
        "id": "DNEt2BCOvOJ1"
      }
    },
    {
      "cell_type": "code",
      "source": [
        "from kaggle_secrets import UserSecretsClient\n",
        "\n",
        "GOOGLE_API_KEY = UserSecretsClient().get_secret(\"GOOGLE_API_KEY\")"
      ],
      "metadata": {
        "id": "SHl0bkPCvayd",
        "trusted": true,
        "execution": {
          "iopub.status.busy": "2025-03-30T22:29:44.602007Z",
          "iopub.execute_input": "2025-03-30T22:29:44.602383Z",
          "iopub.status.idle": "2025-03-30T22:29:44.791131Z",
          "shell.execute_reply.started": "2025-03-30T22:29:44.602349Z",
          "shell.execute_reply": "2025-03-30T22:29:44.790316Z"
        }
      },
      "outputs": [],
      "execution_count": null
    },
    {
      "cell_type": "markdown",
      "source": [
        "If you received an error response along the lines of `No user secrets exist for kernel id ...`, then you need to add your API key via `Add-ons`, `Secrets` **and** enable it.\n",
        "\n",
        "![Screenshot of the checkbox to enable GOOGLE_API_KEY secret](https://storage.googleapis.com/kaggle-media/Images/5gdai_sc_3.png)"
      ],
      "metadata": {
        "id": "4e720472fd86"
      }
    },
    {
      "cell_type": "markdown",
      "source": [
        "### Run your first prompt\n",
        "\n",
        "In this step, you will test that your API key is set up correctly by making a request.\n",
        "\n",
        "The Python SDK uses a [`Client` object](https://googleapis.github.io/python-genai/genai.html#genai.client.Client) to make requests to the API. The client lets you control which back-end to use (between the Gemini API and Vertex AI) and handles authentication (the API key).\n",
        "\n",
        "The `gemini-2.0-flash` model has been selected here.\n",
        "\n",
        "**Note**: If you see a `TransportError` on this step, you may need to **🔁 Factory reset** the notebook one time."
      ],
      "metadata": {
        "id": "H_YXCYIKvyZJ"
      }
    },
    {
      "cell_type": "code",
      "source": [
        "client = genai.Client(api_key=GOOGLE_API_KEY)\n",
        "\n",
        "response = client.models.generate_content(\n",
        "    model=\"gemini-2.0-flash\",\n",
        "    contents=\"Explain AI to me like I'm a kid.\")\n",
        "\n",
        "print(response.text)"
      ],
      "metadata": {
        "id": "BV1o0PmcvyJF",
        "trusted": true,
        "execution": {
          "iopub.status.busy": "2025-03-30T22:29:44.79232Z",
          "iopub.execute_input": "2025-03-30T22:29:44.792661Z",
          "iopub.status.idle": "2025-03-30T22:29:46.92807Z",
          "shell.execute_reply.started": "2025-03-30T22:29:44.792596Z",
          "shell.execute_reply": "2025-03-30T22:29:46.926949Z"
        },
        "outputId": "bf9dd192-e3b7-4d32-a210-822879130a7a"
      },
      "outputs": [
        {
          "name": "stdout",
          "text": "Okay, imagine you have a really smart puppy, but it doesn't know anything when you first get it. That puppy is like AI!\n\nAI stands for **Artificial Intelligence**, which is just a fancy way of saying \"making computers smart.\"\n\nHere's how you teach your puppy tricks:\n\n*   **You show it lots of examples.** Like, you show it how to \"sit\" again and again, and give it a treat when it does it right.\n*   **The puppy learns from those examples.**  It starts to understand that \"sit\" means to put its bottom on the floor.\n*   **Then, the puppy can do the trick on its own!** Even if you didn't show it that exact sitting position before.\n\nThat's kind of how AI works!\n\n*   **We give computers lots and lots of examples.** For example, if we want AI to recognize cats, we show it thousands and thousands of pictures of cats.\n*   **The computer \"learns\" what makes a cat a cat.** Like pointy ears, whiskers, and furry tails.\n*   **Then, the computer can look at a new picture and say \"That's a cat!\" all by itself.**\n\nSo, AI is like a super-smart puppy that learns from examples. It can do lots of cool things like:\n\n*   Help you find videos you'll like. (Think of YouTube!)\n*   Answer your questions. (Like Siri or Alexa!)\n*   Even drive cars!\n\nBut remember, AI is still learning, just like that puppy.  It's not perfect, and it needs lots of help from people to become even smarter.\n\n",
          "output_type": "stream"
        }
      ],
      "execution_count": null
    },
    {
      "cell_type": "markdown",
      "source": [
        "The response often comes back in markdown format, which you can render directly in this notebook."
      ],
      "metadata": {
        "id": "f60ed9d8ae41"
      }
    },
    {
      "cell_type": "code",
      "source": [
        "Markdown(response.text)"
      ],
      "metadata": {
        "id": "c933e5e460a5",
        "trusted": true,
        "execution": {
          "iopub.status.busy": "2025-03-30T22:29:46.92947Z",
          "iopub.execute_input": "2025-03-30T22:29:46.929807Z",
          "iopub.status.idle": "2025-03-30T22:29:46.9376Z",
          "shell.execute_reply.started": "2025-03-30T22:29:46.929773Z",
          "shell.execute_reply": "2025-03-30T22:29:46.936444Z"
        },
        "outputId": "d059e687-5d4c-4c40-b890-a2acdc8c9a67"
      },
      "outputs": [
        {
          "execution_count": 38,
          "output_type": "execute_result",
          "data": {
            "text/plain": "<IPython.core.display.Markdown object>",
            "text/markdown": "Okay, imagine you have a really smart puppy, but it doesn't know anything when you first get it. That puppy is like AI!\n\nAI stands for **Artificial Intelligence**, which is just a fancy way of saying \"making computers smart.\"\n\nHere's how you teach your puppy tricks:\n\n*   **You show it lots of examples.** Like, you show it how to \"sit\" again and again, and give it a treat when it does it right.\n*   **The puppy learns from those examples.**  It starts to understand that \"sit\" means to put its bottom on the floor.\n*   **Then, the puppy can do the trick on its own!** Even if you didn't show it that exact sitting position before.\n\nThat's kind of how AI works!\n\n*   **We give computers lots and lots of examples.** For example, if we want AI to recognize cats, we show it thousands and thousands of pictures of cats.\n*   **The computer \"learns\" what makes a cat a cat.** Like pointy ears, whiskers, and furry tails.\n*   **Then, the computer can look at a new picture and say \"That's a cat!\" all by itself.**\n\nSo, AI is like a super-smart puppy that learns from examples. It can do lots of cool things like:\n\n*   Help you find videos you'll like. (Think of YouTube!)\n*   Answer your questions. (Like Siri or Alexa!)\n*   Even drive cars!\n\nBut remember, AI is still learning, just like that puppy.  It's not perfect, and it needs lots of help from people to become even smarter.\n"
          },
          "metadata": {}
        }
      ],
      "execution_count": null
    },
    {
      "cell_type": "markdown",
      "source": [
        "### Start a chat\n",
        "\n",
        "The previous example uses a single-turn, text-in/text-out structure, but you can also set up a multi-turn chat structure too."
      ],
      "metadata": {
        "id": "byx0pT9ZMW2Q"
      }
    },
    {
      "cell_type": "code",
      "source": [
        "chat = client.chats.create(model='gemini-2.0-flash', history=[])\n",
        "response = chat.send_message('Hello! My name is Zlork.')\n",
        "print(response.text)"
      ],
      "metadata": {
        "id": "lV_S5ZL5MidD",
        "trusted": true,
        "execution": {
          "iopub.status.busy": "2025-03-30T22:29:46.939184Z",
          "iopub.execute_input": "2025-03-30T22:29:46.940018Z",
          "iopub.status.idle": "2025-03-30T22:29:47.412833Z",
          "shell.execute_reply.started": "2025-03-30T22:29:46.939964Z",
          "shell.execute_reply": "2025-03-30T22:29:47.411707Z"
        },
        "outputId": "2f681724-1999-4b67-ee51-4f2b06c34df4"
      },
      "outputs": [
        {
          "name": "stdout",
          "text": "Greetings, Zlork! It's nice to meet you. Is there anything I can help you with today?\n\n",
          "output_type": "stream"
        }
      ],
      "execution_count": null
    },
    {
      "cell_type": "code",
      "source": [
        "response = chat.send_message('Can you tell me something interesting about dinosaurs?')\n",
        "print(response.text)"
      ],
      "metadata": {
        "id": "7b0372c3c64a",
        "trusted": true,
        "execution": {
          "iopub.status.busy": "2025-03-30T22:29:47.414733Z",
          "iopub.execute_input": "2025-03-30T22:29:47.415071Z",
          "iopub.status.idle": "2025-03-30T22:29:49.068156Z",
          "shell.execute_reply.started": "2025-03-30T22:29:47.41504Z",
          "shell.execute_reply": "2025-03-30T22:29:49.066984Z"
        },
        "outputId": "b400e099-b334-4092-d1db-0e2f8a4bf0cc"
      },
      "outputs": [
        {
          "name": "stdout",
          "text": "Okay, here's something interesting about dinosaurs:\n\nWhile we often think of dinosaurs as huge, lumbering reptiles, **many dinosaurs were actually feathered!**\n\nThe evidence for this comes from fossil finds, particularly in China, where exceptional preservation has allowed scientists to find direct evidence of feathers on many dinosaur species. These feathers weren't always for flight; they could have served purposes like:\n\n*   **Insulation:** Keeping warm, especially in smaller or juvenile dinosaurs.\n*   **Display:** Attracting mates or intimidating rivals with colorful plumage.\n*   **Camouflage:** Blending in with their environment.\n\nThis discovery has significantly changed our understanding of dinosaur evolution and their relationship to birds. Birds are now widely considered to be the direct descendants of a group of theropod dinosaurs, the same group that includes fearsome predators like the Tyrannosaurus Rex! While T. Rex itself didn't have full-body feathers, some evidence suggests it may have had some feathery proto-feathers in certain areas.\n\nSo, in a nutshell, the interesting thing is that dinosaurs weren't all scaly monsters, but many were fluffy, feathery creatures, a discovery that connects them directly to the birds we see today!\n\nDid you find that interesting? I can tell you another fact if you'd like!\n\n",
          "output_type": "stream"
        }
      ],
      "execution_count": null
    },
    {
      "cell_type": "markdown",
      "source": [
        "While you have the `chat` object alive, the conversation state\n",
        "persists. Confirm that by asking if it knows the user's name."
      ],
      "metadata": {
        "id": "BciH_K5UTeZ1"
      }
    },
    {
      "cell_type": "code",
      "source": [
        "response = chat.send_message('Do you remember what my name is?')\n",
        "print(response.text)"
      ],
      "metadata": {
        "id": "d3f9591392a7",
        "trusted": true,
        "execution": {
          "iopub.status.busy": "2025-03-30T22:29:49.069654Z",
          "iopub.execute_input": "2025-03-30T22:29:49.070064Z",
          "iopub.status.idle": "2025-03-30T22:29:49.326041Z",
          "shell.execute_reply.started": "2025-03-30T22:29:49.070017Z",
          "shell.execute_reply": "2025-03-30T22:29:49.324965Z"
        },
        "outputId": "0393767a-965c-4b3d-a54f-34d339e96b98"
      },
      "outputs": [
        {
          "name": "stdout",
          "text": "Yes, I remember your name is Zlork.\n\n",
          "output_type": "stream"
        }
      ],
      "execution_count": null
    },
    {
      "cell_type": "markdown",
      "source": [
        "### Choose a model\n",
        "\n",
        "The Gemini API provides access to a number of models from the Gemini model family. Read about the available models and their capabilities on the [model overview page](https://ai.google.dev/gemini-api/docs/models/gemini).\n",
        "\n",
        "In this step you'll use the API to list all of the available models."
      ],
      "metadata": {
        "id": "2KAjpr1200sW"
      }
    },
    {
      "cell_type": "code",
      "source": [
        "for model in client.models.list():\n",
        "  print(model.name)"
      ],
      "metadata": {
        "id": "uUUZa2uq2jDm",
        "trusted": true,
        "execution": {
          "iopub.status.busy": "2025-03-30T22:29:49.327457Z",
          "iopub.execute_input": "2025-03-30T22:29:49.327798Z",
          "iopub.status.idle": "2025-03-30T22:29:49.35615Z",
          "shell.execute_reply.started": "2025-03-30T22:29:49.327766Z",
          "shell.execute_reply": "2025-03-30T22:29:49.355021Z"
        },
        "outputId": "ce08b18c-8f59-47c4-fa5f-8014c04caf9a"
      },
      "outputs": [
        {
          "name": "stdout",
          "text": "models/chat-bison-001\nmodels/text-bison-001\nmodels/embedding-gecko-001\nmodels/gemini-1.0-pro-vision-latest\nmodels/gemini-pro-vision\nmodels/gemini-1.5-pro-latest\nmodels/gemini-1.5-pro-001\nmodels/gemini-1.5-pro-002\nmodels/gemini-1.5-pro\nmodels/gemini-1.5-flash-latest\nmodels/gemini-1.5-flash-001\nmodels/gemini-1.5-flash-001-tuning\nmodels/gemini-1.5-flash\nmodels/gemini-1.5-flash-002\nmodels/gemini-1.5-flash-8b\nmodels/gemini-1.5-flash-8b-001\nmodels/gemini-1.5-flash-8b-latest\nmodels/gemini-1.5-flash-8b-exp-0827\nmodels/gemini-1.5-flash-8b-exp-0924\nmodels/gemini-2.5-pro-exp-03-25\nmodels/gemini-2.0-flash-exp\nmodels/gemini-2.0-flash\nmodels/gemini-2.0-flash-001\nmodels/gemini-2.0-flash-exp-image-generation\nmodels/gemini-2.0-flash-lite-001\nmodels/gemini-2.0-flash-lite\nmodels/gemini-2.0-flash-lite-preview-02-05\nmodels/gemini-2.0-flash-lite-preview\nmodels/gemini-2.0-pro-exp\nmodels/gemini-2.0-pro-exp-02-05\nmodels/gemini-exp-1206\nmodels/gemini-2.0-flash-thinking-exp-01-21\nmodels/gemini-2.0-flash-thinking-exp\nmodels/gemini-2.0-flash-thinking-exp-1219\nmodels/learnlm-1.5-pro-experimental\nmodels/gemma-3-27b-it\nmodels/embedding-001\nmodels/text-embedding-004\nmodels/gemini-embedding-exp-03-07\nmodels/gemini-embedding-exp\nmodels/aqa\nmodels/imagen-3.0-generate-002\n",
          "output_type": "stream"
        }
      ],
      "execution_count": null
    },
    {
      "cell_type": "markdown",
      "source": [
        "The [`models.list`](https://ai.google.dev/api/models#method:-models.list) response also returns additional information about the model's capabilities, like the token limits and supported parameters."
      ],
      "metadata": {
        "id": "rN49kSI54R1v"
      }
    },
    {
      "cell_type": "code",
      "source": [
        "from pprint import pprint\n",
        "\n",
        "for model in client.models.list():\n",
        "  if model.name == 'models/gemini-2.0-flash':\n",
        "    pprint(model.to_json_dict())\n",
        "    break"
      ],
      "metadata": {
        "id": "k7JJ1K6j4Rl8",
        "trusted": true,
        "execution": {
          "iopub.status.busy": "2025-03-30T22:29:49.35758Z",
          "iopub.execute_input": "2025-03-30T22:29:49.357986Z",
          "iopub.status.idle": "2025-03-30T22:29:49.396852Z",
          "shell.execute_reply.started": "2025-03-30T22:29:49.357952Z",
          "shell.execute_reply": "2025-03-30T22:29:49.395802Z"
        },
        "outputId": "ac7ceb9c-447d-4a55-cfd1-f68a5d4862c9"
      },
      "outputs": [
        {
          "name": "stdout",
          "text": "{'description': 'Gemini 2.0 Flash',\n 'display_name': 'Gemini 2.0 Flash',\n 'input_token_limit': 1048576,\n 'name': 'models/gemini-2.0-flash',\n 'output_token_limit': 8192,\n 'supported_actions': ['generateContent', 'countTokens'],\n 'tuned_model_info': {},\n 'version': '2.0'}\n",
          "output_type": "stream"
        }
      ],
      "execution_count": null
    },
    {
      "cell_type": "markdown",
      "source": [
        "## Explore generation parameters\n",
        "\n"
      ],
      "metadata": {
        "id": "5rU_UBlZdooM"
      }
    },
    {
      "cell_type": "markdown",
      "source": [
        "### Output length\n",
        "\n",
        "When generating text with an LLM, the output length affects cost and performance. Generating more tokens increases computation, leading to higher energy consumption, latency, and cost.\n",
        "\n",
        "To stop the model from generating tokens past a limit, you can specify the `max_output_tokens` parameter when using the Gemini API. Specifying this parameter does not influence the generation of the output tokens, so the output will not become more stylistically or textually succinct, but it will stop generating tokens once the specified length is reached. Prompt engineering may be required to generate a more complete output for your given limit."
      ],
      "metadata": {
        "id": "G7NfEizeipbW"
      }
    },
    {
      "cell_type": "code",
      "source": [
        "from google.genai import types\n",
        "\n",
        "short_config = types.GenerateContentConfig(max_output_tokens=200)\n",
        "\n",
        "response = client.models.generate_content(\n",
        "    model='gemini-2.0-flash',\n",
        "    config=short_config,\n",
        "    contents='Write a 1000 word essay on the importance of olives in modern society.')\n",
        "\n",
        "print(response.text)"
      ],
      "metadata": {
        "id": "qVf23JsIi9ma",
        "trusted": true,
        "execution": {
          "iopub.status.busy": "2025-03-30T22:29:49.398198Z",
          "iopub.execute_input": "2025-03-30T22:29:49.3986Z",
          "iopub.status.idle": "2025-03-30T22:29:50.650102Z",
          "shell.execute_reply.started": "2025-03-30T22:29:49.398565Z",
          "shell.execute_reply": "2025-03-30T22:29:50.648988Z"
        },
        "outputId": "55c31651-91af-4cda-80e4-c0cb4a9cccf4"
      },
      "outputs": [
        {
          "name": "stdout",
          "text": "## The Evergreen Importance: Olives in Modern Society\n\nThe olive, a humble fruit born from the ancient olive tree (Olea europaea), holds a position of remarkable importance in modern society, extending far beyond its culinary appeal. From its historical significance as a symbol of peace and prosperity to its contemporary role in promoting health, contributing to economic stability, and shaping cultural identities, the olive continues to exert a powerful influence on the world we live in.\n\nHistorically, the olive tree is deeply intertwined with the development of civilization, particularly in the Mediterranean region. Its cultivation dates back millennia, with evidence suggesting olive oil production as early as the 6th millennium BC. The olive tree was revered in ancient Greece, considered a gift from the goddess Athena, and its branches were bestowed upon victors in athletic competitions and returning war heroes. Beyond symbolism, the olive provided a fundamental source of sustenance and economic stability. Olive oil was a staple food, a crucial component in religious rituals, a valuable trading commodity,\n",
          "output_type": "stream"
        }
      ],
      "execution_count": null
    },
    {
      "cell_type": "code",
      "source": [
        "response = client.models.generate_content(\n",
        "    model='gemini-2.0-flash',\n",
        "    config=short_config,\n",
        "    contents='Write a short poem on the importance of olives in modern society.')\n",
        "\n",
        "print(response.text)"
      ],
      "metadata": {
        "id": "W-3kR2F5kdMR",
        "trusted": true,
        "execution": {
          "iopub.status.busy": "2025-03-30T22:29:50.653937Z",
          "iopub.execute_input": "2025-03-30T22:29:50.654286Z",
          "iopub.status.idle": "2025-03-30T22:29:51.549028Z",
          "shell.execute_reply.started": "2025-03-30T22:29:50.654253Z",
          "shell.execute_reply": "2025-03-30T22:29:51.54781Z"
        },
        "outputId": "09e3c479-612d-4014-d801-4838de2b2c45"
      },
      "outputs": [
        {
          "name": "stdout",
          "text": "From groves of ancient, sun-drenched land,\nThe olive's branch, a helping hand.\nNot just for peace, a symbol old,\nBut flavor, health, a story told.\n\nIn oils that gleam, on salads bright,\nA tapenade, a pure delight.\nFrom casual snack to gourmet fare,\nThe humble olive, everywhere.\n\nA taste of sunshine, history's grace,\nEnhancing life in every place.\nSo raise a glass, let's all agree,\nThe mighty olive, a necessity.\n\n",
          "output_type": "stream"
        }
      ],
      "execution_count": null
    },
    {
      "cell_type": "markdown",
      "source": [
        "Explore with your own prompts. Try a prompt with a restrictive output limit and then adjust the prompt to work within that limit."
      ],
      "metadata": {
        "id": "3ZhDSLB6lqqB"
      }
    },
    {
      "cell_type": "markdown",
      "source": [
        "### Temperature\n",
        "\n",
        "Temperature controls the degree of randomness in token selection. Higher temperatures result in a higher number of candidate tokens from which the next output token is selected, and can produce more diverse results, while lower temperatures have the opposite effect, such that a temperature of 0 results in greedy decoding, selecting the most probable token at each step.\n",
        "\n",
        "Temperature doesn't provide any guarantees of randomness, but it can be used to \"nudge\" the output somewhat."
      ],
      "metadata": {
        "id": "alx-WaAvir_9"
      }
    },
    {
      "cell_type": "code",
      "source": [
        "high_temp_config = types.GenerateContentConfig(temperature=2.0)\n",
        "\n",
        "\n",
        "for _ in range(5):\n",
        "  response = client.models.generate_content(\n",
        "      model='gemini-2.0-flash',\n",
        "      config=high_temp_config,\n",
        "      contents='Pick a random colour... (respond in a single word)')\n",
        "\n",
        "  if response.text:\n",
        "    print(response.text, '-' * 25)"
      ],
      "metadata": {
        "id": "SHraGMzqnZqt",
        "trusted": true,
        "execution": {
          "iopub.status.busy": "2025-03-30T22:29:51.550364Z",
          "iopub.execute_input": "2025-03-30T22:29:51.550716Z",
          "iopub.status.idle": "2025-03-30T22:29:52.629439Z",
          "shell.execute_reply.started": "2025-03-30T22:29:51.550681Z",
          "shell.execute_reply": "2025-03-30T22:29:52.628354Z"
        },
        "outputId": "5319bd6a-82d8-4fd5-a7c7-19fc34814301"
      },
      "outputs": [
        {
          "name": "stdout",
          "text": "Azure\n -------------------------\nMagenta\n -------------------------\nTeal\n -------------------------\nAzure\n -------------------------\nPurple\n -------------------------\n",
          "output_type": "stream"
        }
      ],
      "execution_count": null
    },
    {
      "cell_type": "markdown",
      "source": [
        "Now try the same prompt with temperature set to zero. Note that the output is not completely deterministic, as other parameters affect token selection, but the results will tend to be more stable."
      ],
      "metadata": {
        "id": "z3J4pCTuof7e"
      }
    },
    {
      "cell_type": "code",
      "source": [
        "low_temp_config = types.GenerateContentConfig(temperature=0.0)\n",
        "\n",
        "for _ in range(5):\n",
        "  response = client.models.generate_content(\n",
        "      model='gemini-2.0-flash',\n",
        "      config=low_temp_config,\n",
        "      contents='Pick a random colour... (respond in a single word)')\n",
        "\n",
        "  if response.text:\n",
        "    print(response.text, '-' * 25)"
      ],
      "metadata": {
        "id": "clymkWv-PfUZ",
        "trusted": true,
        "execution": {
          "iopub.status.busy": "2025-03-30T22:29:52.630608Z",
          "iopub.execute_input": "2025-03-30T22:29:52.630899Z",
          "iopub.status.idle": "2025-03-30T22:29:53.649031Z",
          "shell.execute_reply.started": "2025-03-30T22:29:52.63087Z",
          "shell.execute_reply": "2025-03-30T22:29:53.64787Z"
        },
        "outputId": "e3d34030-12ab-4eaf-ee47-b41ed4ea870d"
      },
      "outputs": [
        {
          "name": "stdout",
          "text": "Azure\n -------------------------\nAzure\n -------------------------\nAzure\n -------------------------\nAzure\n -------------------------\nAzure\n -------------------------\n",
          "output_type": "stream"
        }
      ],
      "execution_count": null
    },
    {
      "cell_type": "markdown",
      "source": [
        "### Top-P\n",
        "\n",
        "Like temperature, the top-P parameter is also used to control the diversity of the model's output.\n",
        "\n",
        "Top-P defines the probability threshold that, once cumulatively exceeded, tokens stop being selected as candidates. A top-P of 0 is typically equivalent to greedy decoding, and a top-P of 1 typically selects every token in the model's vocabulary.\n",
        "\n",
        "You may also see top-K referenced in LLM literature. Top-K is not configurable in the Gemini 2.0 series of models, but can be changed in older models. Top-K is a positive integer that defines the number of most probable tokens from which to select the output token. A top-K of 1 selects a single token, performing greedy decoding.\n",
        "\n",
        "\n",
        "Run this example a number of times, change the settings and observe the change in output."
      ],
      "metadata": {
        "id": "St5nt3vzitsZ"
      }
    },
    {
      "cell_type": "code",
      "source": [
        "model_config = types.GenerateContentConfig(\n",
        "    # These are the default values for gemini-2.0-flash.\n",
        "    temperature=1.0,\n",
        "    top_p=0.95,\n",
        ")\n",
        "\n",
        "story_prompt = \"You are a creative writer. Write a short story about a cat who goes on an adventure.\"\n",
        "response = client.models.generate_content(\n",
        "    model='gemini-2.0-flash',\n",
        "    config=model_config,\n",
        "    contents=story_prompt)\n",
        "\n",
        "print(response.text)"
      ],
      "metadata": {
        "id": "lPlzpEavUV8F",
        "trusted": true,
        "execution": {
          "iopub.status.busy": "2025-03-30T22:29:53.650216Z",
          "iopub.execute_input": "2025-03-30T22:29:53.65049Z"
        }
      },
      "outputs": [],
      "execution_count": null
    },
    {
      "cell_type": "markdown",
      "source": [
        "## Prompting\n",
        "\n",
        "This section contains some prompts from the chapter for you to try out directly in the API. Try changing the text here to see how each prompt performs with different instructions, more examples, or any other changes you can think of."
      ],
      "metadata": {
        "id": "rMrYs1koY6DX"
      }
    },
    {
      "cell_type": "markdown",
      "source": [
        "### Zero-shot\n",
        "\n",
        "Zero-shot prompts are prompts that describe the request for the model directly.\n",
        "\n",
        "<table align=left>\n",
        "  <td>\n",
        "    <a target=\"_blank\" href=\"https://aistudio.google.com/prompts/1gzKKgDHwkAvexG5Up0LMtl1-6jKMKe4g\"><img src=\"https://ai.google.dev/site-assets/images/marketing/home/icon-ais.png\" style=\"height: 24px\" height=24/> Open in AI Studio</a>\n",
        "  </td>\n",
        "</table>"
      ],
      "metadata": {
        "id": "hhj_tQidZJP7"
      }
    },
    {
      "cell_type": "code",
      "source": [
        "model_config = types.GenerateContentConfig(\n",
        "    temperature=0.1,\n",
        "    top_p=1,\n",
        "    max_output_tokens=5,\n",
        ")\n",
        "\n",
        "zero_shot_prompt = \"\"\"Classify movie reviews as POSITIVE, NEUTRAL or NEGATIVE.\n",
        "Review: \"Her\" is a disturbing study revealing the direction\n",
        "humanity is headed if AI is allowed to keep evolving,\n",
        "unchecked. I wish there were more movies like this masterpiece.\n",
        "Sentiment: \"\"\"\n",
        "\n",
        "response = client.models.generate_content(\n",
        "    model='gemini-2.0-flash',\n",
        "    config=model_config,\n",
        "    contents=zero_shot_prompt)\n",
        "\n",
        "print(response.text)"
      ],
      "metadata": {
        "id": "1_t-cwnDZzbH",
        "trusted": true
      },
      "outputs": [],
      "execution_count": null
    },
    {
      "cell_type": "markdown",
      "source": [
        "#### Enum mode\n",
        "\n",
        "The models are trained to generate text, and while the Gemini 2.0 models are great at following instructions, other models can sometimes produce more text than you may wish for. In the preceding example, the model will output the label, but sometimes it can include a preceding \"Sentiment\" label, and without an output token limit, it may also add explanatory text afterwards. See [this prompt in AI Studio](https://aistudio.google.com/prompts/1gzKKgDHwkAvexG5Up0LMtl1-6jKMKe4g) for an example.\n",
        "\n",
        "The Gemini API has an [Enum mode](https://github.com/google-gemini/cookbook/blob/main/quickstarts/Enum.ipynb) feature that allows you to constrain the output to a fixed set of values."
      ],
      "metadata": {
        "id": "3b5568bdeb11"
      }
    },
    {
      "cell_type": "code",
      "source": [
        "import enum\n",
        "\n",
        "class Sentiment(enum.Enum):\n",
        "    POSITIVE = \"positive\"\n",
        "    NEUTRAL = \"neutral\"\n",
        "    NEGATIVE = \"negative\"\n",
        "\n",
        "\n",
        "response = client.models.generate_content(\n",
        "    model='gemini-2.0-flash',\n",
        "    config=types.GenerateContentConfig(\n",
        "        response_mime_type=\"text/x.enum\",\n",
        "        response_schema=Sentiment\n",
        "    ),\n",
        "    contents=zero_shot_prompt)\n",
        "\n",
        "print(response.text)"
      ],
      "metadata": {
        "id": "ad118a56c598",
        "trusted": true
      },
      "outputs": [],
      "execution_count": null
    },
    {
      "cell_type": "markdown",
      "source": [
        "When using constrained output like an enum, the Python SDK will attempt to convert the model's text response into a Python object automatically. It's stored in the `response.parsed` field."
      ],
      "metadata": {
        "id": "kqwQkkquTeaW"
      }
    },
    {
      "cell_type": "code",
      "source": [
        "enum_response = response.parsed\n",
        "print(enum_response)\n",
        "print(type(enum_response))"
      ],
      "metadata": {
        "trusted": true,
        "id": "zHYbKvcoTeaW"
      },
      "outputs": [],
      "execution_count": null
    },
    {
      "cell_type": "markdown",
      "source": [
        "### One-shot and few-shot\n",
        "\n",
        "Providing an example of the expected response is known as a \"one-shot\" prompt. When you provide multiple examples, it is a \"few-shot\" prompt.\n",
        "\n",
        "<table align=left>\n",
        "  <td>\n",
        "    <a target=\"_blank\" href=\"https://aistudio.google.com/prompts/1jjWkjUSoMXmLvMJ7IzADr_GxHPJVV2bg\"><img src=\"https://ai.google.dev/site-assets/images/marketing/home/icon-ais.png\" style=\"height: 24px\" height=24/> Open in AI Studio</a>\n",
        "  </td>\n",
        "</table>\n"
      ],
      "metadata": {
        "id": "0udiSwNbv45W"
      }
    },
    {
      "cell_type": "code",
      "source": [
        "few_shot_prompt = \"\"\"Parse a customer's pizza order into valid JSON:\n",
        "\n",
        "EXAMPLE:\n",
        "I want a small pizza with cheese, tomato sauce, and pepperoni.\n",
        "JSON Response:\n",
        "```\n",
        "{\n",
        "\"size\": \"small\",\n",
        "\"type\": \"normal\",\n",
        "\"ingredients\": [\"cheese\", \"tomato sauce\", \"pepperoni\"]\n",
        "}\n",
        "```\n",
        "\n",
        "EXAMPLE:\n",
        "Can I get a large pizza with tomato sauce, basil and mozzarella\n",
        "JSON Response:\n",
        "```\n",
        "{\n",
        "\"size\": \"large\",\n",
        "\"type\": \"normal\",\n",
        "\"ingredients\": [\"tomato sauce\", \"basil\", \"mozzarella\"]\n",
        "}\n",
        "```\n",
        "\n",
        "ORDER:\n",
        "\"\"\"\n",
        "\n",
        "customer_order = \"Give me a large with cheese & pineapple\"\n",
        "\n",
        "response = client.models.generate_content(\n",
        "    model='gemini-2.0-flash',\n",
        "    config=types.GenerateContentConfig(\n",
        "        temperature=0.1,\n",
        "        top_p=1,\n",
        "        max_output_tokens=250,\n",
        "    ),\n",
        "    contents=[few_shot_prompt, customer_order])\n",
        "\n",
        "print(response.text)"
      ],
      "metadata": {
        "id": "hd4mVUukwOKZ",
        "trusted": true
      },
      "outputs": [],
      "execution_count": null
    },
    {
      "cell_type": "markdown",
      "source": [
        "#### JSON mode\n",
        "\n",
        "To provide control over the schema, and to ensure that you only receive JSON (with no other text or markdown), you can use the Gemini API's [JSON mode](https://github.com/google-gemini/cookbook/blob/main/quickstarts/JSON_mode.ipynb). This forces the model to constrain decoding, such that token selection is guided by the supplied schema."
      ],
      "metadata": {
        "id": "021293096f08"
      }
    },
    {
      "cell_type": "code",
      "source": [
        "import typing_extensions as typing\n",
        "\n",
        "class PizzaOrder(typing.TypedDict):\n",
        "    size: str\n",
        "    ingredients: list[str]\n",
        "    type: str\n",
        "\n",
        "\n",
        "response = client.models.generate_content(\n",
        "    model='gemini-2.0-flash',\n",
        "    config=types.GenerateContentConfig(\n",
        "        temperature=0.1,\n",
        "        response_mime_type=\"application/json\",\n",
        "        response_schema=PizzaOrder,\n",
        "    ),\n",
        "    contents=\"Can I have a large dessert pizza with apple and chocolate\")\n",
        "\n",
        "print(response.text)"
      ],
      "metadata": {
        "id": "50fbf0260912",
        "trusted": true
      },
      "outputs": [],
      "execution_count": null
    },
    {
      "cell_type": "markdown",
      "source": [
        "### Chain of Thought (CoT)\n",
        "\n",
        "Direct prompting on LLMs can return answers quickly and (in terms of output token usage) efficiently, but they can be prone to hallucination. The answer may \"look\" correct (in terms of language and syntax) but is incorrect in terms of factuality and reasoning.\n",
        "\n",
        "Chain-of-Thought prompting is a technique where you instruct the model to output intermediate reasoning steps, and it typically gets better results, especially when combined with few-shot examples. It is worth noting that this technique doesn't completely eliminate hallucinations, and that it tends to cost more to run, due to the increased token count.\n",
        "\n",
        "Models like the Gemini family are trained to be \"chatty\" or \"thoughtful\" and will provide reasoning steps without prompting, so for this simple example you can ask the model to be more direct in the prompt to force a non-reasoning response. Try re-running this step if the model gets lucky and gets the answer correct on the first try."
      ],
      "metadata": {
        "id": "4a93e338e57c"
      }
    },
    {
      "cell_type": "code",
      "source": [
        "prompt = \"\"\"When I was 4 years old, my partner was 3 times my age. Now, I\n",
        "am 20 years old. How old is my partner? Return the answer directly.\"\"\"\n",
        "\n",
        "response = client.models.generate_content(\n",
        "    model='gemini-2.0-flash',\n",
        "    contents=prompt)\n",
        "\n",
        "print(response.text)"
      ],
      "metadata": {
        "id": "5715555db1c1",
        "trusted": true
      },
      "outputs": [],
      "execution_count": null
    },
    {
      "cell_type": "markdown",
      "source": [
        "Now try the same approach, but indicate to the model that it should \"think step by step\"."
      ],
      "metadata": {
        "id": "e12b19677bfd"
      }
    },
    {
      "cell_type": "code",
      "source": [
        "prompt = \"\"\"When I was 4 years old, my partner was 3 times my age. Now,\n",
        "I am 20 years old. How old is my partner? Let's think step by step.\"\"\"\n",
        "\n",
        "response = client.models.generate_content(\n",
        "    model='gemini-2.0-flash',\n",
        "    contents=prompt)\n",
        "\n",
        "Markdown(response.text)"
      ],
      "metadata": {
        "id": "ffd7536a481f",
        "trusted": true
      },
      "outputs": [],
      "execution_count": null
    },
    {
      "cell_type": "markdown",
      "source": [
        "### ReAct: Reason and act\n",
        "\n",
        "In this example you will run a ReAct prompt directly in the Gemini API and perform the searching steps yourself. As this prompt follows a well-defined structure, there are frameworks available that wrap the prompt into easier-to-use APIs that make tool calls automatically, such as the LangChain example from the \"Prompting\" whitepaper.\n",
        "\n",
        "To try this out with the Wikipedia search engine, check out the [Searching Wikipedia with ReAct](https://github.com/google-gemini/cookbook/blob/main/examples/Search_Wikipedia_using_ReAct.ipynb) cookbook example.\n",
        "\n",
        "\n",
        "> Note: The prompt and in-context examples used here are from [https://github.com/ysymyth/ReAct](https://github.com/ysymyth/ReAct) which is published under an [MIT license](https://opensource.org/licenses/MIT), Copyright (c) 2023 Shunyu Yao.\n",
        "\n",
        "<table align=left>\n",
        "  <td>\n",
        "    <a target=\"_blank\" href=\"https://aistudio.google.com/prompts/18oo63Lwosd-bQ6Ay51uGogB3Wk3H8XMO\"><img src=\"https://ai.google.dev/site-assets/images/marketing/home/icon-ais.png\" style=\"height: 24px\" height=24/> Open in AI Studio</a>\n",
        "  </td>\n",
        "</table>\n"
      ],
      "metadata": {
        "id": "oiLgBQJj0V53"
      }
    },
    {
      "cell_type": "code",
      "source": [
        "model_instructions = \"\"\"\n",
        "Solve a question answering task with interleaving Thought, Action, Observation steps. Thought can reason about the current situation,\n",
        "Observation is understanding relevant information from an Action's output and Action can be one of three types:\n",
        " (1) <search>entity</search>, which searches the exact entity on Wikipedia and returns the first paragraph if it exists. If not, it\n",
        "     will return some similar entities to search and you can try to search the information from those topics.\n",
        " (2) <lookup>keyword</lookup>, which returns the next sentence containing keyword in the current context. This only does exact matches,\n",
        "     so keep your searches short.\n",
        " (3) <finish>answer</finish>, which returns the answer and finishes the task.\n",
        "\"\"\"\n",
        "\n",
        "example1 = \"\"\"Question\n",
        "Musician and satirist Allie Goertz wrote a song about the \"The Simpsons\" character Milhouse, who Matt Groening named after who?\n",
        "\n",
        "Thought 1\n",
        "The question simplifies to \"The Simpsons\" character Milhouse is named after who. I only need to search Milhouse and find who it is named after.\n",
        "\n",
        "Action 1\n",
        "<search>Milhouse</search>\n",
        "\n",
        "Observation 1\n",
        "Milhouse Mussolini Van Houten is a recurring character in the Fox animated television series The Simpsons voiced by Pamela Hayden and created by Matt Groening.\n",
        "\n",
        "Thought 2\n",
        "The paragraph does not tell who Milhouse is named after, maybe I can look up \"named after\".\n",
        "\n",
        "Action 2\n",
        "<lookup>named after</lookup>\n",
        "\n",
        "Observation 2\n",
        "Milhouse was named after U.S. president Richard Nixon, whose middle name was Milhous.\n",
        "\n",
        "Thought 3\n",
        "Milhouse was named after U.S. president Richard Nixon, so the answer is Richard Nixon.\n",
        "\n",
        "Action 3\n",
        "<finish>Richard Nixon</finish>\n",
        "\"\"\"\n",
        "\n",
        "example2 = \"\"\"Question\n",
        "What is the elevation range for the area that the eastern sector of the Colorado orogeny extends into?\n",
        "\n",
        "Thought 1\n",
        "I need to search Colorado orogeny, find the area that the eastern sector of the Colorado orogeny extends into, then find the elevation range of the area.\n",
        "\n",
        "Action 1\n",
        "<search>Colorado orogeny</search>\n",
        "\n",
        "Observation 1\n",
        "The Colorado orogeny was an episode of mountain building (an orogeny) in Colorado and surrounding areas.\n",
        "\n",
        "Thought 2\n",
        "It does not mention the eastern sector. So I need to look up eastern sector.\n",
        "\n",
        "Action 2\n",
        "<lookup>eastern sector</lookup>\n",
        "\n",
        "Observation 2\n",
        "The eastern sector extends into the High Plains and is called the Central Plains orogeny.\n",
        "\n",
        "Thought 3\n",
        "The eastern sector of Colorado orogeny extends into the High Plains. So I need to search High Plains and find its elevation range.\n",
        "\n",
        "Action 3\n",
        "<search>High Plains</search>\n",
        "\n",
        "Observation 3\n",
        "High Plains refers to one of two distinct land regions\n",
        "\n",
        "Thought 4\n",
        "I need to instead search High Plains (United States).\n",
        "\n",
        "Action 4\n",
        "<search>High Plains (United States)</search>\n",
        "\n",
        "Observation 4\n",
        "The High Plains are a subregion of the Great Plains. From east to west, the High Plains rise in elevation from around 1,800 to 7,000 ft (550 to 2,130m).\n",
        "\n",
        "Thought 5\n",
        "High Plains rise in elevation from around 1,800 to 7,000 ft, so the answer is 1,800 to 7,000 ft.\n",
        "\n",
        "Action 5\n",
        "<finish>1,800 to 7,000 ft</finish>\n",
        "\"\"\"\n",
        "\n",
        "# Come up with more examples yourself, or take a look through https://github.com/ysymyth/ReAct/"
      ],
      "metadata": {
        "id": "cBgyNJ5z0VSs",
        "trusted": true
      },
      "outputs": [],
      "execution_count": null
    },
    {
      "cell_type": "markdown",
      "source": [
        "To capture a single step at a time, while ignoring any hallucinated Observation steps, you will use `stop_sequences` to end the generation process. The steps are `Thought`, `Action`, `Observation`, in that order."
      ],
      "metadata": {
        "id": "C3wbfstjTgey"
      }
    },
    {
      "cell_type": "code",
      "source": [
        "question = \"\"\"Question\n",
        "Who was the youngest author listed on the transformers NLP paper?\n",
        "\"\"\"\n",
        "\n",
        "# You will perform the Action; so generate up to, but not including, the Observation.\n",
        "react_config = types.GenerateContentConfig(\n",
        "    stop_sequences=[\"\\nObservation\"],\n",
        "    system_instruction=model_instructions + example1 + example2,\n",
        ")\n",
        "\n",
        "# Create a chat that has the model instructions and examples pre-seeded.\n",
        "react_chat = client.chats.create(\n",
        "    model='gemini-2.0-flash',\n",
        "    config=react_config,\n",
        ")\n",
        "\n",
        "resp = react_chat.send_message(question)\n",
        "print(resp.text)"
      ],
      "metadata": {
        "id": "8mxrXRkRTdXm",
        "trusted": true
      },
      "outputs": [],
      "execution_count": null
    },
    {
      "cell_type": "markdown",
      "source": [
        "Now you can perform this research yourself and supply it back to the model."
      ],
      "metadata": {
        "id": "aW2PIdLbVv3l"
      }
    },
    {
      "cell_type": "code",
      "source": [
        "observation = \"\"\"Observation 1\n",
        "[1706.03762] Attention Is All You Need\n",
        "Ashish Vaswani, Noam Shazeer, Niki Parmar, Jakob Uszkoreit, Llion Jones, Aidan N. Gomez, Lukasz Kaiser, Illia Polosukhin\n",
        "We propose a new simple network architecture, the Transformer, based solely on attention mechanisms, dispensing with recurrence and convolutions entirely.\n",
        "\"\"\"\n",
        "resp = react_chat.send_message(observation)\n",
        "print(resp.text)"
      ],
      "metadata": {
        "id": "mLMc0DZaV9g2",
        "trusted": true
      },
      "outputs": [],
      "execution_count": null
    },
    {
      "cell_type": "markdown",
      "source": [
        "This process repeats until the `<finish>` action is reached. You can continue running this yourself if you like, or try the [Wikipedia example](https://github.com/google-gemini/cookbook/blob/main/examples/Search_Wikipedia_using_ReAct.ipynb) to see a fully automated ReAct system at work."
      ],
      "metadata": {
        "id": "bo0tzf4nX6dA"
      }
    },
    {
      "cell_type": "markdown",
      "source": [
        "## Thinking mode\n",
        "\n",
        "The experiemental Gemini Flash 2.0 \"Thinking\" model has been trained to generate the \"thinking process\" the model goes through as part of its response. As a result, the Flash Thinking model is capable of stronger reasoning capabilities in its responses.\n",
        "\n",
        "Using a \"thinking mode\" model can provide you with high-quality responses without needing specialised prompting like the previous approaches. One reason this technique is effective is that you induce the model to generate relevant information (\"brainstorming\", or \"thoughts\") that is then used as part of the context in which the final response is generated.\n",
        "\n",
        "Note that when you use the API, you get the final response from the model, but the thoughts are not captured. To see the intermediate thoughts, try out [the thinking mode model in AI Studio](https://aistudio.google.com/prompts/new_chat?model=gemini-2.0-flash-thinking-exp-01-21).\n",
        "\n",
        "<table align=left>\n",
        "  <td>\n",
        "    <a target=\"_blank\" href=\"https://aistudio.google.com/prompts/1Z991SV7lZZZqioOiqIUPv9a9ix-ws4zk\"><img src=\"https://ai.google.dev/site-assets/images/marketing/home/icon-ais.png\" style=\"height: 24px\" height=24/> Open in AI Studio</a>\n",
        "  </td>\n",
        "</table>"
      ],
      "metadata": {
        "id": "9h48--a_Teaf"
      }
    },
    {
      "cell_type": "code",
      "source": [
        "import io\n",
        "from IPython.display import Markdown, clear_output\n",
        "\n",
        "\n",
        "response = client.models.generate_content_stream(\n",
        "    model='gemini-2.0-flash-thinking-exp',\n",
        "    contents='Who was the youngest author listed on the transformers NLP paper?',\n",
        ")\n",
        "\n",
        "buf = io.StringIO()\n",
        "for chunk in response:\n",
        "    buf.write(chunk.text)\n",
        "    # Display the response as it is streamed\n",
        "    print(chunk.text, end='')\n",
        "\n",
        "# And then render the finished response as formatted markdown.\n",
        "clear_output()\n",
        "Markdown(buf.getvalue())"
      ],
      "metadata": {
        "trusted": true,
        "id": "Hxh2-N8zTeag"
      },
      "outputs": [],
      "execution_count": null
    },
    {
      "cell_type": "markdown",
      "source": [
        "## Code prompting"
      ],
      "metadata": {
        "id": "jPiZ_eIIaVPt"
      }
    },
    {
      "cell_type": "markdown",
      "source": [
        "### Generating code\n",
        "\n",
        "The Gemini family of models can be used to generate code, configuration and scripts. Generating code can be helpful when learning to code, learning a new language or for rapidly generating a first draft.\n",
        "\n",
        "It's important to be aware that since LLMs can make mistakes, and can repeat training data, it's essential to read and test your code first, and comply with any relevant licenses.\n",
        "\n",
        "<table align=left>\n",
        "  <td>\n",
        "    <a target=\"_blank\" href=\"https://aistudio.google.com/prompts/1YX71JGtzDjXQkgdes8bP6i3oH5lCRKxv\"><img src=\"https://ai.google.dev/site-assets/images/marketing/home/icon-ais.png\" style=\"height: 24px\" height=24/> Open in AI Studio</a>\n",
        "  </td>\n",
        "</table>"
      ],
      "metadata": {
        "id": "ZinKamwXeR6C"
      }
    },
    {
      "cell_type": "code",
      "source": [
        "# The Gemini models love to talk, so it helps to specify they stick to the code if that\n",
        "# is all that you want.\n",
        "code_prompt = \"\"\"\n",
        "Write a Python function to calculate the factorial of a number. No explanation, provide only the code.\n",
        "\"\"\"\n",
        "\n",
        "response = client.models.generate_content(\n",
        "    model='gemini-2.0-flash',\n",
        "    config=types.GenerateContentConfig(\n",
        "        temperature=1,\n",
        "        top_p=1,\n",
        "        max_output_tokens=1024,\n",
        "    ),\n",
        "    contents=code_prompt)\n",
        "\n",
        "Markdown(response.text)"
      ],
      "metadata": {
        "id": "fOQP9pqmeUO1",
        "trusted": true
      },
      "outputs": [],
      "execution_count": null
    },
    {
      "cell_type": "markdown",
      "source": [
        "### Code execution\n",
        "\n",
        "The Gemini API can automatically run generated code too, and will return the output.\n",
        "\n",
        "<table align=left>\n",
        "  <td>\n",
        "    <a target=\"_blank\" href=\"https://aistudio.google.com/prompts/11veFr_VYEwBWcLkhNLr-maCG0G8sS_7Z\"><img src=\"https://ai.google.dev/site-assets/images/marketing/home/icon-ais.png\" style=\"height: 24px\" height=24/> Open in AI Studio</a>\n",
        "  </td>\n",
        "</table>"
      ],
      "metadata": {
        "id": "wlBMWSFhgVRQ"
      }
    },
    {
      "cell_type": "code",
      "source": [
        "from pprint import pprint\n",
        "\n",
        "config = types.GenerateContentConfig(\n",
        "    tools=[types.Tool(code_execution=types.ToolCodeExecution())],\n",
        ")\n",
        "\n",
        "code_exec_prompt = \"\"\"\n",
        "Generate the first 14 odd prime numbers, then calculate their sum.\n",
        "\"\"\"\n",
        "\n",
        "response = client.models.generate_content(\n",
        "    model='gemini-2.0-flash',\n",
        "    config=config,\n",
        "    contents=code_exec_prompt)\n",
        "\n",
        "for part in response.candidates[0].content.parts:\n",
        "  pprint(part.to_json_dict())\n",
        "  print(\"-----\")"
      ],
      "metadata": {
        "id": "jT3OfWYfhjRL",
        "trusted": true
      },
      "outputs": [],
      "execution_count": null
    },
    {
      "cell_type": "markdown",
      "source": [
        "This response contains multiple parts, including an opening and closing text part that represent regular responses, an `executable_code` part that represents generated code and a `code_execution_result` part that represents the results from running the generated code.\n",
        "\n",
        "You can explore them individually."
      ],
      "metadata": {
        "id": "ZspT1GSkjG6d"
      }
    },
    {
      "cell_type": "code",
      "source": [
        "for part in response.candidates[0].content.parts:\n",
        "    if part.text:\n",
        "        display(Markdown(part.text))\n",
        "    elif part.executable_code:\n",
        "        display(Markdown(f'```python\\n{part.executable_code.code}\\n```'))\n",
        "    elif part.code_execution_result:\n",
        "        if part.code_execution_result.outcome != 'OUTCOME_OK':\n",
        "            display(Markdown(f'## Status {part.code_execution_result.outcome}'))\n",
        "\n",
        "        display(Markdown(f'```\\n{part.code_execution_result.output}\\n```'))"
      ],
      "metadata": {
        "trusted": true,
        "id": "JmnxM_wdTeai"
      },
      "outputs": [],
      "execution_count": null
    },
    {
      "cell_type": "markdown",
      "source": [
        "### Explaining code\n",
        "\n",
        "The Gemini family of models can explain code to you too. In this example, you pass a [bash script](https://github.com/magicmonty/bash-git-prompt) and ask some questions.\n",
        "\n",
        "<table align=left>\n",
        "  <td>\n",
        "    <a target=\"_blank\" href=\"https://aistudio.google.com/prompts/1N7LGzWzCYieyOf_7bAG4plrmkpDNmUyb\"><img src=\"https://ai.google.dev/site-assets/images/marketing/home/icon-ais.png\" style=\"height: 24px\" height=24/> Open in AI Studio</a>\n",
        "  </td>\n",
        "</table>"
      ],
      "metadata": {
        "id": "1gUX8QzCj4d5"
      }
    },
    {
      "cell_type": "code",
      "source": [
        "file_contents = !curl https://raw.githubusercontent.com/magicmonty/bash-git-prompt/refs/heads/master/gitprompt.sh\n",
        "\n",
        "explain_prompt = f\"\"\"\n",
        "Please explain what this file does at a very high level. What is it, and why would I use it?\n",
        "\n",
        "```\n",
        "{file_contents}\n",
        "```\n",
        "\"\"\"\n",
        "\n",
        "response = client.models.generate_content(\n",
        "    model='gemini-2.0-flash',\n",
        "    contents=explain_prompt)\n",
        "\n",
        "Markdown(response.text)"
      ],
      "metadata": {
        "id": "7_jPMMoxkIEb",
        "trusted": true
      },
      "outputs": [],
      "execution_count": null
    },
    {
      "cell_type": "markdown",
      "source": [
        "## Learn more\n",
        "\n",
        "To learn more about prompting in depth:\n",
        "\n",
        "* Check out the whitepaper issued with today's content,\n",
        "* Try out the apps listed at the top of this notebook ([TextFX](https://textfx.withgoogle.com/), [SQL Talk](https://sql-talk-r5gdynozbq-uc.a.run.app/) and [NotebookLM](https://notebooklm.google/)),\n",
        "* Read the [Introduction to Prompting](https://ai.google.dev/gemini-api/docs/prompting-intro) from the Gemini API docs,\n",
        "* Explore the Gemini API's [prompt gallery](https://ai.google.dev/gemini-api/prompts) and try them out in AI Studio,\n",
        "* Check out the Gemini API cookbook for [inspirational examples](https://github.com/google-gemini/cookbook/blob/main/examples/) and [educational quickstarts](https://github.com/google-gemini/cookbook/blob/main/quickstarts/).\n",
        "\n",
        "Be sure to check out the codelabs on day 3 too, where you will explore some more advanced prompting with code execution.\n",
        "\n",
        "And please share anything exciting you have tried in the Discord!\n",
        "\n",
        "*- [Mark McD](https://linktr.ee/markmcd)*"
      ],
      "metadata": {
        "id": "2a8266d97ce5"
      }
    }
  ]
}