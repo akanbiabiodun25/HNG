{
  "cells": [
    {
      "cell_type": "markdown",
      "metadata": {
        "id": "view-in-github",
        "colab_type": "text"
      },
      "source": [
        "<a href=\"https://colab.research.google.com/github/akanbiabiodun25/HNG/blob/main/DSA2025Test.ipynb\" target=\"_parent\"><img src=\"https://colab.research.google.com/assets/colab-badge.svg\" alt=\"Open In Colab\"/></a>"
      ]
    },
    {
      "cell_type": "code",
      "execution_count": null,
      "metadata": {
        "colab": {
          "base_uri": "https://localhost:8080/"
        },
        "id": "9NnqgGlA9BCj",
        "outputId": "0e8fd147-6277-46b4-8ad3-fb2dae3eeec9"
      },
      "outputs": [
        {
          "output_type": "stream",
          "name": "stdout",
          "text": [
            "Requirement already satisfied: otter-grader in /usr/local/lib/python3.11/dist-packages (6.1.1)\n",
            "Requirement already satisfied: click<9.0.0,>=8.1.7 in /usr/local/lib/python3.11/dist-packages (from otter-grader) (8.1.8)\n",
            "Requirement already satisfied: dill>=0.3.0 in /usr/local/lib/python3.11/dist-packages (from otter-grader) (0.3.9)\n",
            "Requirement already satisfied: fica>=0.4.1 in /usr/local/lib/python3.11/dist-packages (from otter-grader) (0.4.1)\n",
            "Requirement already satisfied: ipylab<2.0.0,>=1.0.0 in /usr/local/lib/python3.11/dist-packages (from otter-grader) (1.0.0)\n",
            "Requirement already satisfied: ipython in /usr/local/lib/python3.11/dist-packages (from otter-grader) (7.34.0)\n",
            "Requirement already satisfied: ipywidgets<9.0.0,>=8.1.5 in /usr/local/lib/python3.11/dist-packages (from otter-grader) (8.1.5)\n",
            "Requirement already satisfied: jinja2<4.0,>=3.1 in /usr/local/lib/python3.11/dist-packages (from otter-grader) (3.1.6)\n",
            "Requirement already satisfied: jupytext<2.0.0,>=1.16.4 in /usr/local/lib/python3.11/dist-packages (from otter-grader) (1.16.7)\n",
            "Requirement already satisfied: nbconvert>=6.0.0 in /usr/local/lib/python3.11/dist-packages (from nbconvert[webpdf]>=6.0.0; sys_platform != \"emscripten\" and sys_platform != \"wasi\"->otter-grader) (7.16.6)\n",
            "Requirement already satisfied: nbformat>=5.0.0 in /usr/local/lib/python3.11/dist-packages (from otter-grader) (5.10.4)\n",
            "Requirement already satisfied: pandas>=2.0.0 in /usr/local/lib/python3.11/dist-packages (from otter-grader) (2.2.2)\n",
            "Requirement already satisfied: python-on-whales<1.0.0,>=0.72.0 in /usr/local/lib/python3.11/dist-packages (from otter-grader) (0.75.1)\n",
            "Requirement already satisfied: pyyaml<7,>=6 in /usr/local/lib/python3.11/dist-packages (from otter-grader) (6.0.2)\n",
            "Requirement already satisfied: requests<3.0,>=2.31 in /usr/local/lib/python3.11/dist-packages (from otter-grader) (2.32.3)\n",
            "Requirement already satisfied: wrapt<2.0.0,>=1.16.0 in /usr/local/lib/python3.11/dist-packages (from otter-grader) (1.17.2)\n",
            "Requirement already satisfied: docutils in /usr/local/lib/python3.11/dist-packages (from fica>=0.4.1->otter-grader) (0.21.2)\n",
            "Requirement already satisfied: sphinx in /usr/local/lib/python3.11/dist-packages (from fica>=0.4.1->otter-grader) (8.2.3)\n",
            "Requirement already satisfied: comm>=0.1.3 in /usr/local/lib/python3.11/dist-packages (from ipywidgets<9.0.0,>=8.1.5->otter-grader) (0.2.2)\n",
            "Requirement already satisfied: traitlets>=4.3.1 in /usr/local/lib/python3.11/dist-packages (from ipywidgets<9.0.0,>=8.1.5->otter-grader) (5.7.1)\n",
            "Requirement already satisfied: widgetsnbextension~=4.0.12 in /usr/local/lib/python3.11/dist-packages (from ipywidgets<9.0.0,>=8.1.5->otter-grader) (4.0.13)\n",
            "Requirement already satisfied: jupyterlab-widgets~=3.0.12 in /usr/local/lib/python3.11/dist-packages (from ipywidgets<9.0.0,>=8.1.5->otter-grader) (3.0.13)\n",
            "Requirement already satisfied: setuptools>=18.5 in /usr/local/lib/python3.11/dist-packages (from ipython->otter-grader) (75.1.0)\n",
            "Requirement already satisfied: jedi>=0.16 in /usr/local/lib/python3.11/dist-packages (from ipython->otter-grader) (0.19.2)\n",
            "Requirement already satisfied: decorator in /usr/local/lib/python3.11/dist-packages (from ipython->otter-grader) (4.4.2)\n",
            "Requirement already satisfied: pickleshare in /usr/local/lib/python3.11/dist-packages (from ipython->otter-grader) (0.7.5)\n",
            "Requirement already satisfied: prompt-toolkit!=3.0.0,!=3.0.1,<3.1.0,>=2.0.0 in /usr/local/lib/python3.11/dist-packages (from ipython->otter-grader) (3.0.50)\n",
            "Requirement already satisfied: pygments in /usr/local/lib/python3.11/dist-packages (from ipython->otter-grader) (2.18.0)\n",
            "Requirement already satisfied: backcall in /usr/local/lib/python3.11/dist-packages (from ipython->otter-grader) (0.2.0)\n",
            "Requirement already satisfied: matplotlib-inline in /usr/local/lib/python3.11/dist-packages (from ipython->otter-grader) (0.1.7)\n",
            "Requirement already satisfied: pexpect>4.3 in /usr/local/lib/python3.11/dist-packages (from ipython->otter-grader) (4.9.0)\n",
            "Requirement already satisfied: MarkupSafe>=2.0 in /usr/local/lib/python3.11/dist-packages (from jinja2<4.0,>=3.1->otter-grader) (3.0.2)\n",
            "Requirement already satisfied: markdown-it-py>=1.0 in /usr/local/lib/python3.11/dist-packages (from jupytext<2.0.0,>=1.16.4->otter-grader) (3.0.0)\n",
            "Requirement already satisfied: mdit-py-plugins in /usr/local/lib/python3.11/dist-packages (from jupytext<2.0.0,>=1.16.4->otter-grader) (0.4.2)\n",
            "Requirement already satisfied: packaging in /usr/local/lib/python3.11/dist-packages (from jupytext<2.0.0,>=1.16.4->otter-grader) (24.2)\n",
            "Requirement already satisfied: beautifulsoup4 in /usr/local/lib/python3.11/dist-packages (from nbconvert>=6.0.0->nbconvert[webpdf]>=6.0.0; sys_platform != \"emscripten\" and sys_platform != \"wasi\"->otter-grader) (4.13.3)\n",
            "Requirement already satisfied: bleach!=5.0.0 in /usr/local/lib/python3.11/dist-packages (from bleach[css]!=5.0.0->nbconvert>=6.0.0->nbconvert[webpdf]>=6.0.0; sys_platform != \"emscripten\" and sys_platform != \"wasi\"->otter-grader) (6.2.0)\n",
            "Requirement already satisfied: defusedxml in /usr/local/lib/python3.11/dist-packages (from nbconvert>=6.0.0->nbconvert[webpdf]>=6.0.0; sys_platform != \"emscripten\" and sys_platform != \"wasi\"->otter-grader) (0.7.1)\n",
            "Requirement already satisfied: jupyter-core>=4.7 in /usr/local/lib/python3.11/dist-packages (from nbconvert>=6.0.0->nbconvert[webpdf]>=6.0.0; sys_platform != \"emscripten\" and sys_platform != \"wasi\"->otter-grader) (5.7.2)\n",
            "Requirement already satisfied: jupyterlab-pygments in /usr/local/lib/python3.11/dist-packages (from nbconvert>=6.0.0->nbconvert[webpdf]>=6.0.0; sys_platform != \"emscripten\" and sys_platform != \"wasi\"->otter-grader) (0.3.0)\n",
            "Requirement already satisfied: mistune<4,>=2.0.3 in /usr/local/lib/python3.11/dist-packages (from nbconvert>=6.0.0->nbconvert[webpdf]>=6.0.0; sys_platform != \"emscripten\" and sys_platform != \"wasi\"->otter-grader) (3.1.2)\n",
            "Requirement already satisfied: nbclient>=0.5.0 in /usr/local/lib/python3.11/dist-packages (from nbconvert>=6.0.0->nbconvert[webpdf]>=6.0.0; sys_platform != \"emscripten\" and sys_platform != \"wasi\"->otter-grader) (0.10.2)\n",
            "Requirement already satisfied: pandocfilters>=1.4.1 in /usr/local/lib/python3.11/dist-packages (from nbconvert>=6.0.0->nbconvert[webpdf]>=6.0.0; sys_platform != \"emscripten\" and sys_platform != \"wasi\"->otter-grader) (1.5.1)\n",
            "Requirement already satisfied: playwright in /usr/local/lib/python3.11/dist-packages (from nbconvert[webpdf]>=6.0.0; sys_platform != \"emscripten\" and sys_platform != \"wasi\"->otter-grader) (1.51.0)\n",
            "Requirement already satisfied: fastjsonschema>=2.15 in /usr/local/lib/python3.11/dist-packages (from nbformat>=5.0.0->otter-grader) (2.21.1)\n",
            "Requirement already satisfied: jsonschema>=2.6 in /usr/local/lib/python3.11/dist-packages (from nbformat>=5.0.0->otter-grader) (4.23.0)\n",
            "Requirement already satisfied: numpy>=1.23.2 in /usr/local/lib/python3.11/dist-packages (from pandas>=2.0.0->otter-grader) (2.0.2)\n",
            "Requirement already satisfied: python-dateutil>=2.8.2 in /usr/local/lib/python3.11/dist-packages (from pandas>=2.0.0->otter-grader) (2.8.2)\n",
            "Requirement already satisfied: pytz>=2020.1 in /usr/local/lib/python3.11/dist-packages (from pandas>=2.0.0->otter-grader) (2025.1)\n",
            "Requirement already satisfied: tzdata>=2022.7 in /usr/local/lib/python3.11/dist-packages (from pandas>=2.0.0->otter-grader) (2025.1)\n",
            "Requirement already satisfied: pydantic!=2.0.*,<3,>=2 in /usr/local/lib/python3.11/dist-packages (from python-on-whales<1.0.0,>=0.72.0->otter-grader) (2.10.6)\n",
            "Requirement already satisfied: typing-extensions in /usr/local/lib/python3.11/dist-packages (from python-on-whales<1.0.0,>=0.72.0->otter-grader) (4.12.2)\n",
            "Requirement already satisfied: charset-normalizer<4,>=2 in /usr/local/lib/python3.11/dist-packages (from requests<3.0,>=2.31->otter-grader) (3.4.1)\n",
            "Requirement already satisfied: idna<4,>=2.5 in /usr/local/lib/python3.11/dist-packages (from requests<3.0,>=2.31->otter-grader) (3.10)\n",
            "Requirement already satisfied: urllib3<3,>=1.21.1 in /usr/local/lib/python3.11/dist-packages (from requests<3.0,>=2.31->otter-grader) (2.3.0)\n",
            "Requirement already satisfied: certifi>=2017.4.17 in /usr/local/lib/python3.11/dist-packages (from requests<3.0,>=2.31->otter-grader) (2025.1.31)\n",
            "Requirement already satisfied: webencodings in /usr/local/lib/python3.11/dist-packages (from bleach!=5.0.0->bleach[css]!=5.0.0->nbconvert>=6.0.0->nbconvert[webpdf]>=6.0.0; sys_platform != \"emscripten\" and sys_platform != \"wasi\"->otter-grader) (0.5.1)\n",
            "Requirement already satisfied: tinycss2<1.5,>=1.1.0 in /usr/local/lib/python3.11/dist-packages (from bleach[css]!=5.0.0->nbconvert>=6.0.0->nbconvert[webpdf]>=6.0.0; sys_platform != \"emscripten\" and sys_platform != \"wasi\"->otter-grader) (1.4.0)\n",
            "Requirement already satisfied: parso<0.9.0,>=0.8.4 in /usr/local/lib/python3.11/dist-packages (from jedi>=0.16->ipython->otter-grader) (0.8.4)\n",
            "Requirement already satisfied: attrs>=22.2.0 in /usr/local/lib/python3.11/dist-packages (from jsonschema>=2.6->nbformat>=5.0.0->otter-grader) (25.3.0)\n",
            "Requirement already satisfied: jsonschema-specifications>=2023.03.6 in /usr/local/lib/python3.11/dist-packages (from jsonschema>=2.6->nbformat>=5.0.0->otter-grader) (2024.10.1)\n",
            "Requirement already satisfied: referencing>=0.28.4 in /usr/local/lib/python3.11/dist-packages (from jsonschema>=2.6->nbformat>=5.0.0->otter-grader) (0.36.2)\n",
            "Requirement already satisfied: rpds-py>=0.7.1 in /usr/local/lib/python3.11/dist-packages (from jsonschema>=2.6->nbformat>=5.0.0->otter-grader) (0.23.1)\n",
            "Requirement already satisfied: platformdirs>=2.5 in /usr/local/lib/python3.11/dist-packages (from jupyter-core>=4.7->nbconvert>=6.0.0->nbconvert[webpdf]>=6.0.0; sys_platform != \"emscripten\" and sys_platform != \"wasi\"->otter-grader) (4.3.6)\n",
            "Requirement already satisfied: mdurl~=0.1 in /usr/local/lib/python3.11/dist-packages (from markdown-it-py>=1.0->jupytext<2.0.0,>=1.16.4->otter-grader) (0.1.2)\n",
            "Requirement already satisfied: jupyter-client>=6.1.12 in /usr/local/lib/python3.11/dist-packages (from nbclient>=0.5.0->nbconvert>=6.0.0->nbconvert[webpdf]>=6.0.0; sys_platform != \"emscripten\" and sys_platform != \"wasi\"->otter-grader) (6.1.12)\n",
            "Requirement already satisfied: ptyprocess>=0.5 in /usr/local/lib/python3.11/dist-packages (from pexpect>4.3->ipython->otter-grader) (0.7.0)\n",
            "Requirement already satisfied: wcwidth in /usr/local/lib/python3.11/dist-packages (from prompt-toolkit!=3.0.0,!=3.0.1,<3.1.0,>=2.0.0->ipython->otter-grader) (0.2.13)\n",
            "Requirement already satisfied: annotated-types>=0.6.0 in /usr/local/lib/python3.11/dist-packages (from pydantic!=2.0.*,<3,>=2->python-on-whales<1.0.0,>=0.72.0->otter-grader) (0.7.0)\n",
            "Requirement already satisfied: pydantic-core==2.27.2 in /usr/local/lib/python3.11/dist-packages (from pydantic!=2.0.*,<3,>=2->python-on-whales<1.0.0,>=0.72.0->otter-grader) (2.27.2)\n",
            "Requirement already satisfied: six>=1.5 in /usr/local/lib/python3.11/dist-packages (from python-dateutil>=2.8.2->pandas>=2.0.0->otter-grader) (1.17.0)\n",
            "Requirement already satisfied: soupsieve>1.2 in /usr/local/lib/python3.11/dist-packages (from beautifulsoup4->nbconvert>=6.0.0->nbconvert[webpdf]>=6.0.0; sys_platform != \"emscripten\" and sys_platform != \"wasi\"->otter-grader) (2.6)\n",
            "Requirement already satisfied: pyee<13,>=12 in /usr/local/lib/python3.11/dist-packages (from playwright->nbconvert[webpdf]>=6.0.0; sys_platform != \"emscripten\" and sys_platform != \"wasi\"->otter-grader) (12.1.1)\n",
            "Requirement already satisfied: greenlet<4.0.0,>=3.1.1 in /usr/local/lib/python3.11/dist-packages (from playwright->nbconvert[webpdf]>=6.0.0; sys_platform != \"emscripten\" and sys_platform != \"wasi\"->otter-grader) (3.1.1)\n",
            "Requirement already satisfied: sphinxcontrib-applehelp>=1.0.7 in /usr/local/lib/python3.11/dist-packages (from sphinx->fica>=0.4.1->otter-grader) (2.0.0)\n",
            "Requirement already satisfied: sphinxcontrib-devhelp>=1.0.6 in /usr/local/lib/python3.11/dist-packages (from sphinx->fica>=0.4.1->otter-grader) (2.0.0)\n",
            "Requirement already satisfied: sphinxcontrib-htmlhelp>=2.0.6 in /usr/local/lib/python3.11/dist-packages (from sphinx->fica>=0.4.1->otter-grader) (2.1.0)\n",
            "Requirement already satisfied: sphinxcontrib-jsmath>=1.0.1 in /usr/local/lib/python3.11/dist-packages (from sphinx->fica>=0.4.1->otter-grader) (1.0.1)\n",
            "Requirement already satisfied: sphinxcontrib-qthelp>=1.0.6 in /usr/local/lib/python3.11/dist-packages (from sphinx->fica>=0.4.1->otter-grader) (2.0.0)\n",
            "Requirement already satisfied: sphinxcontrib-serializinghtml>=1.1.9 in /usr/local/lib/python3.11/dist-packages (from sphinx->fica>=0.4.1->otter-grader) (2.0.0)\n",
            "Requirement already satisfied: snowballstemmer>=2.2 in /usr/local/lib/python3.11/dist-packages (from sphinx->fica>=0.4.1->otter-grader) (2.2.0)\n",
            "Requirement already satisfied: babel>=2.13 in /usr/local/lib/python3.11/dist-packages (from sphinx->fica>=0.4.1->otter-grader) (2.17.0)\n",
            "Requirement already satisfied: alabaster>=0.7.14 in /usr/local/lib/python3.11/dist-packages (from sphinx->fica>=0.4.1->otter-grader) (1.0.0)\n",
            "Requirement already satisfied: imagesize>=1.3 in /usr/local/lib/python3.11/dist-packages (from sphinx->fica>=0.4.1->otter-grader) (1.4.1)\n",
            "Requirement already satisfied: roman-numerals-py>=1.0.0 in /usr/local/lib/python3.11/dist-packages (from sphinx->fica>=0.4.1->otter-grader) (3.1.0)\n",
            "Requirement already satisfied: pyzmq>=13 in /usr/local/lib/python3.11/dist-packages (from jupyter-client>=6.1.12->nbclient>=0.5.0->nbconvert>=6.0.0->nbconvert[webpdf]>=6.0.0; sys_platform != \"emscripten\" and sys_platform != \"wasi\"->otter-grader) (24.0.1)\n",
            "Requirement already satisfied: tornado>=4.1 in /usr/local/lib/python3.11/dist-packages (from jupyter-client>=6.1.12->nbclient>=0.5.0->nbconvert>=6.0.0->nbconvert[webpdf]>=6.0.0; sys_platform != \"emscripten\" and sys_platform != \"wasi\"->otter-grader) (6.4.2)\n"
          ]
        }
      ],
      "source": [
        "!pip install otter-grader"
      ]
    },
    {
      "cell_type": "code",
      "execution_count": null,
      "metadata": {
        "colab": {
          "base_uri": "https://localhost:8080/"
        },
        "id": "M4CrEEo9CFe2",
        "outputId": "0d2eec61-8d0d-4646-d52d-2cf505c3c3d5"
      },
      "outputs": [
        {
          "output_type": "stream",
          "name": "stdout",
          "text": [
            "Drive already mounted at /content/drive; to attempt to forcibly remount, call drive.mount(\"/content/drive\", force_remount=True).\n"
          ]
        }
      ],
      "source": [
        "from google.colab import drive\n",
        "drive.mount('/content/drive')"
      ]
    },
    {
      "cell_type": "code",
      "source": [
        "!cd /content/drive/MyDrive/DSA25Test"
      ],
      "metadata": {
        "id": "lgq6_mkZDlG3"
      },
      "execution_count": null,
      "outputs": []
    },
    {
      "cell_type": "code",
      "source": [
        "!mkdir tests"
      ],
      "metadata": {
        "id": "L_1uPITpE8O9",
        "colab": {
          "base_uri": "https://localhost:8080/"
        },
        "outputId": "c3d054cd-9f80-4987-c925-ac67adbdb091"
      },
      "execution_count": null,
      "outputs": [
        {
          "output_type": "stream",
          "name": "stdout",
          "text": [
            "mkdir: cannot create directory ‘tests’: File exists\n"
          ]
        }
      ]
    },
    {
      "cell_type": "code",
      "source": [
        "from google.colab import files\n",
        "uploaded = files.upload()"
      ],
      "metadata": {
        "colab": {
          "base_uri": "https://localhost:8080/",
          "height": 892
        },
        "id": "QlgsgKIFFHf-",
        "outputId": "a43ffb1d-d114-461e-c790-ca4aa6b953b8"
      },
      "execution_count": null,
      "outputs": [
        {
          "output_type": "display_data",
          "data": {
            "text/plain": [
              "<IPython.core.display.HTML object>"
            ],
            "text/html": [
              "\n",
              "     <input type=\"file\" id=\"files-3fb3f539-2249-4bac-8180-aab39b736583\" name=\"files[]\" multiple disabled\n",
              "        style=\"border:none\" />\n",
              "     <output id=\"result-3fb3f539-2249-4bac-8180-aab39b736583\">\n",
              "      Upload widget is only available when the cell has been executed in the\n",
              "      current browser session. Please rerun this cell to enable.\n",
              "      </output>\n",
              "      <script>// Copyright 2017 Google LLC\n",
              "//\n",
              "// Licensed under the Apache License, Version 2.0 (the \"License\");\n",
              "// you may not use this file except in compliance with the License.\n",
              "// You may obtain a copy of the License at\n",
              "//\n",
              "//      http://www.apache.org/licenses/LICENSE-2.0\n",
              "//\n",
              "// Unless required by applicable law or agreed to in writing, software\n",
              "// distributed under the License is distributed on an \"AS IS\" BASIS,\n",
              "// WITHOUT WARRANTIES OR CONDITIONS OF ANY KIND, either express or implied.\n",
              "// See the License for the specific language governing permissions and\n",
              "// limitations under the License.\n",
              "\n",
              "/**\n",
              " * @fileoverview Helpers for google.colab Python module.\n",
              " */\n",
              "(function(scope) {\n",
              "function span(text, styleAttributes = {}) {\n",
              "  const element = document.createElement('span');\n",
              "  element.textContent = text;\n",
              "  for (const key of Object.keys(styleAttributes)) {\n",
              "    element.style[key] = styleAttributes[key];\n",
              "  }\n",
              "  return element;\n",
              "}\n",
              "\n",
              "// Max number of bytes which will be uploaded at a time.\n",
              "const MAX_PAYLOAD_SIZE = 100 * 1024;\n",
              "\n",
              "function _uploadFiles(inputId, outputId) {\n",
              "  const steps = uploadFilesStep(inputId, outputId);\n",
              "  const outputElement = document.getElementById(outputId);\n",
              "  // Cache steps on the outputElement to make it available for the next call\n",
              "  // to uploadFilesContinue from Python.\n",
              "  outputElement.steps = steps;\n",
              "\n",
              "  return _uploadFilesContinue(outputId);\n",
              "}\n",
              "\n",
              "// This is roughly an async generator (not supported in the browser yet),\n",
              "// where there are multiple asynchronous steps and the Python side is going\n",
              "// to poll for completion of each step.\n",
              "// This uses a Promise to block the python side on completion of each step,\n",
              "// then passes the result of the previous step as the input to the next step.\n",
              "function _uploadFilesContinue(outputId) {\n",
              "  const outputElement = document.getElementById(outputId);\n",
              "  const steps = outputElement.steps;\n",
              "\n",
              "  const next = steps.next(outputElement.lastPromiseValue);\n",
              "  return Promise.resolve(next.value.promise).then((value) => {\n",
              "    // Cache the last promise value to make it available to the next\n",
              "    // step of the generator.\n",
              "    outputElement.lastPromiseValue = value;\n",
              "    return next.value.response;\n",
              "  });\n",
              "}\n",
              "\n",
              "/**\n",
              " * Generator function which is called between each async step of the upload\n",
              " * process.\n",
              " * @param {string} inputId Element ID of the input file picker element.\n",
              " * @param {string} outputId Element ID of the output display.\n",
              " * @return {!Iterable<!Object>} Iterable of next steps.\n",
              " */\n",
              "function* uploadFilesStep(inputId, outputId) {\n",
              "  const inputElement = document.getElementById(inputId);\n",
              "  inputElement.disabled = false;\n",
              "\n",
              "  const outputElement = document.getElementById(outputId);\n",
              "  outputElement.innerHTML = '';\n",
              "\n",
              "  const pickedPromise = new Promise((resolve) => {\n",
              "    inputElement.addEventListener('change', (e) => {\n",
              "      resolve(e.target.files);\n",
              "    });\n",
              "  });\n",
              "\n",
              "  const cancel = document.createElement('button');\n",
              "  inputElement.parentElement.appendChild(cancel);\n",
              "  cancel.textContent = 'Cancel upload';\n",
              "  const cancelPromise = new Promise((resolve) => {\n",
              "    cancel.onclick = () => {\n",
              "      resolve(null);\n",
              "    };\n",
              "  });\n",
              "\n",
              "  // Wait for the user to pick the files.\n",
              "  const files = yield {\n",
              "    promise: Promise.race([pickedPromise, cancelPromise]),\n",
              "    response: {\n",
              "      action: 'starting',\n",
              "    }\n",
              "  };\n",
              "\n",
              "  cancel.remove();\n",
              "\n",
              "  // Disable the input element since further picks are not allowed.\n",
              "  inputElement.disabled = true;\n",
              "\n",
              "  if (!files) {\n",
              "    return {\n",
              "      response: {\n",
              "        action: 'complete',\n",
              "      }\n",
              "    };\n",
              "  }\n",
              "\n",
              "  for (const file of files) {\n",
              "    const li = document.createElement('li');\n",
              "    li.append(span(file.name, {fontWeight: 'bold'}));\n",
              "    li.append(span(\n",
              "        `(${file.type || 'n/a'}) - ${file.size} bytes, ` +\n",
              "        `last modified: ${\n",
              "            file.lastModifiedDate ? file.lastModifiedDate.toLocaleDateString() :\n",
              "                                    'n/a'} - `));\n",
              "    const percent = span('0% done');\n",
              "    li.appendChild(percent);\n",
              "\n",
              "    outputElement.appendChild(li);\n",
              "\n",
              "    const fileDataPromise = new Promise((resolve) => {\n",
              "      const reader = new FileReader();\n",
              "      reader.onload = (e) => {\n",
              "        resolve(e.target.result);\n",
              "      };\n",
              "      reader.readAsArrayBuffer(file);\n",
              "    });\n",
              "    // Wait for the data to be ready.\n",
              "    let fileData = yield {\n",
              "      promise: fileDataPromise,\n",
              "      response: {\n",
              "        action: 'continue',\n",
              "      }\n",
              "    };\n",
              "\n",
              "    // Use a chunked sending to avoid message size limits. See b/62115660.\n",
              "    let position = 0;\n",
              "    do {\n",
              "      const length = Math.min(fileData.byteLength - position, MAX_PAYLOAD_SIZE);\n",
              "      const chunk = new Uint8Array(fileData, position, length);\n",
              "      position += length;\n",
              "\n",
              "      const base64 = btoa(String.fromCharCode.apply(null, chunk));\n",
              "      yield {\n",
              "        response: {\n",
              "          action: 'append',\n",
              "          file: file.name,\n",
              "          data: base64,\n",
              "        },\n",
              "      };\n",
              "\n",
              "      let percentDone = fileData.byteLength === 0 ?\n",
              "          100 :\n",
              "          Math.round((position / fileData.byteLength) * 100);\n",
              "      percent.textContent = `${percentDone}% done`;\n",
              "\n",
              "    } while (position < fileData.byteLength);\n",
              "  }\n",
              "\n",
              "  // All done.\n",
              "  yield {\n",
              "    response: {\n",
              "      action: 'complete',\n",
              "    }\n",
              "  };\n",
              "}\n",
              "\n",
              "scope.google = scope.google || {};\n",
              "scope.google.colab = scope.google.colab || {};\n",
              "scope.google.colab._files = {\n",
              "  _uploadFiles,\n",
              "  _uploadFilesContinue,\n",
              "};\n",
              "})(self);\n",
              "</script> "
            ]
          },
          "metadata": {}
        },
        {
          "output_type": "stream",
          "name": "stdout",
          "text": [
            "Saving DSA2025Test.ipynb to DSA2025Test.ipynb\n",
            "Saving q1.py to q1.py\n",
            "Saving q10.py to q10 (1).py\n",
            "Saving q11.py to q11 (1).py\n",
            "Saving q12.py to q12 (1).py\n",
            "Saving q13.py to q13 (1).py\n",
            "Saving q14.py to q14 (1).py\n",
            "Saving q15.py to q15 (1).py\n",
            "Saving q2.py to q2.py\n",
            "Saving q3.py to q3 (1).py\n",
            "Saving q4.py to q4 (1).py\n",
            "Saving q5.py to q5 (1).py\n",
            "Saving q6.py to q6 (1).py\n",
            "Saving q7.py to q7 (1).py\n",
            "Saving q8.py to q8 (1).py\n",
            "Saving q9.py to q9 (1).py\n"
          ]
        }
      ]
    },
    {
      "cell_type": "code",
      "source": [
        "!mv DSA2025Test.ipynb tests/"
      ],
      "metadata": {
        "id": "ddcXZWFhFkLr"
      },
      "execution_count": null,
      "outputs": []
    },
    {
      "cell_type": "code",
      "execution_count": null,
      "metadata": {
        "id": "XrjkzpPu8KKl"
      },
      "outputs": [],
      "source": [
        "# Initialize Otter\n",
        "#import otter\n",
        "#grader = otter.Notebook(\"DSA2025Test.ipynb\")\n",
        "import otter\n",
        "grader = otter.Notebook(\"/content/drive/MyDrive/DSA25Test/DSA2025Test.ipynb\")"
      ]
    },
    {
      "cell_type": "markdown",
      "metadata": {
        "id": "XQPq34AU8KKs"
      },
      "source": [
        "# DSA 2025 Summer School Admittance Check\n",
        "\n",
        "Thanks for your interest in attending DSA 2025 Ibadan, Nigeria. To attend the summer school you have to have some level of basic Python proficiency. Completing the following notebook should ensure you have the right kind of background to benefit maximally from the Summer School. See you in Ibadan!\n",
        "\n",
        "## Instructions\n",
        "1. Complete each function according to the provided specifications\n",
        "2. Run all cells to verify your solutions\n",
        "3. All tests must pass to generate a submission\n",
        "4. Save your work before submitting"
      ]
    },
    {
      "cell_type": "code",
      "execution_count": null,
      "metadata": {
        "id": "i6RZV35U8KKw",
        "colab": {
          "base_uri": "https://localhost:8080/"
        },
        "outputId": "aebd2171-fe38-4c8a-93f3-91d994132728"
      },
      "outputs": [
        {
          "output_type": "stream",
          "name": "stdout",
          "text": [
            "Requirement already satisfied: nose in /usr/local/lib/python3.11/dist-packages (1.3.7)\n",
            "Requirement already satisfied: otter-grader in /usr/local/lib/python3.11/dist-packages (6.1.1)\n",
            "Requirement already satisfied: click<9.0.0,>=8.1.7 in /usr/local/lib/python3.11/dist-packages (from otter-grader) (8.1.8)\n",
            "Requirement already satisfied: dill>=0.3.0 in /usr/local/lib/python3.11/dist-packages (from otter-grader) (0.3.9)\n",
            "Requirement already satisfied: fica>=0.4.1 in /usr/local/lib/python3.11/dist-packages (from otter-grader) (0.4.1)\n",
            "Requirement already satisfied: ipylab<2.0.0,>=1.0.0 in /usr/local/lib/python3.11/dist-packages (from otter-grader) (1.0.0)\n",
            "Requirement already satisfied: ipython in /usr/local/lib/python3.11/dist-packages (from otter-grader) (7.34.0)\n",
            "Requirement already satisfied: ipywidgets<9.0.0,>=8.1.5 in /usr/local/lib/python3.11/dist-packages (from otter-grader) (8.1.5)\n",
            "Requirement already satisfied: jinja2<4.0,>=3.1 in /usr/local/lib/python3.11/dist-packages (from otter-grader) (3.1.6)\n",
            "Requirement already satisfied: jupytext<2.0.0,>=1.16.4 in /usr/local/lib/python3.11/dist-packages (from otter-grader) (1.16.7)\n",
            "Requirement already satisfied: nbconvert>=6.0.0 in /usr/local/lib/python3.11/dist-packages (from nbconvert[webpdf]>=6.0.0; sys_platform != \"emscripten\" and sys_platform != \"wasi\"->otter-grader) (7.16.6)\n",
            "Requirement already satisfied: nbformat>=5.0.0 in /usr/local/lib/python3.11/dist-packages (from otter-grader) (5.10.4)\n",
            "Requirement already satisfied: pandas>=2.0.0 in /usr/local/lib/python3.11/dist-packages (from otter-grader) (2.2.2)\n",
            "Requirement already satisfied: python-on-whales<1.0.0,>=0.72.0 in /usr/local/lib/python3.11/dist-packages (from otter-grader) (0.75.1)\n",
            "Requirement already satisfied: pyyaml<7,>=6 in /usr/local/lib/python3.11/dist-packages (from otter-grader) (6.0.2)\n",
            "Requirement already satisfied: requests<3.0,>=2.31 in /usr/local/lib/python3.11/dist-packages (from otter-grader) (2.32.3)\n",
            "Requirement already satisfied: wrapt<2.0.0,>=1.16.0 in /usr/local/lib/python3.11/dist-packages (from otter-grader) (1.17.2)\n",
            "Requirement already satisfied: docutils in /usr/local/lib/python3.11/dist-packages (from fica>=0.4.1->otter-grader) (0.21.2)\n",
            "Requirement already satisfied: sphinx in /usr/local/lib/python3.11/dist-packages (from fica>=0.4.1->otter-grader) (8.2.3)\n",
            "Requirement already satisfied: comm>=0.1.3 in /usr/local/lib/python3.11/dist-packages (from ipywidgets<9.0.0,>=8.1.5->otter-grader) (0.2.2)\n",
            "Requirement already satisfied: traitlets>=4.3.1 in /usr/local/lib/python3.11/dist-packages (from ipywidgets<9.0.0,>=8.1.5->otter-grader) (5.7.1)\n",
            "Requirement already satisfied: widgetsnbextension~=4.0.12 in /usr/local/lib/python3.11/dist-packages (from ipywidgets<9.0.0,>=8.1.5->otter-grader) (4.0.13)\n",
            "Requirement already satisfied: jupyterlab-widgets~=3.0.12 in /usr/local/lib/python3.11/dist-packages (from ipywidgets<9.0.0,>=8.1.5->otter-grader) (3.0.13)\n",
            "Requirement already satisfied: setuptools>=18.5 in /usr/local/lib/python3.11/dist-packages (from ipython->otter-grader) (75.1.0)\n",
            "Requirement already satisfied: jedi>=0.16 in /usr/local/lib/python3.11/dist-packages (from ipython->otter-grader) (0.19.2)\n",
            "Requirement already satisfied: decorator in /usr/local/lib/python3.11/dist-packages (from ipython->otter-grader) (4.4.2)\n",
            "Requirement already satisfied: pickleshare in /usr/local/lib/python3.11/dist-packages (from ipython->otter-grader) (0.7.5)\n",
            "Requirement already satisfied: prompt-toolkit!=3.0.0,!=3.0.1,<3.1.0,>=2.0.0 in /usr/local/lib/python3.11/dist-packages (from ipython->otter-grader) (3.0.50)\n",
            "Requirement already satisfied: pygments in /usr/local/lib/python3.11/dist-packages (from ipython->otter-grader) (2.18.0)\n",
            "Requirement already satisfied: backcall in /usr/local/lib/python3.11/dist-packages (from ipython->otter-grader) (0.2.0)\n",
            "Requirement already satisfied: matplotlib-inline in /usr/local/lib/python3.11/dist-packages (from ipython->otter-grader) (0.1.7)\n",
            "Requirement already satisfied: pexpect>4.3 in /usr/local/lib/python3.11/dist-packages (from ipython->otter-grader) (4.9.0)\n",
            "Requirement already satisfied: MarkupSafe>=2.0 in /usr/local/lib/python3.11/dist-packages (from jinja2<4.0,>=3.1->otter-grader) (3.0.2)\n",
            "Requirement already satisfied: markdown-it-py>=1.0 in /usr/local/lib/python3.11/dist-packages (from jupytext<2.0.0,>=1.16.4->otter-grader) (3.0.0)\n",
            "Requirement already satisfied: mdit-py-plugins in /usr/local/lib/python3.11/dist-packages (from jupytext<2.0.0,>=1.16.4->otter-grader) (0.4.2)\n",
            "Requirement already satisfied: packaging in /usr/local/lib/python3.11/dist-packages (from jupytext<2.0.0,>=1.16.4->otter-grader) (24.2)\n",
            "Requirement already satisfied: beautifulsoup4 in /usr/local/lib/python3.11/dist-packages (from nbconvert>=6.0.0->nbconvert[webpdf]>=6.0.0; sys_platform != \"emscripten\" and sys_platform != \"wasi\"->otter-grader) (4.13.3)\n",
            "Requirement already satisfied: bleach!=5.0.0 in /usr/local/lib/python3.11/dist-packages (from bleach[css]!=5.0.0->nbconvert>=6.0.0->nbconvert[webpdf]>=6.0.0; sys_platform != \"emscripten\" and sys_platform != \"wasi\"->otter-grader) (6.2.0)\n",
            "Requirement already satisfied: defusedxml in /usr/local/lib/python3.11/dist-packages (from nbconvert>=6.0.0->nbconvert[webpdf]>=6.0.0; sys_platform != \"emscripten\" and sys_platform != \"wasi\"->otter-grader) (0.7.1)\n",
            "Requirement already satisfied: jupyter-core>=4.7 in /usr/local/lib/python3.11/dist-packages (from nbconvert>=6.0.0->nbconvert[webpdf]>=6.0.0; sys_platform != \"emscripten\" and sys_platform != \"wasi\"->otter-grader) (5.7.2)\n",
            "Requirement already satisfied: jupyterlab-pygments in /usr/local/lib/python3.11/dist-packages (from nbconvert>=6.0.0->nbconvert[webpdf]>=6.0.0; sys_platform != \"emscripten\" and sys_platform != \"wasi\"->otter-grader) (0.3.0)\n",
            "Requirement already satisfied: mistune<4,>=2.0.3 in /usr/local/lib/python3.11/dist-packages (from nbconvert>=6.0.0->nbconvert[webpdf]>=6.0.0; sys_platform != \"emscripten\" and sys_platform != \"wasi\"->otter-grader) (3.1.2)\n",
            "Requirement already satisfied: nbclient>=0.5.0 in /usr/local/lib/python3.11/dist-packages (from nbconvert>=6.0.0->nbconvert[webpdf]>=6.0.0; sys_platform != \"emscripten\" and sys_platform != \"wasi\"->otter-grader) (0.10.2)\n",
            "Requirement already satisfied: pandocfilters>=1.4.1 in /usr/local/lib/python3.11/dist-packages (from nbconvert>=6.0.0->nbconvert[webpdf]>=6.0.0; sys_platform != \"emscripten\" and sys_platform != \"wasi\"->otter-grader) (1.5.1)\n",
            "Requirement already satisfied: playwright in /usr/local/lib/python3.11/dist-packages (from nbconvert[webpdf]>=6.0.0; sys_platform != \"emscripten\" and sys_platform != \"wasi\"->otter-grader) (1.51.0)\n",
            "Requirement already satisfied: fastjsonschema>=2.15 in /usr/local/lib/python3.11/dist-packages (from nbformat>=5.0.0->otter-grader) (2.21.1)\n",
            "Requirement already satisfied: jsonschema>=2.6 in /usr/local/lib/python3.11/dist-packages (from nbformat>=5.0.0->otter-grader) (4.23.0)\n",
            "Requirement already satisfied: numpy>=1.23.2 in /usr/local/lib/python3.11/dist-packages (from pandas>=2.0.0->otter-grader) (2.0.2)\n",
            "Requirement already satisfied: python-dateutil>=2.8.2 in /usr/local/lib/python3.11/dist-packages (from pandas>=2.0.0->otter-grader) (2.8.2)\n",
            "Requirement already satisfied: pytz>=2020.1 in /usr/local/lib/python3.11/dist-packages (from pandas>=2.0.0->otter-grader) (2025.1)\n",
            "Requirement already satisfied: tzdata>=2022.7 in /usr/local/lib/python3.11/dist-packages (from pandas>=2.0.0->otter-grader) (2025.1)\n",
            "Requirement already satisfied: pydantic!=2.0.*,<3,>=2 in /usr/local/lib/python3.11/dist-packages (from python-on-whales<1.0.0,>=0.72.0->otter-grader) (2.10.6)\n",
            "Requirement already satisfied: typing-extensions in /usr/local/lib/python3.11/dist-packages (from python-on-whales<1.0.0,>=0.72.0->otter-grader) (4.12.2)\n",
            "Requirement already satisfied: charset-normalizer<4,>=2 in /usr/local/lib/python3.11/dist-packages (from requests<3.0,>=2.31->otter-grader) (3.4.1)\n",
            "Requirement already satisfied: idna<4,>=2.5 in /usr/local/lib/python3.11/dist-packages (from requests<3.0,>=2.31->otter-grader) (3.10)\n",
            "Requirement already satisfied: urllib3<3,>=1.21.1 in /usr/local/lib/python3.11/dist-packages (from requests<3.0,>=2.31->otter-grader) (2.3.0)\n",
            "Requirement already satisfied: certifi>=2017.4.17 in /usr/local/lib/python3.11/dist-packages (from requests<3.0,>=2.31->otter-grader) (2025.1.31)\n",
            "Requirement already satisfied: webencodings in /usr/local/lib/python3.11/dist-packages (from bleach!=5.0.0->bleach[css]!=5.0.0->nbconvert>=6.0.0->nbconvert[webpdf]>=6.0.0; sys_platform != \"emscripten\" and sys_platform != \"wasi\"->otter-grader) (0.5.1)\n",
            "Requirement already satisfied: tinycss2<1.5,>=1.1.0 in /usr/local/lib/python3.11/dist-packages (from bleach[css]!=5.0.0->nbconvert>=6.0.0->nbconvert[webpdf]>=6.0.0; sys_platform != \"emscripten\" and sys_platform != \"wasi\"->otter-grader) (1.4.0)\n",
            "Requirement already satisfied: parso<0.9.0,>=0.8.4 in /usr/local/lib/python3.11/dist-packages (from jedi>=0.16->ipython->otter-grader) (0.8.4)\n",
            "Requirement already satisfied: attrs>=22.2.0 in /usr/local/lib/python3.11/dist-packages (from jsonschema>=2.6->nbformat>=5.0.0->otter-grader) (25.3.0)\n",
            "Requirement already satisfied: jsonschema-specifications>=2023.03.6 in /usr/local/lib/python3.11/dist-packages (from jsonschema>=2.6->nbformat>=5.0.0->otter-grader) (2024.10.1)\n",
            "Requirement already satisfied: referencing>=0.28.4 in /usr/local/lib/python3.11/dist-packages (from jsonschema>=2.6->nbformat>=5.0.0->otter-grader) (0.36.2)\n",
            "Requirement already satisfied: rpds-py>=0.7.1 in /usr/local/lib/python3.11/dist-packages (from jsonschema>=2.6->nbformat>=5.0.0->otter-grader) (0.23.1)\n",
            "Requirement already satisfied: platformdirs>=2.5 in /usr/local/lib/python3.11/dist-packages (from jupyter-core>=4.7->nbconvert>=6.0.0->nbconvert[webpdf]>=6.0.0; sys_platform != \"emscripten\" and sys_platform != \"wasi\"->otter-grader) (4.3.6)\n",
            "Requirement already satisfied: mdurl~=0.1 in /usr/local/lib/python3.11/dist-packages (from markdown-it-py>=1.0->jupytext<2.0.0,>=1.16.4->otter-grader) (0.1.2)\n",
            "Requirement already satisfied: jupyter-client>=6.1.12 in /usr/local/lib/python3.11/dist-packages (from nbclient>=0.5.0->nbconvert>=6.0.0->nbconvert[webpdf]>=6.0.0; sys_platform != \"emscripten\" and sys_platform != \"wasi\"->otter-grader) (6.1.12)\n",
            "Requirement already satisfied: ptyprocess>=0.5 in /usr/local/lib/python3.11/dist-packages (from pexpect>4.3->ipython->otter-grader) (0.7.0)\n",
            "Requirement already satisfied: wcwidth in /usr/local/lib/python3.11/dist-packages (from prompt-toolkit!=3.0.0,!=3.0.1,<3.1.0,>=2.0.0->ipython->otter-grader) (0.2.13)\n",
            "Requirement already satisfied: annotated-types>=0.6.0 in /usr/local/lib/python3.11/dist-packages (from pydantic!=2.0.*,<3,>=2->python-on-whales<1.0.0,>=0.72.0->otter-grader) (0.7.0)\n",
            "Requirement already satisfied: pydantic-core==2.27.2 in /usr/local/lib/python3.11/dist-packages (from pydantic!=2.0.*,<3,>=2->python-on-whales<1.0.0,>=0.72.0->otter-grader) (2.27.2)\n",
            "Requirement already satisfied: six>=1.5 in /usr/local/lib/python3.11/dist-packages (from python-dateutil>=2.8.2->pandas>=2.0.0->otter-grader) (1.17.0)\n",
            "Requirement already satisfied: soupsieve>1.2 in /usr/local/lib/python3.11/dist-packages (from beautifulsoup4->nbconvert>=6.0.0->nbconvert[webpdf]>=6.0.0; sys_platform != \"emscripten\" and sys_platform != \"wasi\"->otter-grader) (2.6)\n",
            "Requirement already satisfied: pyee<13,>=12 in /usr/local/lib/python3.11/dist-packages (from playwright->nbconvert[webpdf]>=6.0.0; sys_platform != \"emscripten\" and sys_platform != \"wasi\"->otter-grader) (12.1.1)\n",
            "Requirement already satisfied: greenlet<4.0.0,>=3.1.1 in /usr/local/lib/python3.11/dist-packages (from playwright->nbconvert[webpdf]>=6.0.0; sys_platform != \"emscripten\" and sys_platform != \"wasi\"->otter-grader) (3.1.1)\n",
            "Requirement already satisfied: sphinxcontrib-applehelp>=1.0.7 in /usr/local/lib/python3.11/dist-packages (from sphinx->fica>=0.4.1->otter-grader) (2.0.0)\n",
            "Requirement already satisfied: sphinxcontrib-devhelp>=1.0.6 in /usr/local/lib/python3.11/dist-packages (from sphinx->fica>=0.4.1->otter-grader) (2.0.0)\n",
            "Requirement already satisfied: sphinxcontrib-htmlhelp>=2.0.6 in /usr/local/lib/python3.11/dist-packages (from sphinx->fica>=0.4.1->otter-grader) (2.1.0)\n",
            "Requirement already satisfied: sphinxcontrib-jsmath>=1.0.1 in /usr/local/lib/python3.11/dist-packages (from sphinx->fica>=0.4.1->otter-grader) (1.0.1)\n",
            "Requirement already satisfied: sphinxcontrib-qthelp>=1.0.6 in /usr/local/lib/python3.11/dist-packages (from sphinx->fica>=0.4.1->otter-grader) (2.0.0)\n",
            "Requirement already satisfied: sphinxcontrib-serializinghtml>=1.1.9 in /usr/local/lib/python3.11/dist-packages (from sphinx->fica>=0.4.1->otter-grader) (2.0.0)\n",
            "Requirement already satisfied: snowballstemmer>=2.2 in /usr/local/lib/python3.11/dist-packages (from sphinx->fica>=0.4.1->otter-grader) (2.2.0)\n",
            "Requirement already satisfied: babel>=2.13 in /usr/local/lib/python3.11/dist-packages (from sphinx->fica>=0.4.1->otter-grader) (2.17.0)\n",
            "Requirement already satisfied: alabaster>=0.7.14 in /usr/local/lib/python3.11/dist-packages (from sphinx->fica>=0.4.1->otter-grader) (1.0.0)\n",
            "Requirement already satisfied: imagesize>=1.3 in /usr/local/lib/python3.11/dist-packages (from sphinx->fica>=0.4.1->otter-grader) (1.4.1)\n",
            "Requirement already satisfied: roman-numerals-py>=1.0.0 in /usr/local/lib/python3.11/dist-packages (from sphinx->fica>=0.4.1->otter-grader) (3.1.0)\n",
            "Requirement already satisfied: pyzmq>=13 in /usr/local/lib/python3.11/dist-packages (from jupyter-client>=6.1.12->nbclient>=0.5.0->nbconvert>=6.0.0->nbconvert[webpdf]>=6.0.0; sys_platform != \"emscripten\" and sys_platform != \"wasi\"->otter-grader) (24.0.1)\n",
            "Requirement already satisfied: tornado>=4.1 in /usr/local/lib/python3.11/dist-packages (from jupyter-client>=6.1.12->nbclient>=0.5.0->nbconvert>=6.0.0->nbconvert[webpdf]>=6.0.0; sys_platform != \"emscripten\" and sys_platform != \"wasi\"->otter-grader) (6.4.2)\n"
          ]
        }
      ],
      "source": [
        "# Run these once ... To be on a safe side\n",
        "!pip install nose\n",
        "!pip install otter-grader\n",
        "import IPython\n",
        "from IPython import get_ipython\n",
        "# Import the good stuff\n",
        "import pandas as pd\n",
        "import numpy as np\n",
        "import math\n",
        "from nose.tools import assert_equal\n",
        "import otter\n",
        "from collections import Counter\n",
        "\n",
        "grader = otter.Notebook()"
      ]
    },
    {
      "cell_type": "markdown",
      "metadata": {
        "id": "YPReSPhc8KKx"
      },
      "source": [
        "<!-- BEGIN QUESTION -->\n",
        "\n",
        "**Question 1:**\n",
        "Write a Python function to return a tuple of even and odd numbers\n",
        "\n",
        "1.   List item\n",
        "2.   List item\n",
        "\n",
        "given an integer input.</br>\n",
        "Example: For input 10, the output should be ([2, 4, 6, 8, 10], [1, 3, 5, 7, 9])."
      ]
    },
    {
      "cell_type": "code",
      "source": [
        "!mv q1.py tests/"
      ],
      "metadata": {
        "id": "2h1Hw9wPUFPR"
      },
      "execution_count": null,
      "outputs": []
    },
    {
      "cell_type": "code",
      "execution_count": null,
      "metadata": {
        "id": "kvU73do88KKx"
      },
      "outputs": [],
      "source": [
        "def even_odd_numbers(n):\n",
        "    \"\"\"\n",
        "    Returns a tuple of even and odd numbers up to n.\n",
        "\n",
        "    Args:\n",
        "        n (int): The upper limit.\n",
        "\n",
        "    Returns:\n",
        "        tuple: A tuple of two lists: (evens, odds).\n",
        "    \"\"\"\n",
        "\n",
        "    evens = []\n",
        "    odds = []\n",
        "    for i in range(1, n + 1):\n",
        "        if i % 2 == 0:\n",
        "            evens.append(i)\n",
        "        else:\n",
        "            odds.append(i)\n",
        "    return (evens, odds)"
      ]
    },
    {
      "cell_type": "code",
      "execution_count": null,
      "metadata": {
        "id": "RYnSyNnL8KKy",
        "colab": {
          "base_uri": "https://localhost:8080/",
          "height": 46
        },
        "outputId": "3e3ed61d-2004-410d-890a-205b66eaa51d"
      },
      "outputs": [
        {
          "output_type": "execute_result",
          "data": {
            "text/plain": [
              "q1 results: All test cases passed!"
            ],
            "text/html": [
              "<p><strong><pre style='display: inline;'>q1</pre></strong> passed! 💯</p>"
            ]
          },
          "metadata": {},
          "execution_count": 11
        }
      ],
      "source": [
        "grader.check(\"q1\")"
      ]
    },
    {
      "cell_type": "markdown",
      "metadata": {
        "id": "Bh4xvNso8KKz"
      },
      "source": [
        "<!-- END QUESTION -->\n",
        "\n",
        "<!-- BEGIN QUESTION -->\n",
        "\n",
        "**Question 2: Create a dictionary to store the frequency of each word in the paragraph provided.**</br>\n",
        "Example: For the paragraph \"Data science is fun. Data science is useful.\", the output should be {'Data': 2, 'science': 2, 'is': 2, 'fun': 1, 'useful': 1}."
      ]
    },
    {
      "cell_type": "code",
      "source": [
        "!mv q2.py tests/"
      ],
      "metadata": {
        "id": "GAptwbZ4bUAT"
      },
      "execution_count": null,
      "outputs": []
    },
    {
      "cell_type": "code",
      "execution_count": null,
      "metadata": {
        "id": "KHE3uffN8KK0"
      },
      "outputs": [],
      "source": [
        "def word_frequency(paragraph):\n",
        "    \"\"\"\n",
        "    Returns a dictionary of word frequencies in a paragraph.\n",
        "\n",
        "    Args:\n",
        "        paragraph (str): The input paragraph.\n",
        "\n",
        "    Returns:\n",
        "        dict: A dictionary with words as keys and their frequencies as values.\n",
        "    \"\"\"\n",
        "\n",
        "    words = paragraph.split()  # Split the paragraph into individual words\n",
        "    word_counts = {}  # Initialize an empty dictionary to store word frequencies\n",
        "\n",
        "    for word in words:\n",
        "        word = word.strip('.,!?\"').capitalize()  # Remove punctuation and capitalize\n",
        "        if word:  # Check if the word is not empty after removing punctuation\n",
        "            word_counts[word] = word_counts.get(word, 0) + 1\n",
        "\n",
        "    return word_counts  # Return the dictionary of word frequencies"
      ]
    },
    {
      "cell_type": "code",
      "execution_count": null,
      "metadata": {
        "id": "gPAqQgs-8KK0",
        "colab": {
          "base_uri": "https://localhost:8080/",
          "height": 46
        },
        "outputId": "08e290ae-bf5c-41ef-c419-d018065d3061"
      },
      "outputs": [
        {
          "output_type": "execute_result",
          "data": {
            "text/plain": [
              "q2 results: All test cases passed!"
            ],
            "text/html": [
              "<p><strong><pre style='display: inline;'>q2</pre></strong> passed! 🍀</p>"
            ]
          },
          "metadata": {},
          "execution_count": 14
        }
      ],
      "source": [
        "grader.check(\"q2\")"
      ]
    },
    {
      "cell_type": "markdown",
      "metadata": {
        "id": "dr4Lh5Lv8KK1"
      },
      "source": [
        "<!-- END QUESTION -->\n",
        "\n",
        "<!-- BEGIN QUESTION -->\n",
        "\n",
        "**Question 3: Extract the values from the dictionary above into a list and sort them in descending order.**</br>\n",
        "Example: For the dictionary {'a': 3, 'b': 1, 'c': 2}, the output should be [3, 2, 1]"
      ]
    },
    {
      "cell_type": "code",
      "source": [
        "!mv q3.py tests/"
      ],
      "metadata": {
        "id": "0gxpXFJFfXb_"
      },
      "execution_count": null,
      "outputs": []
    },
    {
      "cell_type": "code",
      "execution_count": null,
      "metadata": {
        "id": "aXvaLzgk8KK1"
      },
      "outputs": [],
      "source": [
        "def extract_and_sort_values(dictionary):\n",
        "    \"\"\"\n",
        "    Extracts and sorts dictionary values in descending order.\n",
        "\n",
        "    Args:\n",
        "        dictionary (dict): The input dictionary.\n",
        "\n",
        "    Returns:\n",
        "        list: A list of sorted values in descending order.\n",
        "    \"\"\"\n",
        "    values = list(dictionary.values())  # Extract values into a list\n",
        "    values.sort(reverse=True)  # Sort in descending order\n",
        "    return values  # Return the sorted list"
      ]
    },
    {
      "cell_type": "code",
      "execution_count": null,
      "metadata": {
        "id": "zaIPSFH48KK2",
        "colab": {
          "base_uri": "https://localhost:8080/",
          "height": 46
        },
        "outputId": "efd88b29-0b05-4efb-9321-813843af099e"
      },
      "outputs": [
        {
          "output_type": "execute_result",
          "data": {
            "text/plain": [
              "q3 results: All test cases passed!"
            ],
            "text/html": [
              "<p><strong><pre style='display: inline;'>q3</pre></strong> passed! 🙌</p>"
            ]
          },
          "metadata": {},
          "execution_count": 17
        }
      ],
      "source": [
        "grader.check(\"q3\")"
      ]
    },
    {
      "cell_type": "markdown",
      "metadata": {
        "id": "j_Hw0iMf8KK3"
      },
      "source": [
        "<!-- END QUESTION -->\n",
        "\n",
        "<!-- BEGIN QUESTION -->\n",
        "\n",
        "**Question 4: Merge the two lists (from Questions 3 and 4) into a dictionary where the keys are the sorted keys and the values are the sorted values.**</br>\n",
        "Example: For lists ['a', 'b', 'c'] and [3, 2, 1], the output should be {'a': 3, 'b': 2, 'c': 1}"
      ]
    },
    {
      "cell_type": "code",
      "source": [
        "!mv q4.py tests/"
      ],
      "metadata": {
        "id": "CgTQ7Dzfg36m"
      },
      "execution_count": null,
      "outputs": []
    },
    {
      "cell_type": "code",
      "execution_count": null,
      "metadata": {
        "id": "OVHbslU88KK4"
      },
      "outputs": [],
      "source": [
        "def merge_lists_to_dict(keys, values):\n",
        "    \"\"\"\n",
        "    Merges two lists into a dictionary.\n",
        "\n",
        "    Args:\n",
        "        keys (list): List of keys.\n",
        "        values (list): List of values.\n",
        "\n",
        "    Returns:\n",
        "        dict: A dictionary with keys and values paired.\n",
        "    \"\"\"\n",
        "    merged_dict = dict(zip(keys, values))  # Merge using zip and dict\n",
        "    return merged_dict  # Return the merged dictionary"
      ]
    },
    {
      "cell_type": "code",
      "execution_count": null,
      "metadata": {
        "id": "o7wNUU228KK4",
        "colab": {
          "base_uri": "https://localhost:8080/",
          "height": 46
        },
        "outputId": "3e41fbb5-9c8c-4f4f-e7e4-203e2d10bb3b"
      },
      "outputs": [
        {
          "output_type": "execute_result",
          "data": {
            "text/plain": [
              "q4 results: All test cases passed!"
            ],
            "text/html": [
              "<p><strong><pre style='display: inline;'>q4</pre></strong> passed! 🍀</p>"
            ]
          },
          "metadata": {},
          "execution_count": 20
        }
      ],
      "source": [
        "grader.check(\"q4\")"
      ]
    },
    {
      "cell_type": "markdown",
      "metadata": {
        "id": "SlPncvaL8KK5"
      },
      "source": [
        "<!-- END QUESTION -->\n",
        "\n",
        "<!-- BEGIN QUESTION -->\n",
        "\n",
        "**Question 5:Write a function least_common_multiple that takes two inputs a and b and returns the least common multiple of the two numbers.**</br>\n",
        "Example: For input (4, 6), the output should be 12"
      ]
    },
    {
      "cell_type": "code",
      "source": [
        "!mv q5.py tests/"
      ],
      "metadata": {
        "id": "nOqex60uirMN"
      },
      "execution_count": null,
      "outputs": []
    },
    {
      "cell_type": "code",
      "execution_count": null,
      "metadata": {
        "id": "NsQ3WwTo8KK5"
      },
      "outputs": [],
      "source": [
        "def least_common_multiple(a, b):\n",
        "    \"\"\"\n",
        "    Returns the least common multiple of two numbers.\n",
        "\n",
        "    Args:\n",
        "        a (int): First number.\n",
        "        b (int): Second number.\n",
        "\n",
        "    Returns:\n",
        "        int: The LCM of a and b.\n",
        "    \"\"\"\n",
        "    return abs(a*b) // math.gcd(a, b)  # Calculate and return the LCM"
      ]
    },
    {
      "cell_type": "code",
      "execution_count": null,
      "metadata": {
        "id": "-vsTAE1p8KK6",
        "colab": {
          "base_uri": "https://localhost:8080/",
          "height": 46
        },
        "outputId": "0fb42e3c-2c92-4841-9436-3e74abde25f7"
      },
      "outputs": [
        {
          "output_type": "execute_result",
          "data": {
            "text/plain": [
              "q5 results: All test cases passed!"
            ],
            "text/html": [
              "<p><strong><pre style='display: inline;'>q5</pre></strong> passed! 🌟</p>"
            ]
          },
          "metadata": {},
          "execution_count": 23
        }
      ],
      "source": [
        "grader.check(\"q5\")"
      ]
    },
    {
      "cell_type": "markdown",
      "metadata": {
        "id": "EZld_RQ68KK6"
      },
      "source": [
        "<!-- END QUESTION -->\n",
        "\n",
        "<!-- BEGIN QUESTION -->\n",
        "\n",
        "**Question 6:Write a function get_nearest_farthest that takes in a point of interest (x, y) and a list of points [(x1, y1), (x2, y2), ...] and returns the indices of the nearest and farthest points from the point of interest.** </br>\n",
        "Example: For pt = (0, 0) and points = [(1, 1), (3, 3), (-1, -1)], the output should be (0, 1)"
      ]
    },
    {
      "cell_type": "code",
      "source": [
        "!mv q6.py tests/"
      ],
      "metadata": {
        "id": "aTYvRvHHZAVY"
      },
      "execution_count": null,
      "outputs": []
    },
    {
      "cell_type": "code",
      "execution_count": null,
      "metadata": {
        "id": "iD02MTgo8KK6"
      },
      "outputs": [],
      "source": [
        "\n",
        "def get_nearest_farthest(pt, points):\n",
        "    \"\"\"\n",
        "    Returns the in dices of the nearest and farthest points from a point of interest.\n",
        "\n",
        "    Args:\n",
        "        pt (tuple): The point of interest (x, y).\n",
        "        points (list): List of points [(x1, y1), (x2, y2), ...].\n",
        "\n",
        "    Returns:\n",
        "        tuple: Indices of the nearest and farthest points.\n",
        "    \"\"\"\n",
        "    distances = [(i, (x - pt[0])**2 + (y - pt[1])**2) for i, (x, y) in enumerate(points)]\n",
        "\n",
        "    nearest_index = min(distances, key=lambda d: d[1])[0]\n",
        "    farthest_index = max(distances, key=lambda d: d[1])[0]\n",
        "\n",
        "    return nearest_index, farthest_index"
      ]
    },
    {
      "cell_type": "code",
      "execution_count": null,
      "metadata": {
        "id": "SOw2sX3y8KK7",
        "colab": {
          "base_uri": "https://localhost:8080/",
          "height": 46
        },
        "outputId": "7f528dc7-7962-43a0-be52-22d8dec1b8c9"
      },
      "outputs": [
        {
          "output_type": "execute_result",
          "data": {
            "text/plain": [
              "q6 results: All test cases passed!"
            ],
            "text/html": [
              "<p><strong><pre style='display: inline;'>q6</pre></strong> passed! ✨</p>"
            ]
          },
          "metadata": {},
          "execution_count": 26
        }
      ],
      "source": [
        "grader.check(\"q6\")"
      ]
    },
    {
      "cell_type": "markdown",
      "metadata": {
        "id": "8l4tTBzS8KK7"
      },
      "source": [
        "<!-- END QUESTION -->\n",
        "\n",
        "<!-- BEGIN QUESTION -->\n",
        "\n",
        "**Question 7:Write a function filter_divisible to return a list of numbers between 0 and a number N that are not perfectly divisible by q.** </br>\n",
        "\n",
        "> Hint: If N is negative, use N = 20.\n",
        "\n",
        "Example: For N = 10 and q = 2, the output should be [1, 3, 5, 7, 9]"
      ]
    },
    {
      "cell_type": "code",
      "source": [
        "!mv q7.py tests"
      ],
      "metadata": {
        "id": "bdnuLQN6e7gJ"
      },
      "execution_count": null,
      "outputs": []
    },
    {
      "cell_type": "code",
      "execution_count": null,
      "metadata": {
        "id": "0ngujbQY8KK8"
      },
      "outputs": [],
      "source": [
        "\n",
        "def filter_divisible(N, q):\n",
        "    \"\"\"\n",
        "    Returns a list of numbers between 0 and N that are not divisible by q.\n",
        "\n",
        "    Args:\n",
        "        N (int): The upper limit.\n",
        "        q (int): The divisor.\n",
        "\n",
        "    Returns:\n",
        "        list: A list of non-divisible numbers.\n",
        "    \"\"\"\n",
        "    if N < 0:\n",
        "        N = 20  # Use N = 20 if N is negative\n",
        "\n",
        "    return [i for i in range(N) if i % q != 0]"
      ]
    },
    {
      "cell_type": "code",
      "execution_count": null,
      "metadata": {
        "id": "wE22vId98KK8",
        "colab": {
          "base_uri": "https://localhost:8080/",
          "height": 46
        },
        "outputId": "b8adae1d-0f60-4501-fe54-0dfee1b22d73"
      },
      "outputs": [
        {
          "output_type": "execute_result",
          "data": {
            "text/plain": [
              "q7 results: All test cases passed!"
            ],
            "text/html": [
              "<p><strong><pre style='display: inline;'>q7</pre></strong> passed! 🚀</p>"
            ]
          },
          "metadata": {},
          "execution_count": 29
        }
      ],
      "source": [
        "grader.check(\"q7\")"
      ]
    },
    {
      "cell_type": "markdown",
      "metadata": {
        "id": "eFTo4rZJ8KK9"
      },
      "source": [
        "<!-- END QUESTION -->\n",
        "\n",
        "<!-- BEGIN QUESTION -->\n",
        "\n",
        "**Question 8: Write a function flatten_and_unique that takes in a list of lists and outputs a sorted list of unique elements from all sublists.**"
      ]
    },
    {
      "cell_type": "code",
      "source": [
        "!mv q8.py tests"
      ],
      "metadata": {
        "id": "jT6PX5LSgor0"
      },
      "execution_count": null,
      "outputs": []
    },
    {
      "cell_type": "code",
      "execution_count": null,
      "metadata": {
        "id": "SLe22O6e8KK9"
      },
      "outputs": [],
      "source": [
        "\n",
        "def flatten_and_unique(list_of_lists):\n",
        "    \"\"\"\n",
        "    Flattens a list of lists and returns a sorted list of unique elements.\n",
        "\n",
        "    Args:\n",
        "        list_of_lists (list): A list of lists.\n",
        "\n",
        "    Returns:\n",
        "        list: A sorted list of unique elements.\n",
        "    \"\"\"\n",
        "    unique_elements = set()  # Use a set to store unique elements\n",
        "\n",
        "    for sublist in list_of_lists:\n",
        "        unique_elements.update(sublist)  # Add elements from each sublist\n",
        "\n",
        "    return sorted(unique_elements)  # Return a sorted list of unique elements"
      ]
    },
    {
      "cell_type": "code",
      "execution_count": null,
      "metadata": {
        "id": "h4H6DtVe8KK9",
        "colab": {
          "base_uri": "https://localhost:8080/",
          "height": 46
        },
        "outputId": "eb7c8f2b-6c96-4cc0-eae2-e3a95fb53c04"
      },
      "outputs": [
        {
          "output_type": "execute_result",
          "data": {
            "text/plain": [
              "q8 results: All test cases passed!"
            ],
            "text/html": [
              "<p><strong><pre style='display: inline;'>q8</pre></strong> passed! 🙌</p>"
            ]
          },
          "metadata": {},
          "execution_count": 32
        }
      ],
      "source": [
        "grader.check(\"q8\")"
      ]
    },
    {
      "cell_type": "markdown",
      "metadata": {
        "id": "-e6K4v1d8KK-"
      },
      "source": [
        "<!-- END QUESTION -->\n",
        "\n",
        "**The Extra Mile!**\n"
      ]
    },
    {
      "cell_type": "markdown",
      "metadata": {
        "id": "NrsS-6gg8KK-"
      },
      "source": [
        "Download the dataset Nigeria Food Prices (9.9M)\n",
        "\n",
        "> https://data.humdata.org/dataset/wfp-food-prices-for-nigeria\n",
        "\n",
        "\n",
        "\n"
      ]
    },
    {
      "cell_type": "markdown",
      "metadata": {
        "id": "INS_zV0d8KK_"
      },
      "source": [
        "<!-- BEGIN QUESTION -->\n",
        "\n",
        "**Question 9: Create a new column date_new from the date column, converting it to a datetime format.**"
      ]
    },
    {
      "cell_type": "code",
      "source": [
        "!mv q9.py tests"
      ],
      "metadata": {
        "id": "PqWajl5mkTvR"
      },
      "execution_count": null,
      "outputs": []
    },
    {
      "cell_type": "code",
      "execution_count": null,
      "metadata": {
        "id": "m4JQZBsm8KK_",
        "colab": {
          "base_uri": "https://localhost:8080/"
        },
        "outputId": "34469dd7-4eb2-4c2b-ff9f-5c004a1009e4"
      },
      "outputs": [
        {
          "output_type": "stream",
          "name": "stdout",
          "text": [
            "First 5 rows of the dataset:\n",
            "         date   admin1 admin2        market  latitude  longitude  \\\n",
            "0  2002-01-15  Katsina  Jibia   Jibia (CBM)    13.080      7.240   \n",
            "1  2002-01-15  Katsina  Jibia   Jibia (CBM)    13.080      7.240   \n",
            "2  2002-01-15  Katsina  Jibia   Jibia (CBM)    13.080      7.240   \n",
            "3  2002-01-15  Katsina  Jibia   Jibia (CBM)    13.080      7.240   \n",
            "4  2002-01-15   Sokoto   Gada  Illela (CBM)    13.645      5.278   \n",
            "\n",
            "             category      commodity unit priceflag  pricetype currency  \\\n",
            "0  cereals and tubers          Maize   KG    actual  Wholesale      NGN   \n",
            "1  cereals and tubers         Millet   KG    actual  Wholesale      NGN   \n",
            "2  cereals and tubers        Sorghum   KG    actual  Wholesale      NGN   \n",
            "3     pulses and nuts  Beans (niebe)   KG    actual  Wholesale      NGN   \n",
            "4  cereals and tubers          Maize   KG    actual  Wholesale      NGN   \n",
            "\n",
            "    price  usdprice  \n",
            "0  175.92    1.5398  \n",
            "1  150.18    1.3145  \n",
            "2  155.61    1.3620  \n",
            "3  196.87    1.7231  \n",
            "4  153.35    1.3422  \n"
          ]
        }
      ],
      "source": [
        "import pandas as pd\n",
        "\n",
        "# Load the dataset\n",
        "file_path = '/content/drive/MyDrive/DSA25Test/wfp_food_prices_nga.csv'  # Replace with the actual file path\n",
        "df = pd.read_csv(file_path,skiprows=[1])\n",
        "df = df.drop(index=2)\n",
        "df = df.reset_index(drop=True)\n",
        "\n",
        "# Display the first few rows of the dataset\n",
        "print(\"First 5 rows of the dataset:\")\n",
        "print(df.head())"
      ]
    },
    {
      "cell_type": "code",
      "execution_count": null,
      "metadata": {
        "id": "e9p1EG2B8KLA"
      },
      "outputs": [],
      "source": [
        "\n",
        "def create_date_new(df):\n",
        "    \"\"\"\n",
        "    Creates a new column `date_new` from the `date` column, converting it to a datetime format.\n",
        "\n",
        "    Args:\n",
        "        df (pd.DataFrame): The input dataframe.\n",
        "\n",
        "    Returns:\n",
        "        pd.DataFrame: The dataframe with the new `date_new` column.\n",
        "    \"\"\"\n",
        "    df = df.copy()  # Avoid modifying the original dataframe\n",
        "    df[\"date_new\"] = pd.to_datetime(df[\"date\"], errors=\"coerce\")  # Convert to datetime\n",
        "    return df"
      ]
    },
    {
      "cell_type": "code",
      "execution_count": null,
      "metadata": {
        "id": "FV3UcE2y8KLA",
        "colab": {
          "base_uri": "https://localhost:8080/",
          "height": 46
        },
        "outputId": "4a3da449-ab72-44c6-aab0-e2e45e6792c3"
      },
      "outputs": [
        {
          "output_type": "execute_result",
          "data": {
            "text/plain": [
              "q9 results: All test cases passed!"
            ],
            "text/html": [
              "<p><strong><pre style='display: inline;'>q9</pre></strong> passed! 🎉</p>"
            ]
          },
          "metadata": {},
          "execution_count": 36
        }
      ],
      "source": [
        "grader.check(\"q9\")"
      ]
    },
    {
      "cell_type": "markdown",
      "metadata": {
        "id": "CduDvHRq8KLA"
      },
      "source": [
        "<!-- END QUESTION -->\n",
        "\n",
        "<!-- BEGIN QUESTION -->\n",
        "\n",
        "**Question 10:Split the dataframe into two separate dataframes based on the category column: one for cereals and tubers and another for pulses and nuts**"
      ]
    },
    {
      "cell_type": "code",
      "source": [
        "!mv q10.py tests"
      ],
      "metadata": {
        "id": "L1p90QoPmBci"
      },
      "execution_count": null,
      "outputs": []
    },
    {
      "cell_type": "code",
      "execution_count": null,
      "metadata": {
        "id": "VtjxQF7b8KLB"
      },
      "outputs": [],
      "source": [
        "\n",
        "def split_dataframes(df):\n",
        "    \"\"\"\n",
        "    Splits the dataframe into two separate dataframes based on the `category` column.\n",
        "\n",
        "    Args:\n",
        "        df (pd.DataFrame): The input dataframe.\n",
        "\n",
        "    Returns:\n",
        "        tuple: A tuple of two dataframes: (cereals_df, pulses_df).\n",
        "    \"\"\"\n",
        "    df = df.copy()  # Avoid modifying the original dataframe\n",
        "\n",
        "    cereals_df = df[df[\"category\"].str.lower() == \"cereals and tubers\"].reset_index(drop=True)\n",
        "    pulses_df = df[df[\"category\"].str.lower() == \"pulses and nuts\"].reset_index(drop=True)\n",
        "\n",
        "    return cereals_df, pulses_df"
      ]
    },
    {
      "cell_type": "code",
      "execution_count": null,
      "metadata": {
        "id": "aHwlQmZ88KLB",
        "colab": {
          "base_uri": "https://localhost:8080/",
          "height": 46
        },
        "outputId": "253aa27a-8cec-4129-e9d9-dac2fc6c530f"
      },
      "outputs": [
        {
          "output_type": "execute_result",
          "data": {
            "text/plain": [
              "q10 results: All test cases passed!"
            ],
            "text/html": [
              "<p><strong><pre style='display: inline;'>q10</pre></strong> passed! 🌟</p>"
            ]
          },
          "metadata": {},
          "execution_count": 39
        }
      ],
      "source": [
        "grader.check(\"q10\")"
      ]
    },
    {
      "cell_type": "markdown",
      "metadata": {
        "id": "2UtLzaba8KLC"
      },
      "source": [
        "<!-- END QUESTION -->\n",
        "\n",
        "<!-- BEGIN QUESTION -->\n",
        "\n",
        "**Question 11:Calculate the mean, median, and mode of the price and usdprice columns for each category**"
      ]
    },
    {
      "cell_type": "code",
      "source": [
        "!mv q11.py tests"
      ],
      "metadata": {
        "id": "npIMWm7pnaS0"
      },
      "execution_count": null,
      "outputs": []
    },
    {
      "cell_type": "code",
      "execution_count": null,
      "metadata": {
        "id": "Q368p5Wa8KLC"
      },
      "outputs": [],
      "source": [
        "def calculate_price_stats(df):\n",
        "    \"\"\"\n",
        "    Calculates the mean, median, and mode of the `price` and `usdprice` columns for each `category`.\n",
        "\n",
        "    Args:\n",
        "        df (pd.DataFrame): The input dataframe.\n",
        "\n",
        "    Returns:\n",
        "        tuple: A tuple of two dataframes: (price_stats, usdprice_stats).\n",
        "    \"\"\"\n",
        "    df = df.copy()  # Avoid modifying the original dataframe\n",
        "\n",
        "    # Group by category and calculate mean & median\n",
        "    price_stats = df.groupby(\"category\")[\"price\"].agg([\"mean\", \"median\"]).reset_index()\n",
        "    usdprice_stats = df.groupby(\"category\")[\"usdprice\"].agg([\"mean\", \"median\"]).reset_index()\n",
        "\n",
        "    # Calculate mode separately (mode can return multiple values, so take the first one)\n",
        "    price_mode = df.groupby(\"category\")[\"price\"].agg(lambda x: x.mode().iloc[0] if not x.mode().empty else None).reset_index()\n",
        "    usdprice_mode = df.groupby(\"category\")[\"usdprice\"].agg(lambda x: x.mode().iloc[0] if not x.mode().empty else None).reset_index()\n",
        "\n",
        "    # Merge mode values into the existing stats\n",
        "    price_stats = price_stats.merge(price_mode, on=\"category\").rename(columns={\"price\": \"mode\"})\n",
        "    usdprice_stats = usdprice_stats.merge(usdprice_mode, on=\"category\").rename(columns={\"price\": \"mode\"})\n",
        "\n",
        "    return price_stats, usdprice_stats"
      ]
    },
    {
      "cell_type": "code",
      "execution_count": null,
      "metadata": {
        "id": "LuFCAOcE8KLC",
        "colab": {
          "base_uri": "https://localhost:8080/",
          "height": 46
        },
        "outputId": "0f42006e-b793-4f08-8fd4-c3361947ca44"
      },
      "outputs": [
        {
          "output_type": "execute_result",
          "data": {
            "text/plain": [
              "q11 results: All test cases passed!"
            ],
            "text/html": [
              "<p><strong><pre style='display: inline;'>q11</pre></strong> passed! 🍀</p>"
            ]
          },
          "metadata": {},
          "execution_count": 42
        }
      ],
      "source": [
        "grader.check(\"q11\")"
      ]
    },
    {
      "cell_type": "code",
      "source": [
        "price_stats, usdprice_stats = calculate_price_stats(df)\n",
        "print(\"Price Stats:\\n\", price_stats)\n",
        "print(\"\\nUSD Price Stats:\\n\", usdprice_stats)"
      ],
      "metadata": {
        "colab": {
          "base_uri": "https://localhost:8080/"
        },
        "id": "jNj4swLzoqPJ",
        "outputId": "dacd990b-70fe-498c-e2f3-d12b97f5fe72"
      },
      "execution_count": null,
      "outputs": [
        {
          "output_type": "stream",
          "name": "stdout",
          "text": [
            "Price Stats:\n",
            "                 category          mean   median    mode\n",
            "0     cereals and tubers   7541.606374   630.27   300.0\n",
            "1    meat, fish and eggs   1300.555394  1100.00  1200.0\n",
            "2         milk and dairy    504.510188    50.00    50.0\n",
            "3     miscellaneous food    435.165042   400.00   200.0\n",
            "4               non-food    217.213169   166.79   145.0\n",
            "5           oil and fats   1007.810140   560.00   400.0\n",
            "6        pulses and nuts  10163.321229   678.36   250.0\n",
            "7  vegetables and fruits    161.879324   100.00    50.0\n",
            "\n",
            "USD Price Stats:\n",
            "                 category       mean   median  usdprice\n",
            "0     cereals and tubers  23.516124  1.76870    0.3269\n",
            "1    meat, fish and eggs   2.960003  3.27140    3.9222\n",
            "2         milk and dairy   0.633377  0.16340    0.1635\n",
            "3     miscellaneous food   1.071613  0.77030    1.5760\n",
            "4               non-food   0.679224  0.59495    0.4739\n",
            "5           oil and fats   3.219918  1.55660    0.9806\n",
            "6        pulses and nuts  30.952954  1.63690    0.8171\n",
            "7  vegetables and fruits   0.382822  0.26280    0.1629\n"
          ]
        }
      ]
    },
    {
      "cell_type": "markdown",
      "metadata": {
        "id": "NIjZTSPy8KLQ"
      },
      "source": [
        "<!-- END QUESTION -->\n",
        "\n",
        "<!-- BEGIN QUESTION -->\n",
        "\n",
        "**Question 12:Merge the two dataframes (from Question 11) back into one dataframe and save it as `merged_data.csv`.**"
      ]
    },
    {
      "cell_type": "code",
      "source": [
        "!mv q12.py tests"
      ],
      "metadata": {
        "id": "H3pQilXDo8_8"
      },
      "execution_count": null,
      "outputs": []
    },
    {
      "cell_type": "code",
      "execution_count": null,
      "metadata": {
        "id": "__B54hHO8KLQ"
      },
      "outputs": [],
      "source": [
        "def merge_dataframes(cereals_df, pulses_df):\n",
        "    \"\"\"\n",
        "    Merges the two dataframes back into one dataframe and saves it as `merged_data.csv`.\n",
        "\n",
        "    Args:\n",
        "        cereals_df (pd.DataFrame): The cereals and tubers dataframe.\n",
        "        pulses_df (pd.DataFrame): The pulses and nuts dataframe.\n",
        "\n",
        "    Returns:\n",
        "        pd.DataFrame: The merged dataframe.\n",
        "    \"\"\"\n",
        "    # Concatenate the two dataframes\n",
        "    merged_df = pd.concat([cereals_df, pulses_df], ignore_index=True)\n",
        "\n",
        "    # Save to CSV\n",
        "    merged_df.to_csv(\"merged_data.csv\", index=False)\n",
        "\n",
        "    return merged_df"
      ]
    },
    {
      "cell_type": "code",
      "execution_count": null,
      "metadata": {
        "id": "oPnXdlQu8KLR",
        "colab": {
          "base_uri": "https://localhost:8080/",
          "height": 46
        },
        "outputId": "ab4c8594-91b1-45c6-f47b-4f3cb246b485"
      },
      "outputs": [
        {
          "output_type": "execute_result",
          "data": {
            "text/plain": [
              "q12 results: All test cases passed!"
            ],
            "text/html": [
              "<p><strong><pre style='display: inline;'>q12</pre></strong> passed! 🌟</p>"
            ]
          },
          "metadata": {},
          "execution_count": 46
        }
      ],
      "source": [
        "grader.check(\"q12\")"
      ]
    },
    {
      "cell_type": "markdown",
      "metadata": {
        "id": "8gDyfga-8KLR"
      },
      "source": [
        "<!-- END QUESTION -->\n",
        "\n",
        "<!-- BEGIN QUESTION -->\n",
        "\n",
        "**Question 13:Open the `merged_data.csv` file and select only the `date_new`, `market`, `commodity`, `price`, and `usdprice` columns**"
      ]
    },
    {
      "cell_type": "code",
      "source": [
        "!mv q13.py tests"
      ],
      "metadata": {
        "id": "DFtpvxLPqmzr"
      },
      "execution_count": null,
      "outputs": []
    },
    {
      "cell_type": "code",
      "execution_count": null,
      "metadata": {
        "id": "8W8LwbWe8KLS"
      },
      "outputs": [],
      "source": [
        "def select_columns():\n",
        "    \"\"\"\n",
        "    Opens the `merged_data.csv` file and selects only the `date_new`, `market`, `commodity`, `price`, and `usdprice` columns.\n",
        "\n",
        "    Returns:\n",
        "        pd.DataFrame: The dataframe with selected columns.\n",
        "    \"\"\"\n",
        "    # Load the dataset\n",
        "    df = pd.read_csv(\"merged_data.csv\")\n",
        "\n",
        "    # Select the required columns\n",
        "    selected_columns = [\"date_new\", \"market\", \"commodity\", \"price\", \"usdprice\"]\n",
        "    df_selected = df[selected_columns]\n",
        "\n",
        "    return df_selected"
      ]
    },
    {
      "cell_type": "code",
      "execution_count": null,
      "metadata": {
        "id": "6_-LNofc8KLS",
        "colab": {
          "base_uri": "https://localhost:8080/",
          "height": 46
        },
        "outputId": "53209eb1-b666-4f19-f493-c627634474d3"
      },
      "outputs": [
        {
          "output_type": "execute_result",
          "data": {
            "text/plain": [
              "q13 results: All test cases passed!"
            ],
            "text/html": [
              "<p><strong><pre style='display: inline;'>q13</pre></strong> passed! 🌈</p>"
            ]
          },
          "metadata": {},
          "execution_count": 49
        }
      ],
      "source": [
        "grader.check(\"q13\")"
      ]
    },
    {
      "cell_type": "markdown",
      "metadata": {
        "id": "tCZTNI7n8KLT"
      },
      "source": [
        "<!-- END QUESTION -->\n",
        "\n",
        "<!-- BEGIN QUESTION -->\n",
        "\n",
        "**Question 14:Group the data by `admin1` (state) and calculate the average `price` and `usdprice` for each state**"
      ]
    },
    {
      "cell_type": "code",
      "source": [
        "!mv q14.py tests"
      ],
      "metadata": {
        "id": "38BS-o52sOyR"
      },
      "execution_count": null,
      "outputs": []
    },
    {
      "cell_type": "code",
      "execution_count": null,
      "metadata": {
        "id": "3iCgsmhv8KLU"
      },
      "outputs": [],
      "source": [
        "def calculate_state_avg_prices(df):\n",
        "    \"\"\"\n",
        "    Groups the data by `admin1` (state) and calculates the average `price` and `usdprice` for each state.\n",
        "\n",
        "    Args:\n",
        "        df (pd.DataFrame): The input dataframe.\n",
        "\n",
        "    Returns:\n",
        "        pd.DataFrame: The dataframe with average prices by state.\n",
        "    \"\"\"\n",
        "    # Group by admin1 (state) and calculate mean price and usdprice\n",
        "    state_avg_prices = df.groupby(\"admin1\")[[\"price\", \"usdprice\"]].mean().reset_index()\n",
        "\n",
        "    return state_avg_prices"
      ]
    },
    {
      "cell_type": "code",
      "execution_count": null,
      "metadata": {
        "id": "_hsqnL-98KLU",
        "colab": {
          "base_uri": "https://localhost:8080/",
          "height": 46
        },
        "outputId": "1d215bb8-0f67-4315-a0e5-97baee0276aa"
      },
      "outputs": [
        {
          "output_type": "execute_result",
          "data": {
            "text/plain": [
              "q14 results: All test cases passed!"
            ],
            "text/html": [
              "<p><strong><pre style='display: inline;'>q14</pre></strong> passed! ✨</p>"
            ]
          },
          "metadata": {},
          "execution_count": 52
        }
      ],
      "source": [
        "grader.check(\"q14\")"
      ]
    },
    {
      "cell_type": "code",
      "source": [
        "state_avg_prices = calculate_state_avg_prices(df)\n",
        "print(state_avg_prices.head())"
      ],
      "metadata": {
        "colab": {
          "base_uri": "https://localhost:8080/"
        },
        "id": "M7WLZvV0tCxi",
        "outputId": "502e744b-7572-43c7-f7f7-a526ba41abc7"
      },
      "execution_count": null,
      "outputs": [
        {
          "output_type": "stream",
          "name": "stdout",
          "text": [
            "    admin1         price   usdprice\n",
            "0     Abia  12705.178357  32.175509\n",
            "1  Adamawa   9927.312434  29.756854\n",
            "2    Borno   3004.453106   8.831226\n",
            "3    Gombe  10819.606426  33.740285\n",
            "4   Jigawa   8361.814072  26.023098\n"
          ]
        }
      ]
    },
    {
      "cell_type": "markdown",
      "metadata": {
        "id": "LFZCqPD18KLV"
      },
      "source": [
        "<!-- END QUESTION -->\n",
        "\n",
        "<!-- BEGIN QUESTION -->\n",
        "\n",
        "**Question 15:Identify the top 5 markets with the highest average `usdprice` for `Rice (imported)`.**"
      ]
    },
    {
      "cell_type": "code",
      "source": [
        "!mv q15.py tests"
      ],
      "metadata": {
        "id": "BrGyH9aOtXuW"
      },
      "execution_count": null,
      "outputs": []
    },
    {
      "cell_type": "code",
      "execution_count": null,
      "metadata": {
        "id": "NqexGriM8KLV"
      },
      "outputs": [],
      "source": [
        "def identify_top_markets(df):\n",
        "    \"\"\"\n",
        "    Identifies the top 5 markets with the highest average `usdprice` for `Rice (imported)`.\n",
        "\n",
        "    Args:\n",
        "        df (pd.DataFrame): The input dataframe.\n",
        "\n",
        "    Returns:\n",
        "        pd.Series: A series with the top 5 markets and their average `usdprice`.\n",
        "    \"\"\"\n",
        "    # Filter data for \"Rice (imported)\"\n",
        "    rice_df = df[df[\"commodity\"] == \"Rice (imported)\"]\n",
        "\n",
        "    # Group by market and calculate the average usdprice\n",
        "    top_markets = rice_df.groupby(\"market\")[\"usdprice\"].mean().nlargest(5)\n",
        "\n",
        "    return top_markets"
      ]
    },
    {
      "cell_type": "code",
      "execution_count": null,
      "metadata": {
        "id": "9G-KzftN8KLW",
        "colab": {
          "base_uri": "https://localhost:8080/",
          "height": 46
        },
        "outputId": "2cf66669-5c1a-4b9a-906c-9d4bec9cad5c"
      },
      "outputs": [
        {
          "output_type": "execute_result",
          "data": {
            "text/plain": [
              "q15 results: All test cases passed!"
            ],
            "text/html": [
              "<p><strong><pre style='display: inline;'>q15</pre></strong> passed! 💯</p>"
            ]
          },
          "metadata": {},
          "execution_count": 56
        }
      ],
      "source": [
        "grader.check(\"q15\")"
      ]
    },
    {
      "cell_type": "markdown",
      "metadata": {
        "id": "TM7GvFX28KLW"
      },
      "source": [
        "<!-- END QUESTION -->\n",
        "\n"
      ]
    },
    {
      "cell_type": "markdown",
      "metadata": {
        "id": "l6FA3yTo8KLX"
      },
      "source": [
        "---\n",
        "\n",
        "To double-check your work, the cell below will rerun all of the autograder tests."
      ]
    },
    {
      "cell_type": "code",
      "execution_count": null,
      "metadata": {
        "id": "AxV_Rkrk8KLX",
        "colab": {
          "base_uri": "https://localhost:8080/"
        },
        "outputId": "4f57eff3-d6c9-4a9c-fde0-0d4e742bd8a2"
      },
      "outputs": [
        {
          "output_type": "execute_result",
          "data": {
            "text/plain": [
              "q1 results: All test cases passed!\n",
              "\n",
              "q10 results: All test cases passed!\n",
              "\n",
              "q11 results: All test cases passed!\n",
              "\n",
              "q12 results: All test cases passed!\n",
              "\n",
              "q13 results: All test cases passed!\n",
              "\n",
              "q14 results: All test cases passed!\n",
              "\n",
              "q15 results: All test cases passed!\n",
              "\n",
              "q2 results: All test cases passed!\n",
              "\n",
              "q3 results: All test cases passed!\n",
              "\n",
              "q4 results: All test cases passed!\n",
              "\n",
              "q5 results: All test cases passed!\n",
              "\n",
              "q6 results: All test cases passed!\n",
              "\n",
              "q7 results: All test cases passed!\n",
              "\n",
              "q8 results: All test cases passed!\n",
              "\n",
              "q9 results: All test cases passed!"
            ]
          },
          "metadata": {},
          "execution_count": 57
        }
      ],
      "source": [
        "grader.check_all()"
      ]
    },
    {
      "cell_type": "markdown",
      "metadata": {
        "id": "0H1Ys1e88KLY"
      },
      "source": [
        "## Submission\n",
        "\n",
        "Make sure you have run all cells in your notebook in order before running the cell below, so that all images/graphs appear in the output. The cell below will generate a zip file for you to submit. **Please save before exporting!**\n",
        "\n",
        "Complete each function according to the provided specifications. Make sure all tests pass."
      ]
    },
    {
      "cell_type": "code",
      "execution_count": null,
      "metadata": {
        "id": "gL5_LAEA8KLY"
      },
      "outputs": [],
      "source": [
        "# Save your notebook first, then run this cell to export your submission.\n",
        "#grader.export(run_tests=True)"
      ]
    },
    {
      "cell_type": "markdown",
      "metadata": {
        "id": "agkRXJM88KLZ"
      },
      "source": []
    }
  ],
  "metadata": {
    "colab": {
      "provenance": [],
      "include_colab_link": true
    },
    "kernelspec": {
      "display_name": "Python 3",
      "language": "python",
      "name": "python3"
    },
    "language_info": {
      "codemirror_mode": {
        "name": "ipython",
        "version": 3
      },
      "file_extension": ".py",
      "mimetype": "text/x-python",
      "name": "python",
      "nbconvert_exporter": "python",
      "pygments_lexer": "ipython3",
      "version": "3.10.12"
    },
    "otter": {
      "OK_FORMAT": true,
      "export_pdf_failure_message": "A PDF of your notebook could not be generated. Please acknowledge to continue submission export.",
      "require_no_pdf_confirmation": true,
      "tests": {
        "q1": {
          "name": "q1",
          "points": 1,
          "suites": [
            {
              "cases": [
                {
                  "code": ">>> assert even_odd_numbers(10) == ([2, 4, 6, 8, 10], [1, 3, 5, 7, 9])\n",
                  "hidden": false,
                  "locked": false
                },
                {
                  "code": ">>> assert even_odd_numbers(5) == ([2, 4], [1, 3, 5])\n",
                  "hidden": false,
                  "locked": false
                }
              ],
              "scored": true,
              "setup": "",
              "teardown": "",
              "type": "doctest"
            }
          ]
        },
        "q10": {
          "name": "q10",
          "points": 1,
          "suites": [
            {
              "cases": [
                {
                  "code": ">>> (cereals_df, pulses_df) = split_dataframes(df)\n>>> assert len(cereals_df) > 0, 'Cereals and tubers dataframe is empty'\n",
                  "hidden": false,
                  "locked": false
                },
                {
                  "code": ">>> assert len(pulses_df) > 0, 'Pulses and nuts dataframe is empty'\n",
                  "hidden": false,
                  "locked": false
                }
              ],
              "scored": true,
              "setup": "",
              "teardown": "",
              "type": "doctest"
            }
          ]
        },
        "q11": {
          "name": "q11",
          "points": 1,
          "suites": [
            {
              "cases": [
                {
                  "code": ">>> (price_stats, usdprice_stats) = calculate_price_stats(df)\n>>> assert not price_stats.empty, 'Price statistics dataframe is empty'\n",
                  "hidden": false,
                  "locked": false
                },
                {
                  "code": ">>> assert not usdprice_stats.empty, 'USD price statistics dataframe is empty'\n",
                  "hidden": false,
                  "locked": false
                }
              ],
              "scored": true,
              "setup": "",
              "teardown": "",
              "type": "doctest"
            }
          ]
        },
        "q12": {
          "name": "q12",
          "points": 1,
          "suites": [
            {
              "cases": [
                {
                  "code": ">>> merged_df = merge_dataframes(cereals_df, pulses_df)\n>>> assert not merged_df.empty, 'Merged dataframe is empty'\n",
                  "hidden": false,
                  "locked": false
                },
                {
                  "code": ">>> assert len(merged_df) == len(cereals_df) + len(pulses_df), 'Merged dataframe has incorrect number of rows'\n",
                  "hidden": false,
                  "locked": false
                }
              ],
              "scored": true,
              "setup": "",
              "teardown": "",
              "type": "doctest"
            }
          ]
        },
        "q13": {
          "name": "q13",
          "points": 1,
          "suites": [
            {
              "cases": [
                {
                  "code": ">>> selected_columns = select_columns()\n>>> assert not selected_columns.empty, 'Selected columns dataframe is empty'\n",
                  "hidden": false,
                  "locked": false
                },
                {
                  "code": ">>> assert list(selected_columns.columns) == ['date_new', 'market', 'commodity', 'price', 'usdprice'], 'Incorrect columns selected'\n",
                  "hidden": false,
                  "locked": false
                }
              ],
              "scored": true,
              "setup": "",
              "teardown": "",
              "type": "doctest"
            }
          ]
        },
        "q14": {
          "name": "q14",
          "points": 1,
          "suites": [
            {
              "cases": [
                {
                  "code": ">>> state_avg_prices = calculate_state_avg_prices(df)\n>>> assert not state_avg_prices.empty, 'State average prices dataframe is empty'\n",
                  "hidden": false,
                  "locked": false
                },
                {
                  "code": ">>> assert 'price' in state_avg_prices.columns, 'Price column not found in state average prices'\n",
                  "hidden": false,
                  "locked": false
                }
              ],
              "scored": true,
              "setup": "",
              "teardown": "",
              "type": "doctest"
            }
          ]
        },
        "q15": {
          "name": "q15",
          "points": 1,
          "suites": [
            {
              "cases": [
                {
                  "code": ">>> top_markets = identify_top_markets(df)\n>>> assert not top_markets.empty, 'Top markets dataframe is empty'\n",
                  "hidden": false,
                  "locked": false
                },
                {
                  "code": ">>> assert len(top_markets) == 5, 'Incorrect number of top markets'\n",
                  "hidden": false,
                  "locked": false
                }
              ],
              "scored": true,
              "setup": "",
              "teardown": "",
              "type": "doctest"
            }
          ]
        },
        "q2": {
          "name": "q2",
          "points": 1,
          "suites": [
            {
              "cases": [
                {
                  "code": ">>> assert word_frequency('Data science is fun. Data science is useful.') == {'data': 2, 'science': 2, 'is': 2, 'fun': 1, 'useful': 1}\n",
                  "hidden": false,
                  "locked": false
                },
                {
                  "code": ">>> assert word_frequency('Hello hello world') == {'hello': 2, 'world': 1}\n",
                  "hidden": false,
                  "locked": false
                }
              ],
              "scored": true,
              "setup": "",
              "teardown": "",
              "type": "doctest"
            }
          ]
        },
        "q3": {
          "name": "q3",
          "points": 1,
          "suites": [
            {
              "cases": [
                {
                  "code": ">>> assert extract_and_sort_values({'a': 3, 'b': 1, 'c': 2}) == [3, 2, 1]\n",
                  "hidden": false,
                  "locked": false
                },
                {
                  "code": ">>> assert extract_and_sort_values({'x': 10, 'y': 5, 'z': 20}) == [20, 10, 5]\n",
                  "hidden": false,
                  "locked": false
                }
              ],
              "scored": true,
              "setup": "",
              "teardown": "",
              "type": "doctest"
            }
          ]
        },
        "q4": {
          "name": "q4",
          "points": 1,
          "suites": [
            {
              "cases": [
                {
                  "code": ">>> assert merge_lists_to_dict(['a', 'b', 'c'], [3, 2, 1]) == {'a': 3, 'b': 2, 'c': 1}\n",
                  "hidden": false,
                  "locked": false
                },
                {
                  "code": ">>> assert merge_lists_to_dict(['x', 'y'], [10, 20]) == {'x': 10, 'y': 20}\n",
                  "hidden": false,
                  "locked": false
                }
              ],
              "scored": true,
              "setup": "",
              "teardown": "",
              "type": "doctest"
            }
          ]
        },
        "q5": {
          "name": "q5",
          "points": 1,
          "suites": [
            {
              "cases": [
                {
                  "code": ">>> assert least_common_multiple(4, 6) == 12\n",
                  "hidden": false,
                  "locked": false
                },
                {
                  "code": ">>> assert least_common_multiple(5, 10) == 10\n",
                  "hidden": false,
                  "locked": false
                }
              ],
              "scored": true,
              "setup": "",
              "teardown": "",
              "type": "doctest"
            }
          ]
        },
        "q6": {
          "name": "q6",
          "points": 1,
          "suites": [
            {
              "cases": [
                {
                  "code": ">>> assert get_nearest_farthest((0, 0), [(1, 1), (3, 3), (-1, -1)]) == (0, 1)\n",
                  "hidden": false,
                  "locked": false
                },
                {
                  "code": ">>> assert get_nearest_farthest((0, 0), [(2, 2), (1, 1), (3, 3)]) == (1, 2)\n",
                  "hidden": false,
                  "locked": false
                }
              ],
              "scored": true,
              "setup": "",
              "teardown": "",
              "type": "doctest"
            }
          ]
        },
        "q7": {
          "name": "q7",
          "points": 1,
          "suites": [
            {
              "cases": [
                {
                  "code": ">>> assert filter_divisible(10, 2) == [1, 3, 5, 7, 9]\n",
                  "hidden": false,
                  "locked": false
                },
                {
                  "code": ">>> assert filter_divisible(15, 3) == [1, 2, 4, 5, 7, 8, 10, 11, 13, 14]\n",
                  "hidden": false,
                  "locked": false
                }
              ],
              "scored": true,
              "setup": "",
              "teardown": "",
              "type": "doctest"
            }
          ]
        },
        "q8": {
          "name": "q8",
          "points": 1,
          "suites": [
            {
              "cases": [
                {
                  "code": ">>> assert flatten_and_unique([[2, 13, 44], [6, 7, 2]]) == [2, 6, 7, 13, 44]\n",
                  "hidden": false,
                  "locked": false
                },
                {
                  "code": ">>> assert flatten_and_unique([[1, 2, 3], [3, 4, 5]]) == [1, 2, 3, 4, 5]\n",
                  "hidden": false,
                  "locked": false
                }
              ],
              "scored": true,
              "setup": "",
              "teardown": "",
              "type": "doctest"
            }
          ]
        },
        "q9": {
          "name": "q9",
          "points": 1,
          "suites": [
            {
              "cases": [
                {
                  "code": ">>> df = create_date_new(df)\n>>> assert 'date_new' in df.columns, \"Column 'date_new' not found in the dataframe\"\n",
                  "hidden": false,
                  "locked": false
                },
                {
                  "code": ">>> assert df['date_new'].dtype == 'datetime64[ns]', \"Column 'date_new' is not in datetime format\"\n",
                  "hidden": false,
                  "locked": false
                }
              ],
              "scored": true,
              "setup": "",
              "teardown": "",
              "type": "doctest"
            }
          ]
        }
      }
    }
  },
  "nbformat": 4,
  "nbformat_minor": 0
}