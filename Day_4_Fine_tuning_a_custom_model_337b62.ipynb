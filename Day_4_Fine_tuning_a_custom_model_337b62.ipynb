{
  "metadata": {
    "kernelspec": {
      "name": "python3",
      "display_name": "Python 3",
      "language": "python"
    },
    "language_info": {
      "name": "python",
      "version": "3.10.14",
      "mimetype": "text/x-python",
      "codemirror_mode": {
        "name": "ipython",
        "version": 3
      },
      "pygments_lexer": "ipython3",
      "nbconvert_exporter": "python",
      "file_extension": ".py"
    },
    "colab": {
      "name": "Day 4 - Fine tuning a custom model 337b62",
      "provenance": [],
      "include_colab_link": true
    },
    "kaggle": {
      "accelerator": "none",
      "dataSources": [],
      "dockerImageVersionId": 30786,
      "isInternetEnabled": true,
      "language": "python",
      "sourceType": "notebook",
      "isGpuEnabled": false
    }
  },
  "nbformat_minor": 0,
  "nbformat": 4,
  "cells": [
    {
      "cell_type": "markdown",
      "metadata": {
        "id": "view-in-github",
        "colab_type": "text"
      },
      "source": [
        "<a href=\"https://colab.research.google.com/github/akanbiabiodun25/HNG/blob/main/Day_4_Fine_tuning_a_custom_model_337b62.ipynb\" target=\"_parent\"><img src=\"https://colab.research.google.com/assets/colab-badge.svg\" alt=\"Open In Colab\"/></a>"
      ]
    },
    {
      "cell_type": "markdown",
      "source": [
        "##### Copyright 2025 Google LLC."
      ],
      "metadata": {
        "id": "b6e13eef3f5d"
      }
    },
    {
      "cell_type": "code",
      "source": [
        "# @title Licensed under the Apache License, Version 2.0 (the \"License\");\n",
        "# you may not use this file except in compliance with the License.\n",
        "# You may obtain a copy of the License at\n",
        "#\n",
        "# https://www.apache.org/licenses/LICENSE-2.0\n",
        "#\n",
        "# Unless required by applicable law or agreed to in writing, software\n",
        "# distributed under the License is distributed on an \"AS IS\" BASIS,\n",
        "# WITHOUT WARRANTIES OR CONDITIONS OF ANY KIND, either express or implied.\n",
        "# See the License for the specific language governing permissions and\n",
        "# limitations under the License."
      ],
      "metadata": {
        "cellView": "form",
        "id": "d6597b11df14",
        "jupyter": {
          "source_hidden": true
        },
        "trusted": true,
        "execution": {
          "iopub.status.busy": "2025-04-03T03:47:38.834841Z",
          "iopub.execute_input": "2025-04-03T03:47:38.835308Z",
          "iopub.status.idle": "2025-04-03T03:47:38.862452Z",
          "shell.execute_reply.started": "2025-04-03T03:47:38.835253Z",
          "shell.execute_reply": "2025-04-03T03:47:38.861338Z"
        }
      },
      "outputs": [],
      "execution_count": null
    },
    {
      "cell_type": "markdown",
      "source": [
        "# Day 4 - Fine tuning a custom model\n",
        "\n",
        "Welcome back to the Kaggle 5-day Generative AI course!\n",
        "\n",
        "In this notebook you will use the Gemini API to fine-tune a custom, task-specific model. Fine-tuning can be used for a variety of tasks from classic NLP problems like entity extraction or summarisation, to creative tasks like stylised generation. You will fine-tune a model to classify the category a piece of text (a newsgroup post) into the category it belongs to (the newsgroup name).\n",
        "\n",
        "This codelab walks you tuning a model with the API. [AI Studio](https://aistudio.google.com/app/tune) also supports creating new tuned models directly in the web UI, allowing you to quickly create and monitor models using data from Google Sheets, Drive or your own files.\n",
        "\n",
        "**Note**: We recommend doing this codelab first today. There may be a period of waiting while the model tunes, so if you start with this one, you can try the other codelab while you wait."
      ],
      "metadata": {
        "id": "4KDIFPAL2EnL"
      }
    },
    {
      "cell_type": "code",
      "source": [
        "!pip uninstall -qqy jupyterlab  # Remove unused conflicting packages\n",
        "!pip install -U -q \"google-genai==1.7.0\""
      ],
      "metadata": {
        "id": "9wafTyEH1_xF",
        "trusted": true,
        "execution": {
          "iopub.status.busy": "2025-04-03T03:47:38.864743Z",
          "iopub.execute_input": "2025-04-03T03:47:38.865065Z",
          "iopub.status.idle": "2025-04-03T03:47:58.124497Z",
          "shell.execute_reply.started": "2025-04-03T03:47:38.865033Z",
          "shell.execute_reply": "2025-04-03T03:47:58.123158Z"
        }
      },
      "outputs": [],
      "execution_count": null
    },
    {
      "cell_type": "code",
      "source": [
        "from google import genai\n",
        "from google.genai import types\n",
        "\n",
        "genai.__version__"
      ],
      "metadata": {
        "id": "T0CBG9xL2PvT",
        "trusted": true,
        "execution": {
          "iopub.status.busy": "2025-04-03T03:47:58.126451Z",
          "iopub.execute_input": "2025-04-03T03:47:58.126948Z",
          "iopub.status.idle": "2025-04-03T03:47:59.530257Z",
          "shell.execute_reply.started": "2025-04-03T03:47:58.12689Z",
          "shell.execute_reply": "2025-04-03T03:47:59.528933Z"
        },
        "outputId": "c2bbb054-45df-456a-805e-1ef0c644b6be"
      },
      "outputs": [
        {
          "execution_count": 3,
          "output_type": "execute_result",
          "data": {
            "text/plain": "'1.7.0'"
          },
          "metadata": {}
        }
      ],
      "execution_count": null
    },
    {
      "cell_type": "markdown",
      "source": [
        "### Set up your API key\n",
        "\n",
        "To run the following cell, your API key must be stored it in a [Kaggle secret](https://www.kaggle.com/discussions/product-feedback/114053) named `GOOGLE_API_KEY`.\n",
        "\n",
        "If you don't already have an API key, you can grab one from [AI Studio](https://aistudio.google.com/app/apikey). You can find [detailed instructions in the docs](https://ai.google.dev/gemini-api/docs/api-key).\n",
        "\n",
        "To make the key available through Kaggle secrets, choose `Secrets` from the `Add-ons` menu and follow the instructions to add your key or enable it for this notebook."
      ],
      "metadata": {
        "id": "P4bYX2T72ScK"
      }
    },
    {
      "cell_type": "code",
      "source": [
        "from kaggle_secrets import UserSecretsClient\n",
        "\n",
        "GOOGLE_API_KEY = UserSecretsClient().get_secret(\"GOOGLE_API_KEY\")\n",
        "\n",
        "client = genai.Client(api_key=GOOGLE_API_KEY)"
      ],
      "metadata": {
        "id": "VuJPY3GK2SLZ",
        "trusted": true,
        "execution": {
          "iopub.status.busy": "2025-04-03T03:47:59.53178Z",
          "iopub.execute_input": "2025-04-03T03:47:59.532447Z",
          "iopub.status.idle": "2025-04-03T03:47:59.904275Z",
          "shell.execute_reply.started": "2025-04-03T03:47:59.532397Z",
          "shell.execute_reply": "2025-04-03T03:47:59.902906Z"
        }
      },
      "outputs": [],
      "execution_count": null
    },
    {
      "cell_type": "markdown",
      "source": [
        "If you received an error response along the lines of `No user secrets exist for kernel id ...`, then you need to add your API key via `Add-ons`, `Secrets` **and** enable it.\n",
        "\n",
        "![Screenshot of the checkbox to enable GOOGLE_API_KEY secret](https://storage.googleapis.com/kaggle-media/Images/5gdai_sc_3.png)"
      ],
      "metadata": {
        "id": "25b2127c2052"
      }
    },
    {
      "cell_type": "markdown",
      "source": [
        "### Explore available models\n",
        "\n",
        "You will be using the [`TunedModel.create`](https://ai.google.dev/api/tuning#method:-tunedmodels.create) API method to start the fine-tuning job and create your custom model. Find a model that supports it through the [`models.list`](https://ai.google.dev/api/models#method:-models.list) endpoint. You can also find more information about tuning models in [the model tuning docs](https://ai.google.dev/gemini-api/docs/model-tuning/tutorial?lang=python)."
      ],
      "metadata": {
        "id": "CqVA5QFO6n4z"
      }
    },
    {
      "cell_type": "code",
      "source": [
        "for model in client.models.list():\n",
        "    if \"createTunedModel\" in model.supported_actions:\n",
        "        print(model.name)"
      ],
      "metadata": {
        "id": "coEacWAB6o0G",
        "trusted": true,
        "execution": {
          "iopub.status.busy": "2025-04-03T03:47:59.905727Z",
          "iopub.execute_input": "2025-04-03T03:47:59.906134Z",
          "iopub.status.idle": "2025-04-03T03:47:59.976662Z",
          "shell.execute_reply.started": "2025-04-03T03:47:59.906098Z",
          "shell.execute_reply": "2025-04-03T03:47:59.975017Z"
        },
        "outputId": "df4897d2-7c73-4e84-aa12-9ac28cff94b4"
      },
      "outputs": [
        {
          "name": "stdout",
          "text": "models/gemini-1.5-flash-001-tuning\n",
          "output_type": "stream"
        }
      ],
      "execution_count": null
    },
    {
      "cell_type": "markdown",
      "source": [
        "## Download the dataset\n",
        "\n",
        "In this activity, you will use the same newsgroups dataset that [you used to train a classifier in Keras](https://www.kaggle.com/code/markishere/day-2-classifying-embeddings-with-keras/). In this example you will use a fine-tuned Gemini model to achieve the same goal.\n",
        "\n",
        "The [20 Newsgroups Text Dataset](https://scikit-learn.org/0.19/datasets/twenty_newsgroups.html) contains 18,000 newsgroups posts on 20 topics divided into training and test sets."
      ],
      "metadata": {
        "id": "peFm0w_0c1CO"
      }
    },
    {
      "cell_type": "code",
      "source": [
        "from sklearn.datasets import fetch_20newsgroups\n",
        "\n",
        "newsgroups_train = fetch_20newsgroups(subset=\"train\")\n",
        "newsgroups_test = fetch_20newsgroups(subset=\"test\")\n",
        "\n",
        "# View list of class names for dataset\n",
        "newsgroups_train.target_names"
      ],
      "metadata": {
        "id": "bX_kpgnQ9b-Z",
        "trusted": true,
        "execution": {
          "iopub.status.busy": "2025-04-03T03:47:59.97844Z",
          "iopub.execute_input": "2025-04-03T03:47:59.978903Z",
          "iopub.status.idle": "2025-04-03T03:48:12.004783Z",
          "shell.execute_reply.started": "2025-04-03T03:47:59.978856Z",
          "shell.execute_reply": "2025-04-03T03:48:12.003502Z"
        },
        "outputId": "9a4df23f-3a49-488d-f42a-d58cfe5f14bc"
      },
      "outputs": [
        {
          "execution_count": 6,
          "output_type": "execute_result",
          "data": {
            "text/plain": "['alt.atheism',\n 'comp.graphics',\n 'comp.os.ms-windows.misc',\n 'comp.sys.ibm.pc.hardware',\n 'comp.sys.mac.hardware',\n 'comp.windows.x',\n 'misc.forsale',\n 'rec.autos',\n 'rec.motorcycles',\n 'rec.sport.baseball',\n 'rec.sport.hockey',\n 'sci.crypt',\n 'sci.electronics',\n 'sci.med',\n 'sci.space',\n 'soc.religion.christian',\n 'talk.politics.guns',\n 'talk.politics.mideast',\n 'talk.politics.misc',\n 'talk.religion.misc']"
          },
          "metadata": {}
        }
      ],
      "execution_count": null
    },
    {
      "cell_type": "markdown",
      "source": [
        "Here's what a single row looks like."
      ],
      "metadata": {
        "id": "ipafe6ptZFjt"
      }
    },
    {
      "cell_type": "code",
      "source": [
        "print(newsgroups_train.data[0])"
      ],
      "metadata": {
        "id": "EtEXcdT39hCB",
        "trusted": true,
        "execution": {
          "iopub.status.busy": "2025-04-03T03:48:12.009386Z",
          "iopub.execute_input": "2025-04-03T03:48:12.009782Z",
          "iopub.status.idle": "2025-04-03T03:48:12.015364Z",
          "shell.execute_reply.started": "2025-04-03T03:48:12.009745Z",
          "shell.execute_reply": "2025-04-03T03:48:12.014317Z"
        },
        "outputId": "abbcb697-5d90-4f22-9961-aff758359128"
      },
      "outputs": [
        {
          "name": "stdout",
          "text": "From: lerxst@wam.umd.edu (where's my thing)\nSubject: WHAT car is this!?\nNntp-Posting-Host: rac3.wam.umd.edu\nOrganization: University of Maryland, College Park\nLines: 15\n\n I was wondering if anyone out there could enlighten me on this car I saw\nthe other day. It was a 2-door sports car, looked to be from the late 60s/\nearly 70s. It was called a Bricklin. The doors were really small. In addition,\nthe front bumper was separate from the rest of the body. This is \nall I know. If anyone can tellme a model name, engine specs, years\nof production, where this car is made, history, or whatever info you\nhave on this funky looking car, please e-mail.\n\nThanks,\n- IL\n   ---- brought to you by your neighborhood Lerxst ----\n\n\n\n\n\n",
          "output_type": "stream"
        }
      ],
      "execution_count": null
    },
    {
      "cell_type": "markdown",
      "source": [
        "## Prepare the dataset\n",
        "\n",
        "You'll use the same pre-processing code you used for the custom model on day 2. This pre-processing removes personal information, which can be used to \"shortcut\" to known users of a forum, and formats the text to appear a bit more like regular text and less like a newsgroup post (e.g. by removing the mail headers). This normalisation allows the model to generalise to regular text and not over-depend on specific fields. If your input data is always going to be newsgroup posts, it may be helpful to leave this structure in place if they provide genuine signals."
      ],
      "metadata": {
        "id": "03lDs1O4ZQ0-"
      }
    },
    {
      "cell_type": "code",
      "source": [
        "import email\n",
        "import re\n",
        "\n",
        "import pandas as pd\n",
        "\n",
        "\n",
        "def preprocess_newsgroup_row(data):\n",
        "    # Extract only the subject and body\n",
        "    msg = email.message_from_string(data)\n",
        "    text = f\"{msg['Subject']}\\n\\n{msg.get_payload()}\"\n",
        "    # Strip any remaining email addresses\n",
        "    text = re.sub(r\"[\\w\\.-]+@[\\w\\.-]+\", \"\", text)\n",
        "    # Truncate the text to fit within the input limits\n",
        "    text = text[:40000]\n",
        "\n",
        "    return text\n",
        "\n",
        "\n",
        "def preprocess_newsgroup_data(newsgroup_dataset):\n",
        "    # Put data points into dataframe\n",
        "    df = pd.DataFrame(\n",
        "        {\"Text\": newsgroup_dataset.data, \"Label\": newsgroup_dataset.target}\n",
        "    )\n",
        "    # Clean up the text\n",
        "    df[\"Text\"] = df[\"Text\"].apply(preprocess_newsgroup_row)\n",
        "    # Match label to target name index\n",
        "    df[\"Class Name\"] = df[\"Label\"].map(lambda l: newsgroup_dataset.target_names[l])\n",
        "\n",
        "    return df"
      ],
      "metadata": {
        "id": "IoNYTxpoZgB0",
        "trusted": true,
        "execution": {
          "iopub.status.busy": "2025-04-03T03:48:12.016594Z",
          "iopub.execute_input": "2025-04-03T03:48:12.016928Z",
          "iopub.status.idle": "2025-04-03T03:48:12.375107Z",
          "shell.execute_reply.started": "2025-04-03T03:48:12.016895Z",
          "shell.execute_reply": "2025-04-03T03:48:12.37389Z"
        }
      },
      "outputs": [],
      "execution_count": null
    },
    {
      "cell_type": "code",
      "source": [
        "# Apply preprocessing to training and test datasets\n",
        "df_train = preprocess_newsgroup_data(newsgroups_train)\n",
        "df_test = preprocess_newsgroup_data(newsgroups_test)\n",
        "\n",
        "df_train.head()"
      ],
      "metadata": {
        "id": "kvOsUSRWaW4g",
        "trusted": true,
        "execution": {
          "iopub.status.busy": "2025-04-03T03:48:12.3765Z",
          "iopub.execute_input": "2025-04-03T03:48:12.377017Z",
          "iopub.status.idle": "2025-04-03T03:48:16.13382Z",
          "shell.execute_reply.started": "2025-04-03T03:48:12.376981Z",
          "shell.execute_reply": "2025-04-03T03:48:16.132541Z"
        },
        "outputId": "25b54da3-fdbc-40eb-e409-211d8b068689"
      },
      "outputs": [
        {
          "execution_count": 9,
          "output_type": "execute_result",
          "data": {
            "text/plain": "                                                Text  Label  \\\n0  WHAT car is this!?\\n\\n I was wondering if anyo...      7   \n1  SI Clock Poll - Final Call\\n\\nA fair number of...      4   \n2  PB questions...\\n\\nwell folks, my mac plus fin...      4   \n3  Re: Weitek P9000 ?\\n\\nRobert J.C. Kyanko () wr...      1   \n4  Re: Shuttle Launch Question\\n\\nFrom article <>...     14   \n\n              Class Name  \n0              rec.autos  \n1  comp.sys.mac.hardware  \n2  comp.sys.mac.hardware  \n3          comp.graphics  \n4              sci.space  ",
            "text/html": "<div>\n<style scoped>\n    .dataframe tbody tr th:only-of-type {\n        vertical-align: middle;\n    }\n\n    .dataframe tbody tr th {\n        vertical-align: top;\n    }\n\n    .dataframe thead th {\n        text-align: right;\n    }\n</style>\n<table border=\"1\" class=\"dataframe\">\n  <thead>\n    <tr style=\"text-align: right;\">\n      <th></th>\n      <th>Text</th>\n      <th>Label</th>\n      <th>Class Name</th>\n    </tr>\n  </thead>\n  <tbody>\n    <tr>\n      <th>0</th>\n      <td>WHAT car is this!?\\n\\n I was wondering if anyo...</td>\n      <td>7</td>\n      <td>rec.autos</td>\n    </tr>\n    <tr>\n      <th>1</th>\n      <td>SI Clock Poll - Final Call\\n\\nA fair number of...</td>\n      <td>4</td>\n      <td>comp.sys.mac.hardware</td>\n    </tr>\n    <tr>\n      <th>2</th>\n      <td>PB questions...\\n\\nwell folks, my mac plus fin...</td>\n      <td>4</td>\n      <td>comp.sys.mac.hardware</td>\n    </tr>\n    <tr>\n      <th>3</th>\n      <td>Re: Weitek P9000 ?\\n\\nRobert J.C. Kyanko () wr...</td>\n      <td>1</td>\n      <td>comp.graphics</td>\n    </tr>\n    <tr>\n      <th>4</th>\n      <td>Re: Shuttle Launch Question\\n\\nFrom article &lt;&gt;...</td>\n      <td>14</td>\n      <td>sci.space</td>\n    </tr>\n  </tbody>\n</table>\n</div>"
          },
          "metadata": {}
        }
      ],
      "execution_count": null
    },
    {
      "cell_type": "markdown",
      "source": [
        "Now sample the data. You will keep 50 rows for each category for training. Note that this is even fewer than the Keras example, as this technique (parameter-efficient fine-tuning, or PEFT) updates a relatively small number of parameters and does not require training a new model or updating the large model."
      ],
      "metadata": {
        "id": "XSKcj5WtadaR"
      }
    },
    {
      "cell_type": "code",
      "source": [
        "def sample_data(df, num_samples, classes_to_keep):\n",
        "    # Sample rows, selecting num_samples of each Label.\n",
        "    df = (\n",
        "        df.groupby(\"Label\")[df.columns]\n",
        "        .apply(lambda x: x.sample(num_samples))\n",
        "        .reset_index(drop=True)\n",
        "    )\n",
        "\n",
        "    df = df[df[\"Class Name\"].str.contains(classes_to_keep)]\n",
        "    df[\"Class Name\"] = df[\"Class Name\"].astype(\"category\")\n",
        "\n",
        "    return df\n",
        "\n",
        "\n",
        "TRAIN_NUM_SAMPLES = 50\n",
        "TEST_NUM_SAMPLES = 10\n",
        "# Keep rec.* and sci.*\n",
        "CLASSES_TO_KEEP = \"^rec|^sci\"\n",
        "\n",
        "df_train = sample_data(df_train, TRAIN_NUM_SAMPLES, CLASSES_TO_KEEP)\n",
        "df_test = sample_data(df_test, TEST_NUM_SAMPLES, CLASSES_TO_KEEP)"
      ],
      "metadata": {
        "id": "0t9Xu6X5akkt",
        "trusted": true,
        "execution": {
          "iopub.status.busy": "2025-04-03T03:48:16.135194Z",
          "iopub.execute_input": "2025-04-03T03:48:16.135623Z",
          "iopub.status.idle": "2025-04-03T03:48:16.185602Z",
          "shell.execute_reply.started": "2025-04-03T03:48:16.135588Z",
          "shell.execute_reply": "2025-04-03T03:48:16.184438Z"
        }
      },
      "outputs": [],
      "execution_count": null
    },
    {
      "cell_type": "markdown",
      "source": [
        "## Evaluate baseline performance\n",
        "\n",
        "Before you start tuning a model, it's good practice to perform an evaluation on the available models to ensure you can measure how much the tuning helps.\n",
        "\n",
        "First identify a single sample row to use for visual inspection."
      ],
      "metadata": {
        "id": "lNnnVxL3ybhP"
      }
    },
    {
      "cell_type": "code",
      "source": [
        "sample_idx = 0\n",
        "sample_row = preprocess_newsgroup_row(newsgroups_test.data[sample_idx])\n",
        "sample_label = newsgroups_test.target_names[newsgroups_test.target[sample_idx]]\n",
        "\n",
        "print(sample_row)\n",
        "print('---')\n",
        "print('Label:', sample_label)"
      ],
      "metadata": {
        "trusted": true,
        "execution": {
          "iopub.status.busy": "2025-04-03T03:48:16.187026Z",
          "iopub.execute_input": "2025-04-03T03:48:16.187384Z",
          "iopub.status.idle": "2025-04-03T03:48:16.193925Z",
          "shell.execute_reply.started": "2025-04-03T03:48:16.187352Z",
          "shell.execute_reply": "2025-04-03T03:48:16.192566Z"
        },
        "id": "fFUzZ7TEybhQ",
        "outputId": "73ab11c2-a5d7-4342-b942-2d63ba89e13e"
      },
      "outputs": [
        {
          "name": "stdout",
          "text": "Need info on 88-89 Bonneville\n\n\n I am a little confused on all of the models of the 88-89 bonnevilles.\nI have heard of the LE SE LSE SSE SSEI. Could someone tell me the\ndifferences are far as features or performance. I am also curious to\nknow what the book value is for prefereably the 89 model. And how much\nless than book value can you usually get them for. In other words how\nmuch are they in demand this time of year. I have heard that the mid-spring\nearly summer is the best time to buy.\n\n\t\t\tNeil Gandler\n\n---\nLabel: rec.autos\n",
          "output_type": "stream"
        }
      ],
      "execution_count": null
    },
    {
      "cell_type": "markdown",
      "source": [
        "Passing the text directly in as a prompt does not yield the desired results. The model will attempt to respond to the message."
      ],
      "metadata": {
        "id": "aWrABjnHybhR"
      }
    },
    {
      "cell_type": "code",
      "source": [
        "response = client.models.generate_content(\n",
        "    model=\"gemini-1.5-flash-001\", contents=sample_row)\n",
        "print(response.text)"
      ],
      "metadata": {
        "trusted": true,
        "execution": {
          "iopub.status.busy": "2025-04-03T03:48:16.195488Z",
          "iopub.execute_input": "2025-04-03T03:48:16.195938Z",
          "iopub.status.idle": "2025-04-03T03:48:20.033741Z",
          "shell.execute_reply.started": "2025-04-03T03:48:16.195887Z",
          "shell.execute_reply": "2025-04-03T03:48:20.032527Z"
        },
        "id": "raqVeAGeybhR",
        "outputId": "d9b37a3a-df00-411d-a3ed-7b979c4cd466"
      },
      "outputs": [
        {
          "name": "stdout",
          "text": "## 1988-1989 Pontiac Bonneville: Deciphering the Model Codes\n\nYou're right, the 1988-1989 Bonneville lineup can be confusing! Here's a breakdown of the trim levels and what distinguishes them:\n\n**Base Model:**\n* No special designation\n* Basic features, cloth interior, vinyl roof (some models)\n\n**LE:**\n* \"Luxury Edition\"\n* Upgraded interior with cloth or optional leather seats\n* More standard features like power windows, locks, mirrors\n* More stylish exterior trim\n\n**SE:**\n* \"Sport Edition\"\n* Sporty exterior with ground effects and alloy wheels\n* Typically included a firmer suspension and a 3.8L V6 engine\n* Available in coupe and sedan body styles\n\n**LSE:**\n* \"Luxury Sport Edition\"\n* Combined features of both LE and SE\n* Offered with optional leather and a 3.8L V6\n* Typically included a firmer suspension and a 3.8L V6 engine\n\n**SSE:**\n* \"Sport Touring Sedan Edition\"\n* High-performance version with a 3.8L V6 engine tuned for more power\n* Included a firmer suspension, specific wheels, and interior upgrades\n* Mostly offered in sedan body style, but some coupes existed\n\n**SSEi:**\n* \"Sport Touring Sedan Edition, Injected\"\n* The top-of-the-line Bonneville with a 3.8L V6 engine featuring fuel injection\n* Featured a more advanced suspension and a host of standard performance features\n* Mostly offered in sedan body style\n\n**Note:** The exact features and specifications may vary slightly depending on the model year and specific options chosen. It's always best to consult a Pontiac dealer or online resource for complete details. \n\n## Book Value and Pricing\n\nUnfortunately, providing exact book values is impossible without knowing the condition, mileage, and specific options of the car you are interested in. Websites like **Kelley Blue Book (KBB)** and **Edmunds** can give you a good estimate of the car's value based on your input.\n\n**Generally, you can expect to pay:**\n\n* **Below book value:**  For cars in average or fair condition with high mileage or minor problems. \n* **Around book value:** For cars in good condition with average mileage.\n* **Above book value:** For cars in excellent condition with low mileage and desirable options.\n\n**Mid-spring to early summer** can indeed be a good time to buy, as dealers may be looking to clear out inventory for new models. However, prices can vary greatly depending on local market conditions and competition. \n\n**Tips for getting a good deal:**\n\n* **Research thoroughly:** Check prices on multiple websites and compare them to similar models.\n* **Negotiate:** Don't be afraid to negotiate the price with the seller, especially if the car has some flaws.\n* **Get a pre-purchase inspection:** This will give you peace of mind and identify any potential issues.\n\n**Remember:** Purchasing a used car requires careful research and due diligence. Don't be afraid to ask questions and do your research to make sure you are getting a fair price for a reliable car. Good luck with your search! \n\n",
          "output_type": "stream"
        }
      ],
      "execution_count": null
    },
    {
      "cell_type": "markdown",
      "source": [
        "You can use the prompt engineering techniques you have learned this week to induce the model to perform the desired task. Try some of your own ideas and see what is effective, or check out the following cells for different approaches. Note that they have different levels of effectiveness!"
      ],
      "metadata": {
        "id": "AmnRNd2hybhR"
      }
    },
    {
      "cell_type": "code",
      "source": [
        "# Ask the model directly in a zero-shot prompt.\n",
        "\n",
        "prompt = \"From what newsgroup does the following message originate?\"\n",
        "baseline_response = client.models.generate_content(\n",
        "    model=\"gemini-1.5-flash-001\",\n",
        "    contents=[prompt, sample_row])\n",
        "print(baseline_response.text)"
      ],
      "metadata": {
        "trusted": true,
        "execution": {
          "iopub.status.busy": "2025-04-03T03:48:20.035356Z",
          "iopub.execute_input": "2025-04-03T03:48:20.036291Z",
          "iopub.status.idle": "2025-04-03T03:48:21.644487Z",
          "shell.execute_reply.started": "2025-04-03T03:48:20.036216Z",
          "shell.execute_reply": "2025-04-03T03:48:21.643186Z"
        },
        "id": "LmuW94qXybhS",
        "outputId": "b30afcf0-4e37-4479-f765-b98a1765b723"
      },
      "outputs": [
        {
          "name": "stdout",
          "text": "It's impossible to determine the exact newsgroup from the provided message. \n\nHowever, based on the content, it's likely to be a newsgroup focused on **Buick automobiles**, specifically **Bonneville models from 1988-1989**. \n\nHere's why:\n\n* **Topic:** The message is explicitly about Buick Bonnevilles from a specific year range.\n* **Model Specificity:** It references various trim levels like LE, SE, LSE, SSE, and SSEi, all common to the 1988-1989 Bonneville lineup.\n* **Book Value Inquiry:** The question about book value and price negotiations strongly suggests a car-related community.\n\nTherefore, potential newsgroups could be:\n\n* **alt.autos.buick**\n* **rec.autos.buick**\n* **rec.autos.misc.buick** \n* **alt.autos.buysell.buick** \n\nWithout additional context like the newsgroup header or the full message thread, it's difficult to pinpoint the exact origin. \n\n",
          "output_type": "stream"
        }
      ],
      "execution_count": null
    },
    {
      "cell_type": "markdown",
      "source": [
        "This technique still produces quite a verbose response. You could try and parse out the relevant text, or refine the prompt even further."
      ],
      "metadata": {
        "id": "A2z96hqjybhS"
      }
    },
    {
      "cell_type": "code",
      "source": [
        "from google.api_core import retry\n",
        "\n",
        "# You can use a system instruction to do more direct prompting, and get a\n",
        "# more succinct answer.\n",
        "\n",
        "system_instruct = \"\"\"\n",
        "You are a classification service. You will be passed input that represents\n",
        "a newsgroup post and you must respond with the newsgroup from which the post\n",
        "originates.\n",
        "\"\"\"\n",
        "\n",
        "# Define a helper to retry when per-minute quota is reached.\n",
        "is_retriable = lambda e: (isinstance(e, genai.errors.APIError) and e.code in {429, 503})\n",
        "\n",
        "# If you want to evaluate your own technique, replace this body of this function\n",
        "# with your model, prompt and other code and return the predicted answer.\n",
        "@retry.Retry(predicate=is_retriable)\n",
        "def predict_label(post: str) -> str:\n",
        "    response = client.models.generate_content(\n",
        "        model=\"gemini-1.5-flash-001\",\n",
        "        config=types.GenerateContentConfig(\n",
        "            system_instruction=system_instruct),\n",
        "        contents=post)\n",
        "\n",
        "    rc = response.candidates[0]\n",
        "\n",
        "    # Any errors, filters, recitation, etc we can mark as a general error\n",
        "    if rc.finish_reason.name != \"STOP\":\n",
        "        return \"(error)\"\n",
        "    else:\n",
        "        # Clean up the response.\n",
        "        return response.text.strip()\n",
        "\n",
        "\n",
        "prediction = predict_label(sample_row)\n",
        "\n",
        "print(prediction)\n",
        "print()\n",
        "print(\"Correct!\" if prediction == sample_label else \"Incorrect.\")"
      ],
      "metadata": {
        "trusted": true,
        "execution": {
          "iopub.status.busy": "2025-04-03T03:48:21.6458Z",
          "iopub.execute_input": "2025-04-03T03:48:21.646167Z",
          "iopub.status.idle": "2025-04-03T03:48:22.186184Z",
          "shell.execute_reply.started": "2025-04-03T03:48:21.646125Z",
          "shell.execute_reply": "2025-04-03T03:48:22.185019Z"
        },
        "id": "xkqDxn3LybhT",
        "outputId": "01eab6e0-62da-42e4-a983-8865517b9f33"
      },
      "outputs": [
        {
          "name": "stdout",
          "text": "rec.autos.misc\n\nIncorrect.\n",
          "output_type": "stream"
        }
      ],
      "execution_count": null
    },
    {
      "cell_type": "markdown",
      "source": [
        "Now run a short evaluation using the function defined above. The test set is further sampled to ensure the experiment runs smoothly on the API's free tier. In practice you would evaluate over the whole set."
      ],
      "metadata": {
        "id": "Tjr3uFHcybhT"
      }
    },
    {
      "cell_type": "code",
      "source": [
        "import tqdm\n",
        "from tqdm.rich import tqdm as tqdmr\n",
        "import warnings\n",
        "\n",
        "# Enable tqdm features on Pandas.\n",
        "tqdmr.pandas()\n",
        "\n",
        "# But suppress the experimental warning\n",
        "warnings.filterwarnings(\"ignore\", category=tqdm.TqdmExperimentalWarning)\n",
        "\n",
        "\n",
        "# Further sample the test data to be mindful of the free-tier quota.\n",
        "df_baseline_eval = sample_data(df_test, 2, '.*')\n",
        "\n",
        "# Make predictions using the sampled data.\n",
        "df_baseline_eval['Prediction'] = df_baseline_eval['Text'].progress_apply(predict_label)\n",
        "\n",
        "# And calculate the accuracy.\n",
        "accuracy = (df_baseline_eval[\"Class Name\"] == df_baseline_eval[\"Prediction\"]).sum() / len(df_baseline_eval)\n",
        "print(f\"Accuracy: {accuracy:.2%}\")"
      ],
      "metadata": {
        "trusted": true,
        "execution": {
          "iopub.status.busy": "2025-04-03T03:48:22.188066Z",
          "iopub.execute_input": "2025-04-03T03:48:22.188532Z",
          "iopub.status.idle": "2025-04-03T03:48:56.551193Z",
          "shell.execute_reply.started": "2025-04-03T03:48:22.188476Z",
          "shell.execute_reply": "2025-04-03T03:48:56.549782Z"
        },
        "id": "5H6qefv_ybhU",
        "outputId": "191fb0f9-6939-4197-a2c7-106b7f83da86",
        "colab": {
          "referenced_widgets": [
            "4b19e27c8a08454f81cfc95181a4a7b7"
          ]
        }
      },
      "outputs": [
        {
          "output_type": "display_data",
          "data": {
            "text/plain": "Output()",
            "application/vnd.jupyter.widget-view+json": {
              "version_major": 2,
              "version_minor": 0,
              "model_id": "4b19e27c8a08454f81cfc95181a4a7b7"
            }
          },
          "metadata": {}
        },
        {
          "output_type": "display_data",
          "data": {
            "text/plain": "",
            "text/html": "<pre style=\"white-space:pre;overflow-x:auto;line-height:normal;font-family:Menlo,'DejaVu Sans Mono',consolas,'Courier New',monospace\"></pre>\n"
          },
          "metadata": {}
        },
        {
          "output_type": "display_data",
          "data": {
            "text/plain": "\n",
            "text/html": "<pre style=\"white-space:pre;overflow-x:auto;line-height:normal;font-family:Menlo,'DejaVu Sans Mono',consolas,'Courier New',monospace\">\n</pre>\n"
          },
          "metadata": {}
        },
        {
          "name": "stdout",
          "text": "Accuracy: 18.75%\n",
          "output_type": "stream"
        }
      ],
      "execution_count": null
    },
    {
      "cell_type": "markdown",
      "source": [
        "Now take a look at the dataframe to compare the predictions with the labels."
      ],
      "metadata": {
        "id": "33tStW36ybhV"
      }
    },
    {
      "cell_type": "code",
      "source": [
        "df_baseline_eval"
      ],
      "metadata": {
        "trusted": true,
        "execution": {
          "iopub.status.busy": "2025-04-03T03:48:56.552878Z",
          "iopub.execute_input": "2025-04-03T03:48:56.553438Z",
          "iopub.status.idle": "2025-04-03T03:48:56.567836Z",
          "shell.execute_reply.started": "2025-04-03T03:48:56.553377Z",
          "shell.execute_reply": "2025-04-03T03:48:56.566716Z"
        },
        "id": "ncwJJ0wyybhV",
        "outputId": "73e5270c-58bc-43c2-c11d-9c781fd40232"
      },
      "outputs": [
        {
          "execution_count": 16,
          "output_type": "execute_result",
          "data": {
            "text/plain": "                                                 Text  Label  \\\n0   Re: The 1994 Mustang\\n\\nIn article <>  (Brian ...      7   \n1   SOME TAURUS MISC. MAINT.\\n\\n-> 4) Are there an...      7   \n2   Re: Traffic morons\\n\\nIn article <>  (John Sta...      8   \n3   Kawi KZ 750 partial engine disassembly ?\\n\\nMy...      8   \n4   Re: Jack Morris\\n\\nIn article <>  (Roger Mayna...      9   \n5   Re: bosio's no-hitter\\n\\n (BROWN PHILIP H) wri...      9   \n6   NHL Summary parse results for games played Tue...     10   \n7   Re: ESPN\\n\\nIn article <>,  (Robert Andolina) ...     10   \n8   Re: Overreacting (was Re: Once tapped, your co...     11   \n9   Re: Let's build software cryptophones for over...     11   \n10  Re: How universal are (video) phones these day...     12   \n11  Re: Why circuit boards are green?\\n\\nIn articl...     12   \n12  HICN611 Medical News Part 2/4\\n\\n-------------...     13   \n13  Bates eye-exercises\\n\\nHave I mailed this to t...     13   \n14  Re: HST Servicing Mission Scheduled for 11 Day...     14   \n15  Re: temperature of the dark sky\\n\\n\\n (Henry S...     14   \n\n            Class Name               Prediction  \n0            rec.autos     rec.autos.sports.car  \n1            rec.autos           rec.autos.misc  \n2      rec.motorcycles               misc.legal  \n3      rec.motorcycles          rec.motorcycles  \n4   rec.sport.baseball      rec.sports.baseball  \n5   rec.sport.baseball       rec.sport.baseball  \n6     rec.sport.hockey               nhl.scores  \n7     rec.sport.hockey        rec.sports.hockey  \n8            sci.crypt     alt.politics.clinton  \n9            sci.crypt                  (error)  \n10     sci.electronics                  (error)  \n11     sci.electronics                  (error)  \n12             sci.med  misc.health.alternative  \n13             sci.med               alt.health  \n14           sci.space                sci.space  \n15           sci.space                sci.astro  ",
            "text/html": "<div>\n<style scoped>\n    .dataframe tbody tr th:only-of-type {\n        vertical-align: middle;\n    }\n\n    .dataframe tbody tr th {\n        vertical-align: top;\n    }\n\n    .dataframe thead th {\n        text-align: right;\n    }\n</style>\n<table border=\"1\" class=\"dataframe\">\n  <thead>\n    <tr style=\"text-align: right;\">\n      <th></th>\n      <th>Text</th>\n      <th>Label</th>\n      <th>Class Name</th>\n      <th>Prediction</th>\n    </tr>\n  </thead>\n  <tbody>\n    <tr>\n      <th>0</th>\n      <td>Re: The 1994 Mustang\\n\\nIn article &lt;&gt;  (Brian ...</td>\n      <td>7</td>\n      <td>rec.autos</td>\n      <td>rec.autos.sports.car</td>\n    </tr>\n    <tr>\n      <th>1</th>\n      <td>SOME TAURUS MISC. MAINT.\\n\\n-&gt; 4) Are there an...</td>\n      <td>7</td>\n      <td>rec.autos</td>\n      <td>rec.autos.misc</td>\n    </tr>\n    <tr>\n      <th>2</th>\n      <td>Re: Traffic morons\\n\\nIn article &lt;&gt;  (John Sta...</td>\n      <td>8</td>\n      <td>rec.motorcycles</td>\n      <td>misc.legal</td>\n    </tr>\n    <tr>\n      <th>3</th>\n      <td>Kawi KZ 750 partial engine disassembly ?\\n\\nMy...</td>\n      <td>8</td>\n      <td>rec.motorcycles</td>\n      <td>rec.motorcycles</td>\n    </tr>\n    <tr>\n      <th>4</th>\n      <td>Re: Jack Morris\\n\\nIn article &lt;&gt;  (Roger Mayna...</td>\n      <td>9</td>\n      <td>rec.sport.baseball</td>\n      <td>rec.sports.baseball</td>\n    </tr>\n    <tr>\n      <th>5</th>\n      <td>Re: bosio's no-hitter\\n\\n (BROWN PHILIP H) wri...</td>\n      <td>9</td>\n      <td>rec.sport.baseball</td>\n      <td>rec.sport.baseball</td>\n    </tr>\n    <tr>\n      <th>6</th>\n      <td>NHL Summary parse results for games played Tue...</td>\n      <td>10</td>\n      <td>rec.sport.hockey</td>\n      <td>nhl.scores</td>\n    </tr>\n    <tr>\n      <th>7</th>\n      <td>Re: ESPN\\n\\nIn article &lt;&gt;,  (Robert Andolina) ...</td>\n      <td>10</td>\n      <td>rec.sport.hockey</td>\n      <td>rec.sports.hockey</td>\n    </tr>\n    <tr>\n      <th>8</th>\n      <td>Re: Overreacting (was Re: Once tapped, your co...</td>\n      <td>11</td>\n      <td>sci.crypt</td>\n      <td>alt.politics.clinton</td>\n    </tr>\n    <tr>\n      <th>9</th>\n      <td>Re: Let's build software cryptophones for over...</td>\n      <td>11</td>\n      <td>sci.crypt</td>\n      <td>(error)</td>\n    </tr>\n    <tr>\n      <th>10</th>\n      <td>Re: How universal are (video) phones these day...</td>\n      <td>12</td>\n      <td>sci.electronics</td>\n      <td>(error)</td>\n    </tr>\n    <tr>\n      <th>11</th>\n      <td>Re: Why circuit boards are green?\\n\\nIn articl...</td>\n      <td>12</td>\n      <td>sci.electronics</td>\n      <td>(error)</td>\n    </tr>\n    <tr>\n      <th>12</th>\n      <td>HICN611 Medical News Part 2/4\\n\\n-------------...</td>\n      <td>13</td>\n      <td>sci.med</td>\n      <td>misc.health.alternative</td>\n    </tr>\n    <tr>\n      <th>13</th>\n      <td>Bates eye-exercises\\n\\nHave I mailed this to t...</td>\n      <td>13</td>\n      <td>sci.med</td>\n      <td>alt.health</td>\n    </tr>\n    <tr>\n      <th>14</th>\n      <td>Re: HST Servicing Mission Scheduled for 11 Day...</td>\n      <td>14</td>\n      <td>sci.space</td>\n      <td>sci.space</td>\n    </tr>\n    <tr>\n      <th>15</th>\n      <td>Re: temperature of the dark sky\\n\\n\\n (Henry S...</td>\n      <td>14</td>\n      <td>sci.space</td>\n      <td>sci.astro</td>\n    </tr>\n  </tbody>\n</table>\n</div>"
          },
          "metadata": {}
        }
      ],
      "execution_count": null
    },
    {
      "cell_type": "markdown",
      "source": [
        "## Tune a custom model\n",
        "\n",
        "In this example you'll use tuning to create a model that requires no prompting or system instructions and outputs succinct text from the classes you provide in the training data.\n",
        "\n",
        "The data contains both input text (the processed posts) and output text (the category, or newsgroup), that you can use to start tuning a model.\n",
        "\n",
        "When calling `tune()`, you can specify model tuning hyperparameters too:\n",
        " - `epoch_count`: defines how many times to loop through the data,\n",
        " - `batch_size`: defines how many rows to process in a single step, and\n",
        " - `learning_rate`: defines the scaling factor for updating model weights at each step.\n",
        "\n",
        "You can also choose to omit them and use the defaults. [Learn more](https://developers.google.com/machine-learning/crash-course/linear-regression/hyperparameters) about these parameters and how they work. For this example these parameters were selected by running some tuning jobs and selecting parameters that converged efficiently.\n",
        "\n",
        "This example will start a new tuning job, but only if one does not already exist. This allows you to leave this codelab and come back later - re-running this step will find your last model."
      ],
      "metadata": {
        "id": "Ok7ugrLzcghX"
      }
    },
    {
      "cell_type": "code",
      "source": [
        "from collections.abc import Iterable\n",
        "import random\n",
        "\n",
        "\n",
        "# Convert the data frame into a dataset suitable for tuning.\n",
        "input_data = {'examples':\n",
        "    df_train[['Text', 'Class Name']]\n",
        "      .rename(columns={'Text': 'textInput', 'Class Name': 'output'})\n",
        "      .to_dict(orient='records')\n",
        " }\n",
        "\n",
        "# If you are re-running this lab, add your model_id here.\n",
        "model_id = None\n",
        "\n",
        "# Or try and find a recent tuning job.\n",
        "if not model_id:\n",
        "  queued_model = None\n",
        "  # Newest models first.\n",
        "  for m in reversed(client.tunings.list()):\n",
        "    # Only look at newsgroup classification models.\n",
        "    if m.name.startswith('tunedModels/newsgroup-classification-model'):\n",
        "      # If there is a completed model, use the first (newest) one.\n",
        "      if m.state.name == 'JOB_STATE_SUCCEEDED':\n",
        "        model_id = m.name\n",
        "        print('Found existing tuned model to reuse.')\n",
        "        break\n",
        "\n",
        "      elif m.state.name == 'JOB_STATE_RUNNING' and not queued_model:\n",
        "        # If there's a model still queued, remember the most recent one.\n",
        "        queued_model = m.name\n",
        "  else:\n",
        "    if queued_model:\n",
        "      model_id = queued_model\n",
        "      print('Found queued model, still waiting.')\n",
        "\n",
        "\n",
        "# Upload the training data and queue the tuning job.\n",
        "if not model_id:\n",
        "    tuning_op = client.tunings.tune(\n",
        "        base_model=\"models/gemini-1.5-flash-001-tuning\",\n",
        "        training_dataset=input_data,\n",
        "        config=types.CreateTuningJobConfig(\n",
        "            tuned_model_display_name=\"Newsgroup classification model\",\n",
        "            batch_size=16,\n",
        "            epoch_count=2,\n",
        "        ),\n",
        "    )\n",
        "\n",
        "    print(tuning_op.state)\n",
        "    model_id = tuning_op.name\n",
        "\n",
        "print(model_id)"
      ],
      "metadata": {
        "id": "pWOZlspfY8dV",
        "trusted": true,
        "execution": {
          "iopub.status.busy": "2025-04-03T03:48:56.569283Z",
          "iopub.execute_input": "2025-04-03T03:48:56.569616Z",
          "iopub.status.idle": "2025-04-03T03:48:56.73798Z",
          "shell.execute_reply.started": "2025-04-03T03:48:56.569582Z",
          "shell.execute_reply": "2025-04-03T03:48:56.736579Z"
        },
        "outputId": "4845d07b-d6e8-45cb-c099-fc8dc4950215"
      },
      "outputs": [
        {
          "name": "stdout",
          "text": "Found queued model, still waiting.\ntunedModels/newsgroup-classification-model-eevzw9f0t\n",
          "output_type": "stream"
        }
      ],
      "execution_count": null
    },
    {
      "cell_type": "markdown",
      "source": [
        "This has created a tuning job that will run in the background. To inspect the progress of the tuning job, run this cell to plot the current status and loss curve. Once the status reaches `ACTIVE`, tuning is complete and the model is ready to use.\n",
        "\n",
        "Tuning jobs are queued, so it may look like no training steps have been taken initially but it will progress. Tuning can take anywhere from a few minutes to multiple hours, depending on factors like your dataset size and how busy the tuning infrastrature is. Why not treat yourself to a nice cup of tea while you wait, or come and say \"Hi!\" in the group [Discord](https://discord.com/invite/kaggle).\n",
        "\n",
        "It is safe to stop this cell at any point. It will not stop the tuning job.\n",
        "\n",
        "**IMPORTANT**: Due to the high volume of users doing this course, tuning jobs may be queued for many hours. Take a note of your tuned model ID above (`tunedModels/...`) so you can come back to it tomorrow. In the meantime, check out the [Search grounding](https://www.kaggle.com/code/markishere/day-4-google-search-grounding/) codelab. If you want to try tuning a local LLM, check out [the fine-tuning guides for tuning a Gemma model](https://ai.google.dev/gemma/docs/tune)."
      ],
      "metadata": {
        "id": "NQ3YZ2MBubCY"
      }
    },
    {
      "cell_type": "code",
      "source": [
        "import datetime\n",
        "import time\n",
        "\n",
        "\n",
        "MAX_WAIT = datetime.timedelta(minutes=10)\n",
        "\n",
        "while not (tuned_model := client.tunings.get(name=model_id)).has_ended:\n",
        "\n",
        "    print(tuned_model.state)\n",
        "    time.sleep(60)\n",
        "\n",
        "    # Don't wait too long. Use a public model if this is going to take a while.\n",
        "    if datetime.datetime.now(datetime.timezone.utc) - tuned_model.create_time > MAX_WAIT:\n",
        "        print(\"Taking a shortcut, using a previously prepared model.\")\n",
        "        model_id = \"tunedModels/newsgroup-classification-model-ltenbi1b\"\n",
        "        tuned_model = client.tunings.get(name=model_id)\n",
        "        break\n",
        "\n",
        "\n",
        "print(f\"Done! The model state is: {tuned_model.state.name}\")\n",
        "\n",
        "if not tuned_model.has_succeeded and tuned_model.error:\n",
        "    print(\"Error:\", tuned_model.error)"
      ],
      "metadata": {
        "id": "c4ef5f13692d",
        "trusted": true,
        "execution": {
          "iopub.status.busy": "2025-04-03T03:48:56.739803Z",
          "iopub.execute_input": "2025-04-03T03:48:56.740314Z",
          "iopub.status.idle": "2025-04-03T03:49:57.257654Z",
          "shell.execute_reply.started": "2025-04-03T03:48:56.740263Z",
          "shell.execute_reply": "2025-04-03T03:49:57.256546Z"
        },
        "outputId": "9af49e96-d760-48a8-fbd5-c6dcad4899dd"
      },
      "outputs": [
        {
          "name": "stdout",
          "text": "JobState.JOB_STATE_RUNNING\nTaking a shortcut, using a previously prepared model.\nDone! The model state is: JOB_STATE_SUCCEEDED\n",
          "output_type": "stream"
        }
      ],
      "execution_count": null
    },
    {
      "cell_type": "markdown",
      "source": [
        "## Use the new model\n",
        "\n",
        "Now that you have a tuned model, try it out with custom data. You use the same API as a normal Gemini API interaction, but you specify your new model as the model name, which will start with `tunedModels/`."
      ],
      "metadata": {
        "id": "9-qiIdK4u80z"
      }
    },
    {
      "cell_type": "code",
      "source": [
        "new_text = \"\"\"\n",
        "First-timer looking to get out of here.\n",
        "\n",
        "Hi, I'm writing about my interest in travelling to the outer limits!\n",
        "\n",
        "What kind of craft can I buy? What is easiest to access from this 3rd rock?\n",
        "\n",
        "Let me know how to do that please.\n",
        "\"\"\"\n",
        "\n",
        "response = client.models.generate_content(\n",
        "    model=model_id, contents=new_text)\n",
        "\n",
        "print(response.text)"
      ],
      "metadata": {
        "id": "hyO2-MXLvM6a",
        "trusted": true,
        "execution": {
          "iopub.status.busy": "2025-04-03T03:49:57.259311Z",
          "iopub.execute_input": "2025-04-03T03:49:57.259756Z",
          "iopub.status.idle": "2025-04-03T03:49:58.202378Z",
          "shell.execute_reply.started": "2025-04-03T03:49:57.25971Z",
          "shell.execute_reply": "2025-04-03T03:49:58.201311Z"
        },
        "outputId": "56d5b0ec-3b4e-415f-e8bf-362d29da2625"
      },
      "outputs": [
        {
          "name": "stdout",
          "text": "sci.space\n",
          "output_type": "stream"
        }
      ],
      "execution_count": null
    },
    {
      "cell_type": "markdown",
      "source": [
        "### Evaluation\n",
        "\n",
        "You can see that the model outputs labels that correspond to those in the training data, and without any system instructions or prompting, which is already a great improvement. Now see how well it performs on the test set.\n",
        "\n",
        "Note that there is no parallelism in this example; classifying the test sub-set will take a few minutes."
      ],
      "metadata": {
        "id": "xajLek9DySH_"
      }
    },
    {
      "cell_type": "code",
      "source": [
        "@retry.Retry(predicate=is_retriable)\n",
        "def classify_text(text: str) -> str:\n",
        "    \"\"\"Classify the provided text into a known newsgroup.\"\"\"\n",
        "    response = client.models.generate_content(\n",
        "        model=model_id, contents=text)\n",
        "    rc = response.candidates[0]\n",
        "\n",
        "    # Any errors, filters, recitation, etc we can mark as a general error\n",
        "    if rc.finish_reason.name != \"STOP\":\n",
        "        return \"(error)\"\n",
        "    else:\n",
        "        return rc.content.parts[0].text\n",
        "\n",
        "\n",
        "# The sampling here is just to minimise your quota usage. If you can, you should\n",
        "# evaluate the whole test set with `df_model_eval = df_test.copy()`.\n",
        "df_model_eval = sample_data(df_test, 4, '.*')\n",
        "\n",
        "df_model_eval[\"Prediction\"] = df_model_eval[\"Text\"].progress_apply(classify_text)\n",
        "\n",
        "accuracy = (df_model_eval[\"Class Name\"] == df_model_eval[\"Prediction\"]).sum() / len(df_model_eval)\n",
        "print(f\"Accuracy: {accuracy:.2%}\")"
      ],
      "metadata": {
        "id": "6T2Y3ZApvbMw",
        "trusted": true,
        "execution": {
          "iopub.status.busy": "2025-04-03T03:49:58.2038Z",
          "iopub.execute_input": "2025-04-03T03:49:58.204264Z",
          "iopub.status.idle": "2025-04-03T03:52:15.090641Z",
          "shell.execute_reply.started": "2025-04-03T03:49:58.204197Z",
          "shell.execute_reply": "2025-04-03T03:52:15.089173Z"
        },
        "outputId": "95239960-1356-46b2-d298-d991f8b57345",
        "colab": {
          "referenced_widgets": [
            "c36eb4ceeb194b91bb61090f31ca33a8"
          ]
        }
      },
      "outputs": [
        {
          "output_type": "display_data",
          "data": {
            "text/plain": "Output()",
            "application/vnd.jupyter.widget-view+json": {
              "version_major": 2,
              "version_minor": 0,
              "model_id": "c36eb4ceeb194b91bb61090f31ca33a8"
            }
          },
          "metadata": {}
        },
        {
          "output_type": "display_data",
          "data": {
            "text/plain": "",
            "text/html": "<pre style=\"white-space:pre;overflow-x:auto;line-height:normal;font-family:Menlo,'DejaVu Sans Mono',consolas,'Courier New',monospace\"></pre>\n"
          },
          "metadata": {}
        },
        {
          "output_type": "display_data",
          "data": {
            "text/plain": "\n",
            "text/html": "<pre style=\"white-space:pre;overflow-x:auto;line-height:normal;font-family:Menlo,'DejaVu Sans Mono',consolas,'Courier New',monospace\">\n</pre>\n"
          },
          "metadata": {}
        },
        {
          "name": "stdout",
          "text": "Accuracy: 93.75%\n",
          "output_type": "stream"
        }
      ],
      "execution_count": null
    },
    {
      "cell_type": "markdown",
      "source": [
        "## Compare token usage\n",
        "\n",
        "AI Studio and the Gemini API provide model tuning at no cost, however normal limits and charges apply for *use* of a tuned model.\n",
        "\n",
        "The size of the input prompt and other generation config like system instructions, as well as the number of generated output tokens, all contribute to the overall cost of a request."
      ],
      "metadata": {
        "id": "OQ3uWCurybhl"
      }
    },
    {
      "cell_type": "code",
      "source": [
        "# Calculate the *input* cost of the baseline model with system instructions.\n",
        "sysint_tokens = client.models.count_tokens(\n",
        "    model='gemini-1.5-flash-001', contents=[system_instruct, sample_row]\n",
        ").total_tokens\n",
        "print(f'System instructed baseline model: {sysint_tokens} (input)')\n",
        "\n",
        "# Calculate the input cost of the tuned model.\n",
        "tuned_tokens = client.models.count_tokens(model=tuned_model.base_model, contents=sample_row).total_tokens\n",
        "print(f'Tuned model: {tuned_tokens} (input)')\n",
        "\n",
        "savings = (sysint_tokens - tuned_tokens) / tuned_tokens\n",
        "print(f'Token savings: {savings:.2%}')  # Note that this is only n=1."
      ],
      "metadata": {
        "trusted": true,
        "execution": {
          "iopub.status.busy": "2025-04-03T03:52:15.091983Z",
          "iopub.execute_input": "2025-04-03T03:52:15.092365Z",
          "iopub.status.idle": "2025-04-03T03:52:15.333424Z",
          "shell.execute_reply.started": "2025-04-03T03:52:15.092331Z",
          "shell.execute_reply": "2025-04-03T03:52:15.332311Z"
        },
        "id": "qKhCrO8sybhm",
        "outputId": "b274f9bb-e442-473a-e675-9a7bbc75d456"
      },
      "outputs": [
        {
          "name": "stdout",
          "text": "System instructed baseline model: 172 (input)\nTuned model: 136 (input)\nToken savings: 26.47%\n",
          "output_type": "stream"
        }
      ],
      "execution_count": null
    },
    {
      "cell_type": "markdown",
      "source": [
        "The earlier verbose model also produced more output tokens than needed for this task."
      ],
      "metadata": {
        "id": "afFCEwkjybhn"
      }
    },
    {
      "cell_type": "code",
      "source": [
        "baseline_token_output = baseline_response.usage_metadata.candidates_token_count\n",
        "print('Baseline (verbose) output tokens:', baseline_token_output)\n",
        "\n",
        "tuned_model_output = client.models.generate_content(\n",
        "    model=model_id, contents=sample_row)\n",
        "tuned_tokens_output = tuned_model_output.usage_metadata.candidates_token_count\n",
        "print('Tuned output tokens:', tuned_tokens_output)"
      ],
      "metadata": {
        "trusted": true,
        "execution": {
          "iopub.status.busy": "2025-04-03T03:52:15.337204Z",
          "iopub.execute_input": "2025-04-03T03:52:15.337562Z",
          "iopub.status.idle": "2025-04-03T03:52:16.400032Z",
          "shell.execute_reply.started": "2025-04-03T03:52:15.337532Z",
          "shell.execute_reply": "2025-04-03T03:52:16.398819Z"
        },
        "id": "tDMDbrywybhn",
        "outputId": "fdcd0b41-090d-4167-da85-7d1431d037aa"
      },
      "outputs": [
        {
          "name": "stdout",
          "text": "Baseline (verbose) output tokens: 230\nTuned output tokens: 3\n",
          "output_type": "stream"
        }
      ],
      "execution_count": null
    },
    {
      "cell_type": "markdown",
      "source": [
        "## Next steps\n",
        "\n",
        "Now that you have tuned a classification model, try some other tasks, like tuning a model to respond with a specific tone or style using hand-written examples (or even generated examples!). Kaggle hosts [a number of datasets](https://www.kaggle.com/datasets) you can try out.\n",
        "\n",
        "Learn about [when supervised fine-tuning is most effective](https://cloud.google.com/blog/products/ai-machine-learning/supervised-fine-tuning-for-gemini-llm).\n",
        "\n",
        "And check out the [fine-tuning tutorial](https://ai.google.dev/gemini-api/docs/model-tuning/tutorial?hl=en&lang=python) for another example that shows a tuned model extending beyond the training data to new, unseen inputs.\n",
        "\n",
        "*- [Mark McD](https://linktr.ee/markmcd)*"
      ],
      "metadata": {
        "id": "6c1204a5d0ab"
      }
    }
  ]
}